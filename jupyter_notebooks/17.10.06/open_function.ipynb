{
 "cells": [
  {
   "cell_type": "code",
   "execution_count": 28,
   "metadata": {},
   "outputs": [
    {
     "data": {
      "application/javascript": [
       "IPython.notebook.set_autosave_interval(20000)"
      ]
     },
     "metadata": {},
     "output_type": "display_data"
    },
    {
     "name": "stdout",
     "output_type": "stream",
     "text": [
      "Autosaving every 20 seconds\n"
     ]
    }
   ],
   "source": [
    "%autosave 20"
   ]
  },
  {
   "cell_type": "code",
   "execution_count": 15,
   "metadata": {},
   "outputs": [
    {
     "name": "stdout",
     "output_type": "stream",
     "text": [
      "['# a b c\\n', '1 2 3\\n', '2 2.45 3.14\\n', '3 5.56 -2.4']\n",
      "# a b c\n",
      "1 2 3\n",
      "2 2.45 3.14\n",
      "3 5.56 -2.4\n"
     ]
    }
   ],
   "source": [
    "f = open('./tmp.txt', 'r')\n",
    "l = f.readlines()\n",
    "print(l)\n",
    "f.seek(0)\n",
    "print(f.read())\n",
    "f.close()"
   ]
  },
  {
   "cell_type": "code",
   "execution_count": 18,
   "metadata": {},
   "outputs": [
    {
     "name": "stdout",
     "output_type": "stream",
     "text": [
      "True\n",
      "['1 2 3\\n', '2 2.45 3.14\\n', '3 5.56 -2.4']\n",
      "True\n"
     ]
    }
   ],
   "source": [
    "f = open('./tmp.txt', 'r')\n",
    "s = f.readline()\n",
    "print(s.endswith('\\n'))\n",
    "l = f.readlines()\n",
    "print(l)\n",
    "print(f.read() == '')\n",
    "f.close()"
   ]
  },
  {
   "cell_type": "code",
   "execution_count": 20,
   "metadata": {},
   "outputs": [
    {
     "name": "stdout",
     "output_type": "stream",
     "text": [
      "# a b c\n",
      "\n",
      "1 2 3\n",
      "\n",
      "2 2.45 3.14\n",
      "\n",
      "3 5.56 -2.4\n",
      "\n",
      "# a b c\n",
      "\n",
      "1 2 3\n",
      "\n",
      "2 2.45 3.14\n",
      "\n",
      "3 5.56 -2.4\n",
      "# a b c\n",
      "\n",
      "1 2 3\n",
      "\n",
      "2 2.45 3.14\n",
      "\n",
      "3 5.56 -2.4\n"
     ]
    }
   ],
   "source": [
    "f = open('./tmp.txt', 'r')\n",
    "line = '1'\n",
    "while line != '':\n",
    "    line = f.readline()\n",
    "    print(line)\n",
    "f.seek(0)    \n",
    "for line in f.readlines():\n",
    "    print(line)\n",
    "f.seek(0)\n",
    "# Write way\n",
    "for line in f:\n",
    "    print(line)\n",
    "f.close()"
   ]
  },
  {
   "cell_type": "code",
   "execution_count": 23,
   "metadata": {},
   "outputs": [
    {
     "name": "stdout",
     "output_type": "stream",
     "text": [
      "['# a b c\\n', '1 2 3\\n', '2 2.45 3.14\\n', '3 5.56 -2.4']\n",
      "True\n"
     ]
    }
   ],
   "source": [
    "with open('./tmp.txt') as f:\n",
    "    s = f.readlines()\n",
    "    print(s)\n",
    "print(f.closed)"
   ]
  },
  {
   "cell_type": "code",
   "execution_count": 27,
   "metadata": {},
   "outputs": [],
   "source": [
    "with open('./new.txt', 'w') as f:\n",
    "    f.write('Hello\\n')\n",
    "with open('./new.txt', 'a') as f: \n",
    "    f.write('World\\n')"
   ]
  },
  {
   "cell_type": "code",
   "execution_count": 31,
   "metadata": {},
   "outputs": [
    {
     "name": "stdout",
     "output_type": "stream",
     "text": [
      "b'\\xff\\xd8\\xff\\xe0\\x00\\x10JFIF\\x00\\x01\\x01\\x00\\x00\\x01\\x00\\x01\\x00\\x00\\xff\\xfe\\x00;CREATOR: gd-jpeg v1.0 (using IJG JPEG v80), quality = 85\\n\\xff\\xdb\\x00C\\x00\\x05\\x03\\x04\\x04\\x04\\x03\\x05\\x04\\x04\\x04\\x05\\x05\\x05\\x06\\x07\\x0c\\x08\\x07\\x07\\x07\\x07\\x0f\\x0b\\x0b\\t\\x0c\\x11\\x0f\\x12\\x12\\x11\\x0f\\x11\\x11\\x13\\x16\\x1c\\x17\\x13\\x14\\x1a\\x15\\x11\\x11\\x18!\\x18\\x1a\\x1d\\x1d\\x1f\\x1f\\x1f\\x13\\x17\"$\"\\x1e$\\x1c\\x1e\\x1f\\x1e\\xff\\xdb\\x00C\\x01\\x05\\x05\\x05\\x07\\x06\\x07\\x0e\\x08\\x08\\x0e\\x1e\\x14\\x11\\x14\\x1e\\x1e\\x1e\\x1e\\x1e\\x1e\\x1e\\x1e\\x1e\\x1e\\x1e\\x1e\\x1e\\x1e\\x1e\\x1e\\x1e\\x1e\\x1e\\x1e\\x1e\\x1e\\x1e\\x1e\\x1e\\x1e\\x1e\\x1e\\x1e\\x1e\\x1e\\x1e\\x1e\\x1e\\x1e\\x1e\\x1e\\x1e\\x1e\\x1e\\x1e\\x1e\\x1e\\x1e\\x1e\\x1e\\x1e\\x1e\\x1e\\x1e\\xff\\xc0\\x00\\x11\\x08\\x04\\xb0\\x07\\x80\\x03\\x01\"\\x00\\x02\\x11\\x01\\x03\\x11\\x01\\xff\\xc4\\x00\\x1f\\x00\\x00\\x01\\x05\\x01\\x01\\x01\\x01\\x01\\x01\\x00\\x00\\x00\\x00\\x00\\x00\\x00\\x00\\x01\\x02\\x03\\x04\\x05\\x06\\x07\\x08\\t\\n\\x0b\\xff\\xc4\\x00\\xb5\\x10\\x00\\x02\\x01\\x03\\x03\\x02\\x04\\x03\\x05\\x05\\x04\\x04\\x00\\x00\\x01}\\x01\\x02\\x03\\x00\\x04\\x11\\x05\\x12!1A\\x06\\x13Qa\\x07\"q\\x142\\x81\\x91\\xa1\\x08#B\\xb1\\xc1\\x15R\\xd1\\xf0$3br\\x82\\t\\n\\x16\\x17\\x18\\x19\\x1a%&\\'()*456789:CDEFGHIJSTUVWXYZcdefghijstuvwxyz\\x83\\x84\\x85\\x86\\x87\\x88\\x89\\x8a\\x92\\x93\\x94\\x95\\x96\\x97\\x98\\x99\\x9a\\xa2\\xa3\\xa4\\xa5\\xa6\\xa7\\xa8\\xa9\\xaa\\xb2\\xb3\\xb4\\xb5\\xb6\\xb7\\xb8\\xb9\\xba\\xc2\\xc3\\xc4\\xc5\\xc6\\xc7\\xc8\\xc9\\xca\\xd2\\xd3\\xd4\\xd5\\xd6\\xd7\\xd8\\xd9\\xda\\xe1\\xe2\\xe3\\xe4\\xe5\\xe6\\xe7\\xe8\\xe9\\xea\\xf1\\xf2\\xf3\\xf4\\xf5\\xf6\\xf7\\xf8\\xf9\\xfa\\xff\\xc4\\x00\\x1f\\x01\\x00\\x03\\x01\\x01\\x01\\x01\\x01\\x01\\x01\\x01\\x01\\x00\\x00\\x00\\x00\\x00\\x00\\x01\\x02\\x03\\x04\\x05\\x06\\x07\\x08\\t\\n\\x0b\\xff\\xc4\\x00\\xb5\\x11\\x00\\x02\\x01\\x02\\x04\\x04\\x03\\x04\\x07\\x05\\x04\\x04\\x00\\x01\\x02w\\x00\\x01\\x02\\x03\\x11\\x04\\x05!1\\x06\\x12AQ\\x07aq\\x13\"2\\x81\\x08\\x14B\\x91\\xa1\\xb1\\xc1\\t#3R\\xf0\\x15br\\xd1\\n\\x16$4\\xe1%\\xf1\\x17\\x18\\x19\\x1a&\\'()*56789:CDEFGHIJSTUVWXYZcdefghijstuvwxyz\\x82\\x83\\x84\\x85\\x86\\x87\\x88\\x89\\x8a\\x92\\x93\\x94\\x95\\x96\\x97\\x98\\x99\\x9a\\xa2\\xa3\\xa4\\xa5\\xa6\\xa7\\xa8\\xa9\\xaa\\xb2\\xb3\\xb4\\xb5\\xb6\\xb7\\xb8\\xb9\\xba\\xc2\\xc3\\xc4\\xc5\\xc6\\xc7\\xc8\\xc9\\xca\\xd2\\xd3\\xd4\\xd5\\xd6\\xd7\\xd8\\xd9\\xda\\xe2\\xe3\\xe4\\xe5\\xe6\\xe7\\xe8\\xe9\\xea\\xf2\\xf3\\xf4\\xf5\\xf6\\xf7\\xf8\\xf9\\xfa\\xff\\xda\\x00\\x0c\\x03\\x01\\x00\\x02\\x11\\x03\\x11\\x00?\\x00\\xfa\\x15EK\\xfcT*b\\x95j\\xc0M\\xb5\"\\xd2m\\xf9\\xa9Wu)\\x14\\rE&\\xda]\\xb4\\x00\\xea)\\x94\\xb8j\\x90\\n\\x91i\\xbbi\\xd4\\x00\\xdf\\xe2\\xa2\\x9b\\xfcTm\\xa0\\x07m\\xa2\\x8f\\x9b\\xfd\\x9a?\\x8a\\x80\\x1bL\\xfe*}#}\\xef\\xee\\xd0\\x03>o\\xee\\xd0\\xd4\\xac(\\xfe*\\xa0\\x13m7\\x1b~\\xed>\\x98\\xdf{\\xe5\\xa9\\x01\\xac(\\xa7Q\\xff\\x00\\x01\\xaa\\x01\\xadF\\xda\\x92\\x9b\\xb6\\x80\\x1b\\xc5\\x14l\\xa3\\xfd\\x9a\\x00u\\x1b[\\xfb\\xd4\\xea\\x16\\x80\\nn\\xdau\\x14\\x00\\xdc-5\\x97\\xfb\\xb5%\\x15 6\\x8au6\\x80\\x1b\\xfcTQG\\x14\\x00QI\\xfe\\xf5.\\xda\\x00(\\xa2\\x9c\\xb4\\x00S\\xbf\\x8a\\x8f\\xe2\\xa3\\xf8\\xa8\\x01\\xebMj\\x16\\x9c\\xd4\\x00\\xcd\\x8bK\\xb7\\xe5\\xa7S\\x7f\\xde\\xa0\\x07\\xd1I\\xdbm\\x1b~Z\\t\\x15i\\xcbMZu\\x05\\x0e\\xa1i\\xaa>jsP\\x02\\xd0\\xa2\\x99\\xbb\\xe6\\xa3uH\\x12\\xd3Z\\x91O\\xf0\\xd2\\xe1\\xa8\\x18\\x8dE\\x1b[\\xf8\\xa9p\\xb4\\x08u\\x14\\xda(\\x01\\xf4\\x94\\xda\\x1b\\xee\\xd5\\x00\\xe6\\xfb\\xb5\\x13}\\xeas\\x1f\\x96\\xa3\\xa0\\t)i\\x8bC\\x1a\\x00\\x18|\\xd4\\xdc-\\x1dh\\xdb@\\x0e\\xa3\\xf8\\xa9\\xb4\\xea\\x00v\\xea)\\xb9\\xfe\\xed:\\x80\\x16\\x93\\xfd\\xea\\x1a\\x86\\xfb\\xb4\\x00\\xbf\\xc3B\\xee\\xddB\\xfd\\xdd\\xb4\\xea\\x00_\\xe1\\xa2\\x92\\x97\\xfd\\x9a\\xa2G/\\xdd\\xa77\\xdd\\xa8\\xe9\\xd5%\\x0e\\xfe\\x1aF\\xfb'\n"
     ]
    }
   ],
   "source": [
    "with open('cat.jpg', 'rb') as f:\n",
    "    print(f.read(1024))"
   ]
  },
  {
   "cell_type": "code",
   "execution_count": null,
   "metadata": {
    "collapsed": true
   },
   "outputs": [],
   "source": []
  }
 ],
 "metadata": {
  "kernelspec": {
   "display_name": "Python 3",
   "language": "python",
   "name": "python3"
  },
  "language_info": {
   "codemirror_mode": {
    "name": "ipython",
    "version": 3
   },
   "file_extension": ".py",
   "mimetype": "text/x-python",
   "name": "python",
   "nbconvert_exporter": "python",
   "pygments_lexer": "ipython3",
   "version": "3.6.2"
  }
 },
 "nbformat": 4,
 "nbformat_minor": 2
}
