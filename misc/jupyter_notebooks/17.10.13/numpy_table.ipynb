{
 "cells": [
  {
   "cell_type": "code",
   "execution_count": 1,
   "metadata": {},
   "outputs": [
    {
     "data": {
      "application/javascript": [
       "IPython.notebook.set_autosave_interval(2000)"
      ]
     },
     "metadata": {},
     "output_type": "display_data"
    },
    {
     "name": "stdout",
     "output_type": "stream",
     "text": [
      "Autosaving every 2 seconds\n"
     ]
    }
   ],
   "source": [
    "%autosave 2\n",
    "%matplotlib inline\n",
    "import numpy as np\n",
    "import pandas"
   ]
  },
  {
   "cell_type": "code",
   "execution_count": 2,
   "metadata": {
    "collapsed": true
   },
   "outputs": [],
   "source": [
    "?np.loadtxt"
   ]
  },
  {
   "cell_type": "code",
   "execution_count": 17,
   "metadata": {},
   "outputs": [
    {
     "name": "stdout",
     "output_type": "stream",
     "text": [
      "#t    Mdot Mdisk Rhot Cirrout H2R   Teffout Tirrout Qiir2Qvisout Lx    mU  mB  mV  mR  mI  mJ \n",
      "\n",
      "(201,)\n",
      "[('t', '<f8'), ('H2R', '<f8')]\n",
      "( 0.,  0.0990702)\n",
      "[ 0.    0.25  0.5   0.75  1.  ]\n"
     ]
    }
   ],
   "source": [
    "filename = 'freddi.dat'\n",
    "with open(filename) as f:\n",
    "    print(f.readline())\n",
    "table = np.genfromtxt(filename, names=True, usecols=(0,5))\n",
    "print(table.shape)\n",
    "print(table.dtype)\n",
    "print(table[0])\n",
    "print(table['t'][:5])"
   ]
  },
  {
   "cell_type": "code",
   "execution_count": 31,
   "metadata": {},
   "outputs": [
    {
     "name": "stdout",
     "output_type": "stream",
     "text": [
      "(101,)\n",
      "[('a', '<f8'), ('b', '<U10')]\n",
      "[( 0.  , 'U.U99U7U2') ( 0.25, 'U.U939382') ( 0.5 , 'U.U916451')\n",
      " ( 0.75, 'U.U9UU89') ( 1.  , 'U.U888923')]\n"
     ]
    }
   ],
   "source": [
    "table = np.genfromtxt(\n",
    "    filename,\n",
    "    usecols=(0,5),\n",
    "    skip_header=10,\n",
    "    skip_footer=100,\n",
    "    comments='#',\n",
    "    dtype=[('a', np.float), ('b', '|U10')],\n",
    "    converters={5: lambda s: s.replace(b'0', b'U')}\n",
    ")\n",
    "print(table.shape)\n",
    "print(table.dtype)\n",
    "print(table[:5])"
   ]
  },
  {
   "cell_type": "code",
   "execution_count": null,
   "metadata": {
    "collapsed": true
   },
   "outputs": [],
   "source": []
  }
 ],
 "metadata": {
  "kernelspec": {
   "display_name": "Python 3",
   "language": "python",
   "name": "python3"
  },
  "language_info": {
   "codemirror_mode": {
    "name": "ipython",
    "version": 3
   },
   "file_extension": ".py",
   "mimetype": "text/x-python",
   "name": "python",
   "nbconvert_exporter": "python",
   "pygments_lexer": "ipython3",
   "version": "3.6.2"
  }
 },
 "nbformat": 4,
 "nbformat_minor": 2
}
