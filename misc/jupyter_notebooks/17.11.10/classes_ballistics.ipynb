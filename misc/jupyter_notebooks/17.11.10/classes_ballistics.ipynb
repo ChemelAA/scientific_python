{
 "cells": [
  {
   "cell_type": "code",
   "execution_count": 1,
   "metadata": {},
   "outputs": [
    {
     "data": {
      "application/javascript": [
       "IPython.notebook.set_autosave_interval(2000)"
      ]
     },
     "metadata": {},
     "output_type": "display_data"
    },
    {
     "name": "stdout",
     "output_type": "stream",
     "text": [
      "Autosaving every 2 seconds\n"
     ]
    }
   ],
   "source": [
    "%autosave 2\n",
    "%matplotlib inline\n",
    "import matplotlib.pyplot as plt\n",
    "import numpy as np"
   ]
  },
  {
   "cell_type": "code",
   "execution_count": 9,
   "metadata": {},
   "outputs": [
    {
     "name": "stdout",
     "output_type": "stream",
     "text": [
      "[-1.  2.  3.]\n",
      "[-0.77899058  1.71200928  3.04787281]\n",
      "length 4.52552518093 t_air 0.947117610298 v(0.5) 5.99185274855\n"
     ]
    },
    {
     "data": {
      "image/png": "[encoded data removed]",
      "text/plain": [
       "<matplotlib.figure.Figure at 0x7f78dc725b70>"
      ]
     },
     "metadata": {},
     "output_type": "display_data"
    }
   ],
   "source": [
    "x = np.r_[0:1:11j]\n",
    "p_actual = -np.poly((-1, 3))  # -x^2 + 2x + 3\n",
    "print(p_actual)\n",
    "y_actual = np.polyval(p_actual, x)\n",
    "y_noised = y_actual + np.random.uniform(-0.1, 0.1,\n",
    "                                        size=y_actual.shape)\n",
    "plt.plot(x, y_actual, '-', x, y_noised, 'x')\n",
    "\n",
    "p = np.polyfit(x, y_noised, deg=2)\n",
    "print(p)\n",
    "y = np.polyval(p, x)\n",
    "plt.plot(x, y, '--')\n",
    "\n",
    "x1, x2 = np.roots(p)\n",
    "length = abs(x2 - x1)\n",
    "y_max = -p[1] / (2 * p[0])\n",
    "g = 9.8\n",
    "t_max = np.sqrt(2 * y_max / g)\n",
    "t_air = 2 * t_max\n",
    "v_x = length / t_air\n",
    "v_y0 = g * t_max\n",
    "phi0 = np.arctan(2 * p[0] * x1 + p[1])  # v_y0 / vx\n",
    "def t(x):\n",
    "    return x / v_x\n",
    "def v_y(x):\n",
    "    return v_y0 - g * t(x)\n",
    "def v(x):\n",
    "    return np.sqrt(v_x**2 + v_y(x)**2)\n",
    "\n",
    "print('length', length, 't_air', t_air, 'v(0.5)', v(0.5))"
   ]
  },
  {
   "cell_type": "code",
   "execution_count": 15,
   "metadata": {},
   "outputs": [
    {
     "name": "stdout",
     "output_type": "stream",
     "text": [
      "5.99185274855\n"
     ]
    }
   ],
   "source": [
    "def find_orbit(x, y_noised):\n",
    "    p = np.polyfit(x, y_noised, deg=2)\n",
    "    return p\n",
    "#     y = np.polyval(p, x)\n",
    "\n",
    "def find_vx(p, x_v):\n",
    "    x1, x2 = np.roots(p)\n",
    "    length = abs(x2 - x1)\n",
    "    y_max = -p[1] / (2 * p[0])\n",
    "    g = 9.8\n",
    "    t_max = np.sqrt(2 * y_max / g)\n",
    "    t_air = 2 * t_max\n",
    "    v_x = length / t_air\n",
    "    v_y0 = g * t_max\n",
    "    phi0 = np.arctan(2 * p[0] * x1 + p[1])  # v_y0 / vx\n",
    "    def t(x):\n",
    "        return x / v_x\n",
    "    def v_y(x):\n",
    "        return v_y0 - g * t(x)\n",
    "    def v(x):\n",
    "        return np.sqrt(v_x**2 + v_y(x)**2)\n",
    "    return (length, t_air, v(x_v))\n",
    "\n",
    "orbit = find_orbit(x, y_noised)\n",
    "_, _, v_x = find_vx(orbit, 0.5)\n",
    "print(v_x)"
   ]
  },
  {
   "cell_type": "code",
   "execution_count": 30,
   "metadata": {},
   "outputs": [
    {
     "name": "stdout",
     "output_type": "stream",
     "text": [
      "4.77820825178\n",
      "5.99185274855\n",
      "Orbit, horizontal speed 4.778\n"
     ]
    },
    {
     "data": {
      "text/plain": [
       "orbit instance"
      ]
     },
     "execution_count": 30,
     "metadata": {},
     "output_type": "execute_result"
    }
   ],
   "source": [
    "class Orbit:\n",
    "    g = 9.8\n",
    "    \n",
    "    def __init__(self, x, y_noised):\n",
    "        self.p = np.polyfit(x, y_noised, deg=2)\n",
    "        x1, x2 = np.roots(p)\n",
    "        self.length = abs(x2 - x1)\n",
    "        self.y_max = -self.p[1] / (2 * self.p[0])\n",
    "        self.t_max = np.sqrt(2 * self.y_max / self.g)\n",
    "        self.t_air = 2 * self.t_max\n",
    "        self.v_x = self.length / self.t_air\n",
    "        self.v_y0 = self.g * self.t_max\n",
    "        self.phi0 = np.arctan(2 * self.p[0] * x1 + self.p[1])  # v_y0 / vx\n",
    "\n",
    "    def t(self, x):\n",
    "        return x / self.v_x\n",
    "    \n",
    "    def v_y(self, x):\n",
    "        return self.v_y0 - self.g * self.t(x)\n",
    "    \n",
    "    def v(self, x):\n",
    "        return np.sqrt(self.v_x**2 + self.v_y(x)**2)\n",
    "    \n",
    "    def __repr__(self):\n",
    "        return 'orbit instance'\n",
    "    \n",
    "    def __str__(self):\n",
    "        return 'Orbit, horizontal speed {:.3f}'.format(self.v_x)\n",
    "\n",
    "\n",
    "orbit = Orbit(x, y_noised)\n",
    "print(orbit.v_x)\n",
    "print(orbit.v(0.5))\n",
    "print(str(orbit))\n",
    "orbit"
   ]
  },
  {
   "cell_type": "code",
   "execution_count": null,
   "metadata": {
    "collapsed": true
   },
   "outputs": [],
   "source": [
    "np.math.factorial"
   ]
  }
 ],
 "metadata": {
  "kernelspec": {
   "display_name": "Python 3",
   "language": "python",
   "name": "python3"
  },
  "language_info": {
   "codemirror_mode": {
    "name": "ipython",
    "version": 3
   },
   "file_extension": ".py",
   "mimetype": "text/x-python",
   "name": "python",
   "nbconvert_exporter": "python",
   "pygments_lexer": "ipython3",
   "version": "3.6.2"
  }
 },
 "nbformat": 4,
 "nbformat_minor": 2
}
