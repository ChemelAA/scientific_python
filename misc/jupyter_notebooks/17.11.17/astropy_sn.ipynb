{
 "cells": [
  {
   "cell_type": "code",
   "execution_count": 8,
   "metadata": {},
   "outputs": [
    {
     "data": {
      "application/javascript": [
       "IPython.notebook.set_autosave_interval(10000)"
      ]
     },
     "metadata": {},
     "output_type": "display_data"
    },
    {
     "name": "stdout",
     "output_type": "stream",
     "text": [
      "Autosaving every 10 seconds\n"
     ]
    }
   ],
   "source": [
    "%autosave 10\n",
    "%matplotlib inline\n",
    "import matplotlib.pyplot as plt\n",
    "import numpy as np\n",
    "from scipy import optimize, integrate\n",
    "import astropy.units as u\n",
    "import astropy.constants as c\n",
    "from astropy import cosmology\n",
    "from astroquery.vizier import Vizier"
   ]
  },
  {
   "cell_type": "code",
   "execution_count": 7,
   "metadata": {},
   "outputs": [
    {
     "data": {
      "text/html": [
       "&lt;Table masked=True length=740&gt;\n",
       "<table id=\"table139760951448184\" class=\"table-striped table-bordered table-condensed\">\n",
       "<thead><tr><th>Name</th><th>zcmb</th><th>zhel</th><th>mb</th><th>e_mb</th><th>x1</th><th>e_x1</th><th>c</th><th>e_c</th><th>logMst</th><th>e_logMst</th><th>tmax</th><th>e_tmax</th><th>cov_mb_s_</th><th>cov_mb_c_</th><th>cov_s_c_</th><th>set</th><th>RAJ2000</th><th>DEJ2000</th><th>bias</th><th>SimbadName</th></tr></thead>\n",
       "<thead><tr><th></th><th></th><th></th><th>mag</th><th>mag</th><th></th><th></th><th></th><th></th><th>[Msun]</th><th>[Msun]</th><th>d</th><th>d</th><th></th><th></th><th></th><th></th><th>deg</th><th>deg</th><th>mag</th><th></th></tr></thead>\n",
       "<thead><tr><th>bytes12</th><th>float32</th><th>float32</th><th>float32</th><th>float32</th><th>float32</th><th>float32</th><th>float32</th><th>float32</th><th>float32</th><th>float32</th><th>float64</th><th>float32</th><th>float32</th><th>float32</th><th>float32</th><th>uint8</th><th>float64</th><th>float64</th><th>float32</th><th>bytes17</th></tr></thead>\n",
       "<tr><td>03D1au</td><td>0.503</td><td>0.5043</td><td>23.002</td><td>0.088</td><td>1.273</td><td>0.150</td><td>-0.012</td><td>0.030</td><td>9.517</td><td>0.110</td><td>52909.745</td><td>0.214</td><td>0.00079</td><td>0.00044</td><td>-0.00003</td><td>1</td><td>36.043210</td><td>-4.037469</td><td>0.002</td><td>SNLS 03D1au</td></tr>\n",
       "<tr><td>03D1aw</td><td>0.581</td><td>0.5820</td><td>23.574</td><td>0.090</td><td>0.974</td><td>0.274</td><td>-0.025</td><td>0.037</td><td>9.169</td><td>0.088</td><td>52902.898</td><td>0.353</td><td>0.00282</td><td>0.00041</td><td>0.00157</td><td>1</td><td>36.061634</td><td>-4.517158</td><td>0.001</td><td>SNLS 03D1aw</td></tr>\n",
       "<tr><td>03D1ax</td><td>0.495</td><td>0.4960</td><td>22.960</td><td>0.088</td><td>-0.729</td><td>0.102</td><td>-0.100</td><td>0.030</td><td>11.580</td><td>0.112</td><td>52915.924</td><td>0.112</td><td>0.00054</td><td>0.00047</td><td>-0.00002</td><td>1</td><td>36.097287</td><td>-4.720774</td><td>0.002</td><td>SNLS 03D1ax</td></tr>\n",
       "<tr><td>03D1bp</td><td>0.346</td><td>0.3470</td><td>22.398</td><td>0.087</td><td>-1.155</td><td>0.113</td><td>-0.041</td><td>0.027</td><td>10.821</td><td>0.124</td><td>52920.249</td><td>0.103</td><td>0.00111</td><td>0.00062</td><td>0.00029</td><td>1</td><td>36.657235</td><td>-4.838779</td><td>0.000</td><td>SNLS 03D1bp</td></tr>\n",
       "<tr><td>03D1co</td><td>0.678</td><td>0.6790</td><td>24.078</td><td>0.098</td><td>0.619</td><td>0.404</td><td>-0.039</td><td>0.067</td><td>8.647</td><td>0.284</td><td>52954.458</td><td>0.455</td><td>0.01186</td><td>0.00078</td><td>0.00590</td><td>1</td><td>36.567748</td><td>-4.935050</td><td>-0.003</td><td>SNLS 03D1co</td></tr>\n",
       "<tr><td>03D1dt</td><td>0.611</td><td>0.6120</td><td>23.285</td><td>0.093</td><td>-1.162</td><td>1.641</td><td>-0.095</td><td>0.050</td><td>9.715</td><td>0.092</td><td>52962.253</td><td>0.977</td><td>0.02967</td><td>0.00095</td><td>0.04436</td><td>1</td><td>36.629968</td><td>-4.052341</td><td>0.000</td><td>SNLS 03D1dt</td></tr>\n",
       "<tr><td>03D1ew</td><td>0.866</td><td>0.8680</td><td>24.354</td><td>0.106</td><td>0.376</td><td>0.348</td><td>-0.063</td><td>0.068</td><td>8.530</td><td>0.805</td><td>52991.742</td><td>0.665</td><td>0.00318</td><td>-0.00160</td><td>0.00409</td><td>1</td><td>36.058795</td><td>-4.665852</td><td>-0.018</td><td>SNLS 03D1ew</td></tr>\n",
       "<tr><td>03D1fc</td><td>0.331</td><td>0.3320</td><td>21.861</td><td>0.086</td><td>0.650</td><td>0.119</td><td>-0.018</td><td>0.024</td><td>10.391</td><td>0.036</td><td>53002.764</td><td>0.104</td><td>0.00101</td><td>0.00053</td><td>0.00054</td><td>1</td><td>36.431648</td><td>-4.144059</td><td>-0.001</td><td>SNLS 03D1fc</td></tr>\n",
       "<tr><td>03D1fq</td><td>0.799</td><td>0.8000</td><td>24.510</td><td>0.102</td><td>-1.057</td><td>0.407</td><td>-0.056</td><td>0.065</td><td>10.651</td><td>0.127</td><td>52999.213</td><td>0.656</td><td>0.00590</td><td>-0.00112</td><td>0.00355</td><td>1</td><td>36.731935</td><td>-4.302217</td><td>-0.012</td><td>SNLS 03D1fq</td></tr>\n",
       "<tr><td>...</td><td>...</td><td>...</td><td>...</td><td>...</td><td>...</td><td>...</td><td>...</td><td>...</td><td>...</td><td>...</td><td>...</td><td>...</td><td>...</td><td>...</td><td>...</td><td>...</td><td>...</td><td>...</td><td>...</td><td>...</td></tr>\n",
       "<tr><td>sn2006td</td><td>0.016</td><td>0.0159</td><td>15.720</td><td>0.153</td><td>-1.321</td><td>0.108</td><td>0.090</td><td>0.027</td><td>9.510</td><td>0.281</td><td>54098.980</td><td>0.238</td><td>-0.00029</td><td>0.00071</td><td>-0.00019</td><td>3</td><td>29.565670</td><td>36.349380</td><td>-0.009</td><td>sn2006td</td></tr>\n",
       "<tr><td>sn2007ae</td><td>0.063</td><td>0.0644</td><td>17.798</td><td>0.140</td><td>1.849</td><td>0.293</td><td>-0.010</td><td>0.031</td><td>11.320</td><td>0.107</td><td>54153.123</td><td>0.647</td><td>-0.00229</td><td>0.00092</td><td>-0.00031</td><td>3</td><td>255.466950</td><td>79.031740</td><td>-0.020</td><td>sn2007ae</td></tr>\n",
       "<tr><td>sn2007bc</td><td>0.022</td><td>0.0208</td><td>15.902</td><td>0.146</td><td>-1.224</td><td>0.081</td><td>-0.014</td><td>0.029</td><td>10.814</td><td>0.165</td><td>54200.355</td><td>0.142</td><td>0.00009</td><td>0.00077</td><td>-0.00016</td><td>3</td><td>169.810690</td><td>20.808960</td><td>-0.009</td><td>sn2007bc</td></tr>\n",
       "<tr><td>sn2007bd</td><td>0.032</td><td>0.0310</td><td>16.581</td><td>0.141</td><td>-1.381</td><td>0.064</td><td>-0.048</td><td>0.027</td><td>10.736</td><td>0.130</td><td>54206.544</td><td>0.056</td><td>0.00000</td><td>0.00066</td><td>-0.00016</td><td>3</td><td>127.889060</td><td>-1.199370</td><td>-0.011</td><td>sn2007bd</td></tr>\n",
       "<tr><td>sn2007ci</td><td>0.019</td><td>0.0181</td><td>15.893</td><td>0.149</td><td>-2.724</td><td>0.099</td><td>0.027</td><td>0.028</td><td>11.117</td><td>0.148</td><td>54246.654</td><td>0.064</td><td>0.00049</td><td>0.00075</td><td>0.00018</td><td>3</td><td>176.441050</td><td>19.770480</td><td>-0.009</td><td>sn2007ci</td></tr>\n",
       "<tr><td>sn2007co</td><td>0.027</td><td>0.0270</td><td>16.504</td><td>0.142</td><td>-0.138</td><td>0.061</td><td>0.105</td><td>0.020</td><td>10.520</td><td>0.281</td><td>54265.212</td><td>0.057</td><td>0.00010</td><td>0.00038</td><td>0.00001</td><td>3</td><td>275.765000</td><td>29.897050</td><td>-0.010</td><td>sn2007co</td></tr>\n",
       "<tr><td>sn2007cq</td><td>0.025</td><td>0.0259</td><td>15.798</td><td>0.143</td><td>-0.658</td><td>0.116</td><td>-0.061</td><td>0.026</td><td>9.705</td><td>0.281</td><td>54281.026</td><td>0.071</td><td>0.00039</td><td>0.00064</td><td>0.00007</td><td>3</td><td>333.668430</td><td>5.080160</td><td>-0.010</td><td>sn2007cq</td></tr>\n",
       "<tr><td>sn2007f</td><td>0.024</td><td>0.0236</td><td>15.896</td><td>0.144</td><td>0.619</td><td>0.041</td><td>-0.055</td><td>0.026</td><td>10.027</td><td>0.118</td><td>54124.058</td><td>0.045</td><td>-0.00005</td><td>0.00064</td><td>-0.00018</td><td>3</td><td>195.812750</td><td>50.618760</td><td>-0.009</td><td>sn2007f</td></tr>\n",
       "<tr><td>sn2007qe</td><td>0.024</td><td>0.0240</td><td>16.068</td><td>0.144</td><td>0.761</td><td>0.046</td><td>0.052</td><td>0.026</td><td>6.000</td><td>5.000</td><td>54429.852</td><td>0.037</td><td>0.00010</td><td>0.00065</td><td>-0.00008</td><td>3</td><td>358.553990</td><td>27.409170</td><td>-0.009</td><td>sn2007qe</td></tr>\n",
       "<tr><td>sn2008bf</td><td>0.022</td><td>0.0213</td><td>15.719</td><td>0.145</td><td>0.431</td><td>0.069</td><td>-0.038</td><td>0.021</td><td>11.212</td><td>0.156</td><td>54555.109</td><td>0.090</td><td>0.00014</td><td>0.00041</td><td>-0.00010</td><td>3</td><td>181.011990</td><td>20.245080</td><td>-0.009</td><td>sn2008bf</td></tr>\n",
       "</table>"
      ],
      "text/plain": [
       "<Table masked=True length=740>\n",
       "  Name     zcmb    zhel     mb   ...  RAJ2000    DEJ2000     bias   SimbadName\n",
       "                           mag   ...    deg        deg       mag              \n",
       "bytes12  float32 float32 float32 ...  float64    float64   float32   bytes17  \n",
       "-------- ------- ------- ------- ... ---------- ---------- ------- -----------\n",
       "  03D1au   0.503  0.5043  23.002 ...  36.043210  -4.037469   0.002 SNLS 03D1au\n",
       "  03D1aw   0.581  0.5820  23.574 ...  36.061634  -4.517158   0.001 SNLS 03D1aw\n",
       "  03D1ax   0.495  0.4960  22.960 ...  36.097287  -4.720774   0.002 SNLS 03D1ax\n",
       "  03D1bp   0.346  0.3470  22.398 ...  36.657235  -4.838779   0.000 SNLS 03D1bp\n",
       "  03D1co   0.678  0.6790  24.078 ...  36.567748  -4.935050  -0.003 SNLS 03D1co\n",
       "  03D1dt   0.611  0.6120  23.285 ...  36.629968  -4.052341   0.000 SNLS 03D1dt\n",
       "  03D1ew   0.866  0.8680  24.354 ...  36.058795  -4.665852  -0.018 SNLS 03D1ew\n",
       "  03D1fc   0.331  0.3320  21.861 ...  36.431648  -4.144059  -0.001 SNLS 03D1fc\n",
       "  03D1fq   0.799  0.8000  24.510 ...  36.731935  -4.302217  -0.012 SNLS 03D1fq\n",
       "     ...     ...     ...     ... ...        ...        ...     ...         ...\n",
       "sn2006td   0.016  0.0159  15.720 ...  29.565670  36.349380  -0.009    sn2006td\n",
       "sn2007ae   0.063  0.0644  17.798 ... 255.466950  79.031740  -0.020    sn2007ae\n",
       "sn2007bc   0.022  0.0208  15.902 ... 169.810690  20.808960  -0.009    sn2007bc\n",
       "sn2007bd   0.032  0.0310  16.581 ... 127.889060  -1.199370  -0.011    sn2007bd\n",
       "sn2007ci   0.019  0.0181  15.893 ... 176.441050  19.770480  -0.009    sn2007ci\n",
       "sn2007co   0.027  0.0270  16.504 ... 275.765000  29.897050  -0.010    sn2007co\n",
       "sn2007cq   0.025  0.0259  15.798 ... 333.668430   5.080160  -0.010    sn2007cq\n",
       " sn2007f   0.024  0.0236  15.896 ... 195.812750  50.618760  -0.009     sn2007f\n",
       "sn2007qe   0.024  0.0240  16.068 ... 358.553990  27.409170  -0.009    sn2007qe\n",
       "sn2008bf   0.022  0.0213  15.719 ... 181.011990  20.245080  -0.009    sn2008bf"
      ]
     },
     "execution_count": 7,
     "metadata": {},
     "output_type": "execute_result"
    }
   ],
   "source": [
    "vizier = Vizier(row_limit=1000)\n",
    "tables = vizier.get_catalogs('J/A+A/568/A22/tablef3')\n",
    "table = tables[0]\n",
    "table"
   ]
  },
  {
   "cell_type": "code",
   "execution_count": 27,
   "metadata": {},
   "outputs": [
    {
     "data": {
      "text/plain": [
       "      fun: 21.658101136713267\n",
       " hess_inv: array([[ 0.75077332]])\n",
       "      jac: array([ -3.81469727e-06])\n",
       "  message: 'Optimization terminated successfully.'\n",
       "     nfev: 27\n",
       "      nit: 7\n",
       "     njev: 9\n",
       "   status: 0\n",
       "  success: True\n",
       "        x: array([ 72.41636836])"
      ]
     },
     "execution_count": 27,
     "metadata": {},
     "output_type": "execute_result"
    }
   ],
   "source": [
    "z = table['zcmb']\n",
    "mb = table['mb']\n",
    "x1 = table['x1']\n",
    "color = table['c']\n",
    "\n",
    "def mu(mb, x1, color, Mb, alpha, beta):\n",
    "    return mb - Mb + alpha*x1 - beta*color\n",
    "\n",
    "def distance(z, H0, o_l):\n",
    "    \"\"\"Luminosity distance\n",
    "    \n",
    "    Paramters\n",
    "    ---------\n",
    "    z: float\n",
    "        Redshift\n",
    "    H0: float\n",
    "        Hubble constant, km/s/Mpc\n",
    "    o_l: float\n",
    "        Omega_Lambda\n",
    "        \n",
    "    Returns\n",
    "    -------\n",
    "    float, pc\n",
    "    \"\"\"\n",
    "    if not isinstance(z, np.ndarray):\n",
    "        z = np.array([z])\n",
    "    dist = np.empty(shape=z.shape)\n",
    "    for i, zi in enumerate(z):\n",
    "        d = integrate.quad(\n",
    "            lambda z: 1. / np.sqrt(o_l + (1-o_l)*(1+z)**3),\n",
    "            0, zi\n",
    "        )[0] * (1+zi) * c.c.to_value(u.km/u.s) / H0\n",
    "        dist[i] = d\n",
    "    return 1e6 * dist\n",
    "\n",
    "def mu_th(z, H0, o_l):\n",
    "    return 5 * np.log10(distance(z, H0, o_l)) - 5\n",
    "\n",
    "def test_distance():\n",
    "    planck = cosmology.Planck15\n",
    "    z = 1\n",
    "    d1 = distance(\n",
    "        z,\n",
    "        planck.H0.to_value(u.km/u.s/u.Mpc),\n",
    "        planck.Ode0\n",
    "    )\n",
    "    d2 = planck.luminosity_distance(z).to_value(u.pc)\n",
    "    eps = 1e-3\n",
    "    assert abs(d1-d2) < d1*eps\n",
    "\n",
    "test_distance()\n",
    "\n",
    "def chi2(H0, mb, x1, color, z):\n",
    "    mu1 = mu(mb, x1, color, -19, 0.14, 3.1)\n",
    "    mu2 = mu_th(z, H0, 0.7)\n",
    "    return np.sum(np.square(mu1-mu2))\n",
    "\n",
    "optimize.minimize(\n",
    "   chi2,\n",
    "   [50.0],\n",
    "   args=(mb, x1, color, z),\n",
    ")"
   ]
  },
  {
   "cell_type": "code",
   "execution_count": null,
   "metadata": {
    "collapsed": true
   },
   "outputs": [],
   "source": []
  }
 ],
 "metadata": {
  "kernelspec": {
   "display_name": "Python 3",
   "language": "python",
   "name": "python3"
  },
  "language_info": {
   "codemirror_mode": {
    "name": "ipython",
    "version": 3
   },
   "file_extension": ".py",
   "mimetype": "text/x-python",
   "name": "python",
   "nbconvert_exporter": "python",
   "pygments_lexer": "ipython3",
   "version": "3.6.2"
  }
 },
 "nbformat": 4,
 "nbformat_minor": 2
}
