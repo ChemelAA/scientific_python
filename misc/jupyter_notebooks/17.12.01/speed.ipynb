{
 "cells": [
  {
   "cell_type": "code",
   "execution_count": 33,
   "metadata": {},
   "outputs": [
    {
     "data": {
      "application/javascript": [
       "IPython.notebook.set_autosave_interval(2000)"
      ]
     },
     "metadata": {},
     "output_type": "display_data"
    },
    {
     "name": "stdout",
     "output_type": "stream",
     "text": [
      "Autosaving every 2 seconds\n"
     ]
    }
   ],
   "source": [
    "%autosave 2\n",
    "import numpy as np\n",
    "# import timeit\n",
    "# import profile\n",
    "from time import sleep\n",
    "import numba"
   ]
  },
  {
   "cell_type": "code",
   "execution_count": 5,
   "metadata": {},
   "outputs": [
    {
     "name": "stdout",
     "output_type": "stream",
     "text": [
      "14.4 ns ± 0.0229 ns per loop (mean ± std. dev. of 7 runs, 100000000 loops each)\n"
     ]
    }
   ],
   "source": [
    "%timeit 3+4"
   ]
  },
  {
   "cell_type": "code",
   "execution_count": 8,
   "metadata": {},
   "outputs": [
    {
     "name": "stdout",
     "output_type": "stream",
     "text": [
      "1 s ± 336 µs per loop (mean ± std. dev. of 7 runs, 1 loop each)\n"
     ]
    }
   ],
   "source": [
    "%timeit sleep(1)"
   ]
  },
  {
   "cell_type": "code",
   "execution_count": 9,
   "metadata": {},
   "outputs": [
    {
     "name": "stdout",
     "output_type": "stream",
     "text": [
      "14.3 µs ± 69.7 ns per loop (mean ± std. dev. of 7 runs, 100000 loops each)\n"
     ]
    }
   ],
   "source": [
    "%%timeit\n",
    "a = np.random.uniform(0,1,size=(10,10))\n",
    "np.sum(a)"
   ]
  },
  {
   "cell_type": "code",
   "execution_count": 13,
   "metadata": {},
   "outputs": [
    {
     "name": "stdout",
     "output_type": "stream",
     "text": [
      "8.58 ms ± 14.6 µs per loop (mean ± std. dev. of 7 runs, 100 loops each)\n",
      "6.96 ms ± 10.1 µs per loop (mean ± std. dev. of 7 runs, 100 loops each)\n",
      "10.7 ms ± 13.4 µs per loop (mean ± std. dev. of 7 runs, 100 loops each)\n",
      "74 µs ± 466 ns per loop (mean ± std. dev. of 7 runs, 10000 loops each)\n"
     ]
    }
   ],
   "source": [
    "n = int(1e5)\n",
    "a = np.random.rand(n)\n",
    "t = tuple(a)\n",
    "\n",
    "def my_sum(t):\n",
    "    s = 0\n",
    "    for x in t:\n",
    "        s += x\n",
    "    return s\n",
    "\n",
    "%timeit my_sum(t)\n",
    "%timeit sum(t)\n",
    "%timeit sum(a)\n",
    "%timeit np.sum(a)"
   ]
  },
  {
   "cell_type": "code",
   "execution_count": 25,
   "metadata": {},
   "outputs": [
    {
     "name": "stdout",
     "output_type": "stream",
     "text": [
      "73.8 ms ± 489 µs per loop (mean ± std. dev. of 7 runs, 10 loops each)\n",
      "163 ms ± 4.46 ms per loop (mean ± std. dev. of 7 runs, 10 loops each)\n",
      "288 µs ± 881 ns per loop (mean ± std. dev. of 7 runs, 1000 loops each)\n"
     ]
    }
   ],
   "source": [
    "import base64\n",
    "from functools import reduce\n",
    "\n",
    "n = int(1e4)\n",
    "lines = [base64.b64encode(np.random.bytes(16)) for _ in range(n)]\n",
    "# 'abc' + 'def' \n",
    "\n",
    "def lines_cont(lines):\n",
    "    cont = b''\n",
    "    for line in lines:\n",
    "        cont += line + b'\\n'\n",
    "    return cont\n",
    "\n",
    "%timeit lines_cont(lines)\n",
    "%timeit reduce(lambda x,y: x+b'\\n'+y, lines)\n",
    "%timeit b'\\n'.join(lines)"
   ]
  },
  {
   "cell_type": "code",
   "execution_count": 37,
   "metadata": {},
   "outputs": [
    {
     "name": "stdout",
     "output_type": "stream",
     "text": [
      "10.1 ms ± 13.9 µs per loop (mean ± std. dev. of 7 runs, 100 loops each)\n",
      "919 µs ± 1.06 µs per loop (mean ± std. dev. of 7 runs, 1000 loops each)\n"
     ]
    }
   ],
   "source": [
    "def golden_ratio(n):\n",
    "    s = 1\n",
    "    for _ in range(n):\n",
    "        s = 1 + 1/s\n",
    "    return s\n",
    "\n",
    "@numba.jit(locals={'n': numba.int32, 's': numba.float32})\n",
    "def numba_golden_ratio(n):\n",
    "    s = 1\n",
    "    for _ in range(n):\n",
    "        s = 1 + 1/s\n",
    "    return s\n",
    "\n",
    "n = int(1e5)\n",
    "%timeit golden_ratio(n)\n",
    "%timeit numba_golden_ratio(n)"
   ]
  },
  {
   "cell_type": "code",
   "execution_count": null,
   "metadata": {
    "collapsed": true
   },
   "outputs": [],
   "source": []
  }
 ],
 "metadata": {
  "kernelspec": {
   "display_name": "Python 3",
   "language": "python",
   "name": "python3"
  },
  "language_info": {
   "codemirror_mode": {
    "name": "ipython",
    "version": 3
   },
   "file_extension": ".py",
   "mimetype": "text/x-python",
   "name": "python",
   "nbconvert_exporter": "python",
   "pygments_lexer": "ipython3",
   "version": "3.6.2"
  }
 },
 "nbformat": 4,
 "nbformat_minor": 2
}
