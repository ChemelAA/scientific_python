{
 "cells": [
  {
   "cell_type": "code",
   "execution_count": 3,
   "metadata": {},
   "outputs": [
    {
     "data": {
      "application/javascript": [
       "IPython.notebook.set_autosave_interval(2000)"
      ]
     },
     "metadata": {},
     "output_type": "display_data"
    },
    {
     "name": "stdout",
     "output_type": "stream",
     "text": [
      "Autosaving every 2 seconds\n"
     ]
    }
   ],
   "source": [
    "%autosave 2\n",
    "from threading import Thread\n",
    "import numpy as np"
   ]
  },
  {
   "cell_type": "code",
   "execution_count": 16,
   "metadata": {},
   "outputs": [],
   "source": [
    "def f(x, a, b):\n",
    "    return a * x + b\n",
    "\n",
    "n = 1000001\n",
    "n_threads = 8\n",
    "x = np.linspace(0, 1, n)\n",
    "A = np.vstack((x, np.ones_like(x))).T"
   ]
  },
  {
   "cell_type": "code",
   "execution_count": 19,
   "metadata": {},
   "outputs": [
    {
     "name": "stdout",
     "output_type": "stream",
     "text": [
      "3.14220664203 2.71815634567\n",
      "3.14069654484 2.71864064956\n",
      "3.1426827339 2.71761093035\n",
      "3.14249015067 2.71821100267\n",
      "3.14177470172 2.71803291268\n",
      "3.14181163949 2.71854866264\n",
      "3.14275353473 2.7176756003\n",
      "3.1408497011 2.71888592022\n",
      "906 ms ± 4.81 ms per loop (mean ± std. dev. of 7 runs, 1 loop each)\n"
     ]
    }
   ],
   "source": [
    "%%timeit\n",
    "a_ = []\n",
    "b_ = []\n",
    "for _ in range(n_threads):\n",
    "    y = (f(x, np.pi, np.exp(1)) \n",
    "         + np.random.normal(scale=0.5, size=n))\n",
    "    a, b = np.linalg.lstsq(A, y)[0]\n",
    "    a_.append(a)\n",
    "    b_.append(b)\n",
    "print(np.mean(a_), np.mean(b_))"
   ]
  },
  {
   "cell_type": "code",
   "execution_count": 26,
   "metadata": {},
   "outputs": [
    {
     "name": "stdout",
     "output_type": "stream",
     "text": [
      "3.1419662776 2.71820376126\n",
      "3.14053027275 2.71877188493\n",
      "3.1427158428 2.71770585038\n",
      "3.14161738536 2.71829164475\n",
      "3.14186456391 2.71831306611\n",
      "3.14110026266 2.71852366228\n",
      "3.14136275903 2.71849455803\n",
      "3.14104486485 2.71822176794\n",
      "500 ms ± 3.76 ms per loop (mean ± std. dev. of 7 runs, 1 loop each)\n"
     ]
    }
   ],
   "source": [
    "%%timeit\n",
    "a_ = []\n",
    "b_ = []\n",
    "\n",
    "def worker():\n",
    "    y = (f(x, np.pi, np.exp(1)) \n",
    "         + np.random.normal(scale=0.5, size=n))\n",
    "    a, b = np.linalg.lstsq(A, y)[0]\n",
    "    a_.append(a)\n",
    "    b_.append(b)\n",
    "\n",
    "threads = []\n",
    "for _ in range(n_threads):\n",
    "    t = Thread(target=worker)\n",
    "    t.start()\n",
    "    threads.append(t)\n",
    "\n",
    "for t in threads:\n",
    "    t.join()\n",
    "    \n",
    "print(np.mean(a_), np.mean(b_))"
   ]
  },
  {
   "cell_type": "code",
   "execution_count": 29,
   "metadata": {},
   "outputs": [
    {
     "name": "stdout",
     "output_type": "stream",
     "text": [
      "421 ms ± 589 µs per loop (mean ± std. dev. of 7 runs, 1 loop each)\n"
     ]
    }
   ],
   "source": [
    "%%timeit\n",
    "for _ in range(n_threads):\n",
    "    y = np.random.normal(scale=0.5, size=n)"
   ]
  },
  {
   "cell_type": "code",
   "execution_count": 30,
   "metadata": {},
   "outputs": [
    {
     "name": "stdout",
     "output_type": "stream",
     "text": [
      "423 ms ± 929 µs per loop (mean ± std. dev. of 7 runs, 1 loop each)\n"
     ]
    }
   ],
   "source": [
    "%%timeit\n",
    "def worker():\n",
    "    y = np.random.normal(scale=0.5, size=n)\n",
    "\n",
    "threads = []\n",
    "for _ in range(n_threads):\n",
    "    t = Thread(target=worker)\n",
    "    t.start()\n",
    "    threads.append(t)\n",
    "\n",
    "for t in threads:\n",
    "    t.join()"
   ]
  },
  {
   "cell_type": "code",
   "execution_count": null,
   "metadata": {
    "collapsed": true
   },
   "outputs": [],
   "source": []
  }
 ],
 "metadata": {
  "kernelspec": {
   "display_name": "Python 3",
   "language": "python",
   "name": "python3"
  },
  "language_info": {
   "codemirror_mode": {
    "name": "ipython",
    "version": 3
   },
   "file_extension": ".py",
   "mimetype": "text/x-python",
   "name": "python",
   "nbconvert_exporter": "python",
   "pygments_lexer": "ipython3",
   "version": "3.6.2"
  }
 },
 "nbformat": 4,
 "nbformat_minor": 2
}
