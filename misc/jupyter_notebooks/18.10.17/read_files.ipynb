{
 "cells": [
  {
   "cell_type": "code",
   "execution_count": 84,
   "metadata": {},
   "outputs": [
    {
     "data": {
      "application/javascript": [
       "IPython.notebook.set_autosave_interval(20000)"
      ]
     },
     "metadata": {},
     "output_type": "display_data"
    },
    {
     "name": "stdout",
     "output_type": "stream",
     "text": [
      "Autosaving every 20 seconds\n"
     ]
    }
   ],
   "source": [
    "%autosave 20\n",
    "import numpy as np\n",
    "import matplotlib.pyplot as plt\n",
    "import pandas as pd"
   ]
  },
  {
   "cell_type": "code",
   "execution_count": 6,
   "metadata": {},
   "outputs": [
    {
     "data": {
      "text/plain": [
       "1j"
      ]
     },
     "execution_count": 6,
     "metadata": {},
     "output_type": "execute_result"
    }
   ],
   "source": [
    "import math\n",
    "import cmath\n",
    "cmath.sqrt(-1)"
   ]
  },
  {
   "cell_type": "code",
   "execution_count": 7,
   "metadata": {},
   "outputs": [
    {
     "name": "stdout",
     "output_type": "stream",
     "text": [
      "0.036950897,-19.812012\n",
      "0.03500012,32.59825\n",
      "0.2093362,42.75399\n",
      "0.25276598,9.813249\n",
      "0.2743527,-36.13254\n",
      "0.27199373,-77.60696\n",
      "0.44834232,395.42206\n",
      "0.50287396,410.46777\n",
      "0.49865913,443.23727\n",
      "0.6310321,322.5719\n",
      "0.90020174,96.50567\n",
      "0.9007238,216.59071\n",
      "0.8012198,380.78067\n",
      "0.89946604,428.3866\n",
      "0.89804685,603.06525\n",
      "1.0035977,827.4952\n",
      "1.100515,569.43005\n",
      "1.1055652,728.79663\n",
      "1.3991741,611.79395\n",
      "1.699523,1042.7968\n",
      "2.0069914,1106.9563\n",
      "1.9971569,849.35736\n",
      "2.0035028,805.6615\n",
      "1.9957709,530.5861\n",
      "\n"
     ]
    }
   ],
   "source": [
    "fh = open('diagram.csv')\n",
    "text = fh.read()\n",
    "fh.close()\n",
    "print(text)"
   ]
  },
  {
   "cell_type": "code",
   "execution_count": 10,
   "metadata": {},
   "outputs": [
    {
     "name": "stdout",
     "output_type": "stream",
     "text": [
      "True\n"
     ]
    }
   ],
   "source": [
    "with open('diagram.csv') as fh:\n",
    "    text = fh.read()\n",
    "print(fh.closed)"
   ]
  },
  {
   "cell_type": "code",
   "execution_count": 27,
   "metadata": {},
   "outputs": [
    {
     "name": "stdout",
     "output_type": "stream",
     "text": [
      "[0.0369509  0.03500012 0.2093362  0.25276598 0.2743527  0.27199373\n",
      " 0.44834232 0.50287396 0.49865913 0.6310321  0.90020174 0.9007238\n",
      " 0.8012198  0.89946604 0.89804685 1.0035977  1.100515   1.1055652\n",
      " 1.3991741  1.699523   2.0069914  1.9971569  2.0035028  1.9957709 ]\n",
      "[ -19.812012   32.59825    42.75399     9.813249  -36.13254   -77.60696\n",
      "  395.42206   410.46777   443.23727   322.5719     96.50567   216.59071\n",
      "  380.78067   428.3866    603.06525   827.4952    569.43005   728.79663\n",
      "  611.79395  1042.7968   1106.9563    849.35736   805.6615    530.5861  ]\n"
     ]
    },
    {
     "data": {
      "image/png": "[encoded data removed]",
      "text/plain": [
       "<Figure size 432x288 with 1 Axes>"
      ]
     },
     "metadata": {},
     "output_type": "display_data"
    }
   ],
   "source": [
    "x = []\n",
    "y = []\n",
    "with open('diagram.csv', encoding='utf-8') as fh:\n",
    "    for row in fh:\n",
    "        row = row.strip()\n",
    "        a, b = row.split(',')\n",
    "        x.append(float(a))\n",
    "        y.append(float(b))\n",
    "x = np.array(x)\n",
    "y = np.array(y)\n",
    "print(x)\n",
    "print(y)\n",
    "plt.plot(x, y, 'x')\n",
    "\n",
    "with open('diagram.tsv', 'w') as fh:\n",
    "    for a, b in zip(x * 7, y):\n",
    "        fh.write('{}\\t{}\\n'.format(a, b))"
   ]
  },
  {
   "cell_type": "code",
   "execution_count": 28,
   "metadata": {},
   "outputs": [
    {
     "name": "stdout",
     "output_type": "stream",
     "text": [
      "b'\\xff\\xd8\\xff\\xe0\\x00\\x10JFIF\\x00\\x01\\x01\\x01\\x00H'\n",
      "<class 'bytes'>\n"
     ]
    }
   ],
   "source": [
    "with open('cat.jpg', 'rb') as fh:\n",
    "    data = fh.read(16)\n",
    "print(data)\n",
    "print(type(data))"
   ]
  },
  {
   "cell_type": "code",
   "execution_count": 32,
   "metadata": {},
   "outputs": [
    {
     "data": {
      "text/plain": [
       "dtype('uint8')"
      ]
     },
     "execution_count": 32,
     "metadata": {},
     "output_type": "execute_result"
    }
   ],
   "source": [
    "from PIL import Image\n",
    "\n",
    "img = Image.open('cat.jpg')\n",
    "cat = np.array(img)\n",
    "cat.dtype"
   ]
  },
  {
   "cell_type": "code",
   "execution_count": 45,
   "metadata": {},
   "outputs": [
    {
     "name": "stdout",
     "output_type": "stream",
     "text": [
      "(0.0369509, -19.812012)\n",
      "[0.0369509  0.03500012 0.2093362  0.25276598 0.2743527  0.27199373\n",
      " 0.44834232 0.50287396 0.49865913 0.6310321  0.90020174 0.9007238\n",
      " 0.8012198  0.89946604 0.89804685 1.0035977  1.100515   1.1055652\n",
      " 1.3991741  1.699523   2.0069914  1.9971569  2.0035028  1.9957709 ]\n"
     ]
    },
    {
     "data": {
      "text/plain": [
       "array([0.0369509 , 0.03500012, 0.2093362 , 0.25276598, 0.2743527 ,\n",
       "       0.27199373, 0.44834232, 0.50287396, 0.49865913, 0.6310321 ,\n",
       "       0.90020174, 0.9007238 , 0.8012198 , 0.89946604, 0.89804685,\n",
       "       1.0035977 , 1.100515  , 1.1055652 , 1.3991741 , 1.699523  ,\n",
       "       2.0069914 , 1.9971569 , 2.0035028 , 1.9957709 ])"
      ]
     },
     "execution_count": 45,
     "metadata": {},
     "output_type": "execute_result"
    }
   ],
   "source": [
    "table = np.genfromtxt('diagram.csv',\n",
    "                      delimiter=',',\n",
    "                      names=('d', 'v'))\n",
    "print(table[0])\n",
    "print(table['d'])\n",
    "records = np.rec.array(table)\n",
    "records.d"
   ]
  },
  {
   "cell_type": "code",
   "execution_count": 57,
   "metadata": {},
   "outputs": [],
   "source": [
    "table = np.genfromtxt('freddi.dat', names=True,\n",
    "                      skip_footer=100)"
   ]
  },
  {
   "cell_type": "code",
   "execution_count": 73,
   "metadata": {},
   "outputs": [
    {
     "name": "stdout",
     "output_type": "stream",
     "text": [
      "b'JD\\tMagnitude\\tUncertainty\\tHQuncertainty\\tBand\\tObserver Code\\tComment Code(s)\\tComp Star 1\\tComp Star 2\\tCharts\\tComments\\tTransfomed\\tAirmass\\tValidation Flag\\tCmag\\tKmag\\tHJD\\tStar Name\\tObserver Affiliation\\tMeasurement Method\\tGrouping Method\\tADS Reference\\tDigitizer\\tCredit\\n'\n",
      "b'2447673.49028\\t12.8\\t\\t\\tVis.\\tMOBM\\t\\t\\t\\tTA Sequence\\t\\t\\t\\tZ\\t\\t\\t\\tV404 CYG\\t\\tSTD\\t\\t\\t\\tBAAVSS\\n'\n",
      "b'2447674.45972\\t12.5\\t\\t\\tVis.\\tMOBM\\t\\t\\t\\tTA sequence\\t\\t\\t\\tZ\\t\\t\\t\\tV404 CYG\\t\\tSTD\\t\\t\\t\\tBAAVSS\\n'\n",
      "b'2447674.538\\t11.9\\t\\t\\tVis.\\tKRT\\t\\t\\t\\t\\t\\t\\t\\tV\\t\\t\\t\\tV404 CYG\\t\\tSTD\\t\\t\\t\\t\\n'\n",
      "b'2447675.47986\\t11.9\\t\\t\\tVis.\\tMOBM\\t\\t\\t\\tTA Sequence\\t\\t\\t\\tZ\\t\\t\\t\\tV404 CYG\\t\\tSTD\\t\\t\\t\\tBAAVSS\\n'\n",
      "b'2447676.45972\\t12.5\\t\\t\\tVis.\\tMOBM\\t\\t\\t\\tTA Sequence\\t\\t\\t\\tZ\\t\\t\\t\\tV404 CYG\\t\\tSTD\\t\\t\\t\\tBAAVSS\\n'\n",
      "b'2447680.449\\t14.5\\t\\t\\tVis.\\tBMU\\t\\t\\t\\t\\t\\t\\t\\tV\\t\\t\\t\\tV404 CYG\\tKNVWS\\tSTD\\t\\t\\t\\t\\n'\n",
      "b'2447680.521\\t14.0\\t\\t\\tVis.\\tKRT\\t\\t\\t\\t\\t\\t\\t\\tV\\t\\t\\t\\tV404 CYG\\t\\tSTD\\t\\t\\t\\t\\n'\n",
      "b'2447685.05\\t14.2\\t\\t\\tVis.\\tKOA\\t\\t\\t\\t\\t\\t\\t\\tV\\t\\t\\t\\tV404 CYG\\t\\tSTD\\t\\t\\t\\t\\n'\n",
      "b'2447685.9\\t<14.0\\t\\t\\tVis.\\tSCE\\t\\t\\t\\t\\t\\t\\t\\tV\\t\\t\\t\\tV404 CYG\\t\\tSTD\\t\\t\\t\\t\\n'\n"
     ]
    }
   ],
   "source": [
    "import gzip\n",
    "import os\n",
    "import shutil\n",
    "\n",
    "with gzip.open('V404Cyg.txt.gz') as fh:\n",
    "    for _ in range(10):\n",
    "        print(fh.readline())"
   ]
  },
  {
   "cell_type": "code",
   "execution_count": 70,
   "metadata": {},
   "outputs": [
    {
     "data": {
      "text/plain": [
       "array([(2447673.49028, 12.8, 0.), (2447674.45972, 12.5, 0.),\n",
       "       (2447674.538  , 11.9, 0.), (2447675.47986, 11.9, 0.),\n",
       "       (2447676.45972, 12.5, 0.), (2447680.449  , 14.5, 0.),\n",
       "       (2447680.521  , 14. , 0.), (2447685.05   , 14.2, 0.),\n",
       "       (2447685.9    ,  0. , 0.), (2447690.467  , 14.8, 0.)],\n",
       "      dtype=[('JD', '<f8'), ('Magnitude', '<f8'), ('Uncertainty', '<f8')])"
      ]
     },
     "execution_count": 70,
     "metadata": {},
     "output_type": "execute_result"
    }
   ],
   "source": [
    "table = np.genfromtxt('V404Cyg.txt.gz', names=True,\n",
    "                      usecols=(0, 1, 2,),\n",
    "                      missing_values=b'', filling_values=0,)\n",
    "table[:10]"
   ]
  },
  {
   "cell_type": "code",
   "execution_count": 83,
   "metadata": {},
   "outputs": [
    {
     "data": {
      "text/plain": [
       "[<matplotlib.lines.Line2D at 0x7fe0a947f320>]"
      ]
     },
     "execution_count": 83,
     "metadata": {},
     "output_type": "execute_result"
    },
    {
     "data": {
      "image/png": "[encoded data removed]",
      "text/plain": [
       "<Figure size 432x288 with 1 Axes>"
      ]
     },
     "metadata": {},
     "output_type": "display_data"
    }
   ],
   "source": [
    "def magn_converter(s):\n",
    "    if s.startswith(b'<'):\n",
    "        x = float(s[1:]) + 900\n",
    "        return x\n",
    "    return float(s)\n",
    "\n",
    "table = np.genfromtxt('V404Cyg.txt.gz', names=True,\n",
    "                      usecols=(0, 1, 2,),\n",
    "                      dtype=(float, float, float),\n",
    "                      missing_values=b'', filling_values=0,\n",
    "                      converters={\n",
    "                          1: magn_converter\n",
    "                      })\n",
    "table[:10]\n",
    "is_upper_limit = table['Magnitude'] > 500\n",
    "good_data = table[np.logical_not(is_upper_limit)]\n",
    "plt.plot(good_data['JD'], good_data['Magnitude'], 'x')"
   ]
  },
  {
   "cell_type": "code",
   "execution_count": 93,
   "metadata": {},
   "outputs": [
    {
     "data": {
      "text/plain": [
       "Index(['JD', 'Magnitude', 'Uncertainty'], dtype='object')"
      ]
     },
     "execution_count": 93,
     "metadata": {},
     "output_type": "execute_result"
    }
   ],
   "source": [
    "df = pd.DataFrame(table)\n",
    "df.JD\n",
    "df['JD']\n",
    "df.columns\n",
    "# df[0]"
   ]
  },
  {
   "cell_type": "code",
   "execution_count": 95,
   "metadata": {},
   "outputs": [
    {
     "data": {
      "text/plain": [
       "JD             2447674.538\n",
       "Magnitude           11.900\n",
       "Uncertainty          0.000\n",
       "Name: 2, dtype: float64"
      ]
     },
     "execution_count": 95,
     "metadata": {},
     "output_type": "execute_result"
    }
   ],
   "source": [
    "df.loc[2]"
   ]
  },
  {
   "cell_type": "code",
   "execution_count": 100,
   "metadata": {},
   "outputs": [
    {
     "name": "stdout",
     "output_type": "stream",
     "text": [
      "JD                      float64\n",
      "Magnitude                object\n",
      "Uncertainty             float64\n",
      "HQuncertainty           float64\n",
      "Band                     object\n",
      "Observer Code            object\n",
      "Comment Code(s)          object\n",
      "Comp Star 1              object\n",
      "Comp Star 2              object\n",
      "Charts                   object\n",
      "Comments                 object\n",
      "Transfomed              float64\n",
      "Airmass                 float64\n",
      "Validation Flag          object\n",
      "Cmag                    float64\n",
      "Kmag                    float64\n",
      "HJD                     float64\n",
      "Star Name                object\n",
      "Observer Affiliation     object\n",
      "Measurement Method       object\n",
      "Grouping Method          object\n",
      "ADS Reference           float64\n",
      "Digitizer               float64\n",
      "Credit                   object\n",
      "dtype: object\n",
      "<class 'str'>\n"
     ]
    }
   ],
   "source": [
    "df = pd.read_table('V404Cyg.txt.gz', low_memory=False)\n",
    "print(df.dtypes)\n",
    "print(type(df.Magnitude[0]))"
   ]
  },
  {
   "cell_type": "code",
   "execution_count": 101,
   "metadata": {},
   "outputs": [],
   "source": [
    "# import json\n",
    "# .yaml, .yml, .ini"
   ]
  },
  {
   "cell_type": "code",
   "execution_count": 113,
   "metadata": {},
   "outputs": [
    {
     "data": {
      "text/plain": [
       "0        12.800\n",
       "1        12.500\n",
       "2        11.900\n",
       "3        11.900\n",
       "4        12.500\n",
       "5        14.500\n",
       "6        14.000\n",
       "7        14.200\n",
       "8        14.000\n",
       "9        14.800\n",
       "10       15.000\n",
       "11       13.300\n",
       "12       14.800\n",
       "13       15.100\n",
       "14       15.300\n",
       "15       14.000\n",
       "16       14.500\n",
       "17       14.500\n",
       "18       14.500\n",
       "19       14.300\n",
       "20       13.600\n",
       "21       14.800\n",
       "22       14.500\n",
       "23       14.500\n",
       "24       14.800\n",
       "25       14.800\n",
       "26       14.000\n",
       "27       14.500\n",
       "28       14.800\n",
       "29       14.800\n",
       "          ...  \n",
       "80753    15.200\n",
       "80754    14.400\n",
       "80755    14.400\n",
       "80756    15.200\n",
       "80757    14.400\n",
       "80758    14.900\n",
       "80759    14.900\n",
       "80760    14.400\n",
       "80761    14.400\n",
       "80762    15.200\n",
       "80763    14.400\n",
       "80764    14.400\n",
       "80765    14.900\n",
       "80766    15.200\n",
       "80767    14.100\n",
       "80768    14.400\n",
       "80769    15.600\n",
       "80770    14.100\n",
       "80771    14.400\n",
       "80772    15.600\n",
       "80773    14.100\n",
       "80774    14.400\n",
       "80775    17.770\n",
       "80776    14.400\n",
       "80777    14.400\n",
       "80778    15.200\n",
       "80779    14.400\n",
       "80780    17.407\n",
       "80781    14.400\n",
       "80782    14.400\n",
       "Name: m, Length: 80783, dtype: float64"
      ]
     },
     "execution_count": 113,
     "metadata": {},
     "output_type": "execute_result"
    }
   ],
   "source": [
    "def magn_converter(s):\n",
    "    if s.startswith('<'):\n",
    "        s = s[1:]\n",
    "    return float(s)\n",
    "\n",
    "df['m'] = df.Magnitude.map(magn_converter)\n",
    "df['is_upper_limit'] = df.Magnitude.map(\n",
    "    lambda s: s.startswith('<')\n",
    ")\n",
    "df['m']"
   ]
  },
  {
   "cell_type": "code",
   "execution_count": 117,
   "metadata": {},
   "outputs": [],
   "source": [
    "upper_limits = df[df.is_upper_limit]"
   ]
  },
  {
   "cell_type": "code",
   "execution_count": null,
   "metadata": {},
   "outputs": [],
   "source": []
  }
 ],
 "metadata": {
  "kernelspec": {
   "display_name": "Python 3",
   "language": "python",
   "name": "python3"
  },
  "language_info": {
   "codemirror_mode": {
    "name": "ipython",
    "version": 3
   },
   "file_extension": ".py",
   "mimetype": "text/x-python",
   "name": "python",
   "nbconvert_exporter": "python",
   "pygments_lexer": "ipython3",
   "version": "3.6.5"
  }
 },
 "nbformat": 4,
 "nbformat_minor": 2
}
