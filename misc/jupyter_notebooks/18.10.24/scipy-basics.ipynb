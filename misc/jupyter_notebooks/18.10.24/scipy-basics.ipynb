{
 "cells": [
  {
   "cell_type": "code",
   "execution_count": 1,
   "metadata": {},
   "outputs": [
    {
     "data": {
      "application/javascript": [
       "IPython.notebook.set_autosave_interval(20000)"
      ]
     },
     "metadata": {},
     "output_type": "display_data"
    },
    {
     "name": "stdout",
     "output_type": "stream",
     "text": [
      "Autosaving every 20 seconds\n"
     ]
    }
   ],
   "source": [
    "%autosave 20\n",
    "%matplotlib inline\n",
    "import matplotlib.pyplot as plt\n",
    "import numpy as np"
   ]
  },
  {
   "cell_type": "code",
   "execution_count": 12,
   "metadata": {},
   "outputs": [
    {
     "name": "stdout",
     "output_type": "stream",
     "text": [
      "(0.6667058512510808, 4.0109229736274246e-10)\n"
     ]
    },
    {
     "data": {
      "text/plain": [
       "0.6772872862120448"
      ]
     },
     "execution_count": 12,
     "metadata": {},
     "output_type": "execute_result"
    }
   ],
   "source": [
    "from scipy import integrate\n",
    "\n",
    "def f(x):\n",
    "    return np.sin(x) / np.sqrt(1-x)\n",
    "\n",
    "integrate.quad(f, 0, 0.5)[0]\n",
    "print(integrate.quad(f, 0, 0.9))\n",
    "\n",
    "x = np.r_[0:0.9:10j]  # np.linspace(0, 1, 11)\n",
    "y = f(x)\n",
    "np.trapz(y, x)\n",
    "# integrate.romberg"
   ]
  },
  {
   "cell_type": "code",
   "execution_count": 24,
   "metadata": {},
   "outputs": [
    {
     "data": {
      "text/plain": [
       "<matplotlib.legend.Legend at 0x7f5397c69eb8>"
      ]
     },
     "execution_count": 24,
     "metadata": {},
     "output_type": "execute_result"
    },
    {
     "data": {
      "image/png": "[encoded data removed]",
      "text/plain": [
       "<Figure size 432x288 with 1 Axes>"
      ]
     },
     "metadata": {},
     "output_type": "display_data"
    }
   ],
   "source": [
    "# integrate.odeint\n",
    "def dydt(t, y):\n",
    "    k = 1\n",
    "    a = 0.5\n",
    "    dxdt = y[1]\n",
    "    dvdt = -k * y[0] - a * y[1] + 0.05*np.sin(t)\n",
    "    return [dxdt, dvdt]\n",
    "\n",
    "result = integrate.solve_ivp(dydt, [0, 20], [0, 1],\n",
    "                             t_eval=np.r_[0:20:101j])\n",
    "assert result.success\n",
    "t = result.t\n",
    "y = result.y\n",
    "plt.plot(t, y[0], label='x')\n",
    "plt.plot(t, y[1], label='v')\n",
    "plt.legend()\n",
    "\n",
    "# integrate.solve_bvp"
   ]
  },
  {
   "cell_type": "code",
   "execution_count": 2,
   "metadata": {},
   "outputs": [
    {
     "name": "stdout",
     "output_type": "stream",
     "text": [
      "1.4142135623731364\n",
      "1.414213562373095\n"
     ]
    }
   ],
   "source": [
    "from scipy import optimize\n",
    "\n",
    "def f(x):\n",
    "    return x**2 - 2\n",
    "\n",
    "print(optimize.brentq(f, 0, 2))\n",
    "print(optimize.newton(f, 0))"
   ]
  },
  {
   "cell_type": "code",
   "execution_count": 4,
   "metadata": {},
   "outputs": [
    {
     "data": {
      "text/plain": [
       "      fun: -2.0\n",
       " hess_inv: array([[0.5]])\n",
       "      jac: array([0.])\n",
       "  message: 'Optimization terminated successfully.'\n",
       "     nfev: 9\n",
       "      nit: 2\n",
       "     njev: 3\n",
       "   status: 0\n",
       "  success: True\n",
       "        x: array([-9.51608812e-09])"
      ]
     },
     "execution_count": 4,
     "metadata": {},
     "output_type": "execute_result"
    }
   ],
   "source": [
    "def f(x):\n",
    "    return x**2 - 2\n",
    "\n",
    "optimize.minimize(f, [1])\n",
    "# optimize.least_squares\n",
    "# optimize.curve_fit"
   ]
  },
  {
   "cell_type": "code",
   "execution_count": null,
   "metadata": {},
   "outputs": [],
   "source": []
  }
 ],
 "metadata": {
  "kernelspec": {
   "display_name": "Python 3",
   "language": "python",
   "name": "python3"
  },
  "language_info": {
   "codemirror_mode": {
    "name": "ipython",
    "version": 3
   },
   "file_extension": ".py",
   "mimetype": "text/x-python",
   "name": "python",
   "nbconvert_exporter": "python",
   "pygments_lexer": "ipython3",
   "version": "3.6.5"
  }
 },
 "nbformat": 4,
 "nbformat_minor": 2
}
