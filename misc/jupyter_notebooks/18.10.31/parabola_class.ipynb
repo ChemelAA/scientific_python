{
 "cells": [
  {
   "cell_type": "code",
   "execution_count": 1,
   "metadata": {},
   "outputs": [],
   "source": [
    "def y(x, a, b, c):\n",
    "    \"\"\"y = a * x**2 + b * x + c\"\"\"\n",
    "    return a * x**2 + b * x + c\n",
    "\n",
    "def dy(x, a, b):\n",
    "    return 2 * a * x + b\n",
    "\n",
    "def y_extr(a, b):\n",
    "    return -b / 2 / a"
   ]
  },
  {
   "cell_type": "code",
   "execution_count": 3,
   "metadata": {},
   "outputs": [
    {
     "name": "stdout",
     "output_type": "stream",
     "text": [
      "6\n",
      "4\n",
      "-1.0\n"
     ]
    }
   ],
   "source": [
    "a = 1\n",
    "b = 2\n",
    "c = 3\n",
    "print(y(1, a, b, c))\n",
    "print(dy(1, a, b))\n",
    "print(y_extr(a, b))"
   ]
  },
  {
   "cell_type": "code",
   "execution_count": 13,
   "metadata": {},
   "outputs": [
    {
     "name": "stdout",
     "output_type": "stream",
     "text": [
      "-0.3333333333333333\n",
      "-16.666666666666668\n"
     ]
    }
   ],
   "source": [
    "class Parabola:\n",
    "    def __init__(self, a, b, c):\n",
    "        self.a = a\n",
    "        self.b = b\n",
    "        self.c = c\n",
    "    \n",
    "    @property\n",
    "    def y_extr(self):\n",
    "        return -self.b / 2 / self.a\n",
    "    \n",
    "    def y(self, x):\n",
    "        return self.a * x**2 + self.b * x + self.c\n",
    "\n",
    "p = Parabola(1, 2, 3)\n",
    "p.a = 3\n",
    "print(p.y_extr)\n",
    "p.b = 100\n",
    "print(p.y_extr)"
   ]
  },
  {
   "cell_type": "code",
   "execution_count": null,
   "metadata": {},
   "outputs": [],
   "source": []
  }
 ],
 "metadata": {
  "kernelspec": {
   "display_name": "Python 3",
   "language": "python",
   "name": "python3"
  },
  "language_info": {
   "codemirror_mode": {
    "name": "ipython",
    "version": 3
   },
   "file_extension": ".py",
   "mimetype": "text/x-python",
   "name": "python",
   "nbconvert_exporter": "python",
   "pygments_lexer": "ipython3",
   "version": "3.6.5"
  }
 },
 "nbformat": 4,
 "nbformat_minor": 2
}
