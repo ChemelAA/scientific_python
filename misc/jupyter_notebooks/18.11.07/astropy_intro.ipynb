{
 "cells": [
  {
   "cell_type": "code",
   "execution_count": 1,
   "metadata": {},
   "outputs": [
    {
     "data": {
      "application/javascript": [
       "IPython.notebook.set_autosave_interval(20000)"
      ]
     },
     "metadata": {},
     "output_type": "display_data"
    },
    {
     "name": "stdout",
     "output_type": "stream",
     "text": [
      "Autosaving every 20 seconds\n"
     ]
    }
   ],
   "source": [
    "%autosave 20\n",
    "import matplotlib.pyplot as plt\n",
    "import numpy as np\n",
    "\n",
    "import astropy.utils.iers\n",
    "astropy.utils.iers.conf.auto_download = False"
   ]
  },
  {
   "cell_type": "code",
   "execution_count": 2,
   "metadata": {},
   "outputs": [
    {
     "data": {
      "text/latex": [
       "$1.9884754 \\times 10^{30} \\; \\mathrm{kg}$"
      ],
      "text/plain": [
       "<<class 'astropy.constants.iau2015.IAU2015'> name='Solar mass' value=1.9884754153381438e+30 uncertainty=9.236140093538353e+25 unit='kg' reference='IAU 2015 Resolution B 3 + CODATA 2014'>"
      ]
     },
     "execution_count": 2,
     "metadata": {},
     "output_type": "execute_result"
    }
   ],
   "source": [
    "import astropy.units as u\n",
    "import astropy.constants as c\n",
    "\n",
    "c.M_sun"
   ]
  },
  {
   "cell_type": "code",
   "execution_count": 3,
   "metadata": {},
   "outputs": [
    {
     "data": {
      "text/latex": [
       "$1.4959787 \\times 10^{13} \\; \\mathrm{cm}$"
      ],
      "text/plain": [
       "<Quantity 1.49597871e+13 cm>"
      ]
     },
     "execution_count": 3,
     "metadata": {},
     "output_type": "execute_result"
    }
   ],
   "source": [
    "c.au.cgs"
   ]
  },
  {
   "cell_type": "code",
   "execution_count": 4,
   "metadata": {},
   "outputs": [
    {
     "data": {
      "text/plain": [
       "14959787070000.0"
      ]
     },
     "execution_count": 4,
     "metadata": {},
     "output_type": "execute_result"
    }
   ],
   "source": [
    "AU = c.au.cgs.value\n",
    "AU"
   ]
  },
  {
   "cell_type": "code",
   "execution_count": 5,
   "metadata": {},
   "outputs": [
    {
     "name": "stdout",
     "output_type": "stream",
     "text": [
      "<class 'astropy.units.quantity.Quantity'>\n",
      "<class 'astropy.units.core.PrefixUnit'>\n"
     ]
    }
   ],
   "source": [
    "print(type(1*u.km))\n",
    "print(type(u.km))"
   ]
  },
  {
   "cell_type": "code",
   "execution_count": 6,
   "metadata": {},
   "outputs": [
    {
     "data": {
      "text/plain": [
       "float"
      ]
     },
     "execution_count": 6,
     "metadata": {},
     "output_type": "execute_result"
    }
   ],
   "source": [
    "a_mars = 1.5 * u.au\n",
    "a_mars_km = a_mars.to_value(u.km)\n",
    "type(a_mars_km)"
   ]
  },
  {
   "cell_type": "code",
   "execution_count": 7,
   "metadata": {},
   "outputs": [
    {
     "data": {
      "text/latex": [
       "$29.785254 \\; \\mathrm{\\frac{km}{s}}$"
      ],
      "text/plain": [
       "<Quantity 29.78525437 km / s>"
      ]
     },
     "execution_count": 7,
     "metadata": {},
     "output_type": "execute_result"
    }
   ],
   "source": [
    "v = 2*np.pi * 1*u.au / (1*u.year)\n",
    "v.to(u.km / u.s)"
   ]
  },
  {
   "cell_type": "code",
   "execution_count": 8,
   "metadata": {},
   "outputs": [],
   "source": [
    "v = np.sqrt(c.G * c.M_earth / c.R_earth)"
   ]
  },
  {
   "cell_type": "code",
   "execution_count": 9,
   "metadata": {},
   "outputs": [
    {
     "data": {
      "text/latex": [
       "$63.217536 \\; \\mathrm{\\frac{m^{2}\\,M_{\\odot}}{s^{3}}}$"
      ],
      "text/plain": [
       "<Quantity 63.2175361 m2 solMass / s3>"
      ]
     },
     "metadata": {},
     "output_type": "display_data"
    },
    {
     "data": {
      "text/latex": [
       "$1.2570652 \\times 10^{39} \\; \\mathrm{\\frac{erg}{s}}$"
      ],
      "text/plain": [
       "<Quantity 1.25706516e+39 erg / s>"
      ]
     },
     "metadata": {},
     "output_type": "display_data"
    },
    {
     "data": {
      "text/latex": [
       "$1.2570652 \\times 10^{32} \\; \\mathrm{\\frac{m^{2}\\,kg}{s^{3}}}$"
      ],
      "text/plain": [
       "<Quantity 1.25706516e+32 kg m2 / s3>"
      ]
     },
     "execution_count": 9,
     "metadata": {},
     "output_type": "execute_result"
    }
   ],
   "source": [
    "M = 10 * u.Msun\n",
    "Ledd = 4*np.pi * c.G * c.m_p * c.c / c.sigma_T * M\n",
    "display(Ledd)\n",
    "# Ledd.to(u.erg/u.s**2)\n",
    "display(Ledd.to(u.erg / u.s))\n",
    "Ledd.decompose()"
   ]
  },
  {
   "cell_type": "code",
   "execution_count": 10,
   "metadata": {},
   "outputs": [
    {
     "data": {
      "text/latex": [
       "$3.0599497 \\; \\mathrm{g^{1/2}}$"
      ],
      "text/plain": [
       "<Quantity 3.05994969 g(1/2)>"
      ]
     },
     "metadata": {},
     "output_type": "display_data"
    }
   ],
   "source": [
    "a = (10*u.g)**(2/7 + 1/5)\n",
    "display(a)"
   ]
  },
  {
   "cell_type": "code",
   "execution_count": 11,
   "metadata": {},
   "outputs": [
    {
     "data": {
      "text/latex": [
       "$3.0599497 \\; \\mathrm{g^{17/35}}$"
      ],
      "text/plain": [
       "<Quantity 3.05994969 g(17/35)>"
      ]
     },
     "metadata": {},
     "output_type": "display_data"
    }
   ],
   "source": [
    "from fractions import Fraction as Fr\n",
    "a = (10*u.g)**(Fr(2,7) + Fr(1,5))\n",
    "display(a)"
   ]
  },
  {
   "cell_type": "code",
   "execution_count": 12,
   "metadata": {},
   "outputs": [
    {
     "data": {
      "text/latex": [
       "$1 \\; \\mathrm{}$"
      ],
      "text/plain": [
       "<Quantity 1.>"
      ]
     },
     "metadata": {},
     "output_type": "display_data"
    },
    {
     "data": {
      "text/latex": [
       "$206264.81 \\; \\mathrm{}$"
      ],
      "text/plain": [
       "<Quantity 206264.8062479>"
      ]
     },
     "execution_count": 12,
     "metadata": {},
     "output_type": "execute_result"
    }
   ],
   "source": [
    "angle = 90*u.deg\n",
    "display(np.sin(angle))\n",
    "angle = 1*u.arcsec\n",
    "1 / np.sin(angle)"
   ]
  },
  {
   "cell_type": "code",
   "execution_count": 13,
   "metadata": {},
   "outputs": [
    {
     "data": {
      "text/latex": [
       "$0.001 \\; \\mathrm{pc}$"
      ],
      "text/plain": [
       "<Quantity 0.001 pc>"
      ]
     },
     "execution_count": 13,
     "metadata": {},
     "output_type": "execute_result"
    }
   ],
   "source": [
    "assert u.Angstrom == u.AA == u.angstrom\n",
    "assert 1*u.m == 1e2*u.cm == 1e3*u.mm == 1e6*u.micrometer == 1e-6*u.Mm\n",
    "(1*u.mpc).to(u.pc)"
   ]
  },
  {
   "cell_type": "code",
   "execution_count": 14,
   "metadata": {},
   "outputs": [
    {
     "data": {
      "text/latex": [
       "$6.957 \\times 10^{10} \\; \\mathrm{cm}$"
      ],
      "text/plain": [
       "<Quantity 6.957e+10 cm>"
      ]
     },
     "execution_count": 14,
     "metadata": {},
     "output_type": "execute_result"
    }
   ],
   "source": [
    "micron = list(u.Angstrom.find_equivalent_units())[1]\n",
    "(1*micron).to(u.cm)"
   ]
  },
  {
   "cell_type": "code",
   "execution_count": 15,
   "metadata": {},
   "outputs": [
    {
     "data": {
      "text/latex": [
       "$0.001 \\; \\mathrm{}$"
      ],
      "text/plain": [
       "<Quantity 0.001>"
      ]
     },
     "metadata": {},
     "output_type": "display_data"
    },
    {
     "data": {
      "text/plain": [
       "(0.1, Unit(\"cm / m\"))"
      ]
     },
     "execution_count": 15,
     "metadata": {},
     "output_type": "execute_result"
    }
   ],
   "source": [
    "x = 10*u.cm / (100 * u.m)\n",
    "display(x.to(u.dimensionless_unscaled))\n",
    "x.value, x.unit"
   ]
  },
  {
   "cell_type": "code",
   "execution_count": 16,
   "metadata": {},
   "outputs": [
    {
     "data": {
      "text/latex": [
       "$9.1201084 \\times 10^{-24} \\; \\mathrm{\\frac{erg}{Hz\\,s\\,cm^{2}}}$"
      ],
      "text/plain": [
       "<Quantity 9.12010839e-24 erg / (cm2 Hz s)>"
      ]
     },
     "metadata": {},
     "output_type": "display_data"
    },
    {
     "data": {
      "text/latex": [
       "$-2.1092437 \\; \\mathrm{mag}$$\\mathrm{\\left( \\mathrm{} \\right)}$"
      ],
      "text/plain": [
       "<Magnitude -2.10924375 mag>"
      ]
     },
     "metadata": {},
     "output_type": "display_data"
    },
    {
     "data": {
      "text/latex": [
       "$10 \\; \\mathrm{\\frac{ct}{s}}$"
      ],
      "text/plain": [
       "<Quantity 10. ct / s>"
      ]
     },
     "execution_count": 16,
     "metadata": {},
     "output_type": "execute_result"
    }
   ],
   "source": [
    "delta_m = 1*u.mag\n",
    "mAB = 10*u.ABmag  # u.STmag\n",
    "m = mAB - delta_m\n",
    "display(m.physical.to(u.erg/u.s/u.cm**2/u.Hz))\n",
    "\n",
    "m1 = u.Magnitude(10 * u.count / u.s)\n",
    "m2 = u.Magnitude(1e5 * u.count / u.hour)\n",
    "display((m2 - m1).decompose() - delta_m)\n",
    "m1.physical"
   ]
  },
  {
   "cell_type": "code",
   "execution_count": 17,
   "metadata": {},
   "outputs": [
    {
     "data": {
      "text/plain": [
       "<SkyCoord (ICRS): (ra, dec) in deg\n",
       "    (83.82208333, -5.39111111)>"
      ]
     },
     "metadata": {},
     "output_type": "display_data"
    },
    {
     "data": {
      "text/plain": [
       "<SkyCoord (ICRS): (ra, dec) in deg\n",
       "    (75., -5.38333333)>"
      ]
     },
     "metadata": {},
     "output_type": "display_data"
    },
    {
     "data": {
      "text/plain": [
       "<SkyCoord (Galactic): (l, b) in deg\n",
       "    (209.01374582, -19.38160147)>"
      ]
     },
     "metadata": {},
     "output_type": "display_data"
    },
    {
     "data": {
      "text/plain": [
       "<SkyCoord (Galactic): (l, b, distance) in (deg, deg, kpc)\n",
       "    (5., -5.38333333, 1.)>"
      ]
     },
     "execution_count": 17,
     "metadata": {},
     "output_type": "execute_result"
    }
   ],
   "source": [
    "from astropy import coordinates as coord\n",
    "\n",
    "display(coord.SkyCoord('05h35m17.3s -05d23m28s'))\n",
    "display(coord.SkyCoord(ra=5*u.hourangle, dec=-5*u.deg-23*u.arcmin))\n",
    "star = coord.SkyCoord('05h35m17.3s -05d23m28s')\n",
    "display(star.galactic)\n",
    "coord.SkyCoord(l=5*u.deg, b=-5*u.deg-23*u.arcmin, frame='galactic')\n",
    "coord.SkyCoord(l=5*u.deg, b=-5*u.deg-23*u.arcmin, distance=1*u.kpc, frame='galactic')"
   ]
  },
  {
   "cell_type": "code",
   "execution_count": 18,
   "metadata": {},
   "outputs": [
    {
     "name": "stderr",
     "output_type": "stream",
     "text": [
      "WARNING: Tried to get polar motions for times after IERS data is valid. Defaulting to polar motion from the 50-yr mean for those. This may affect precision at the 10s of arcsec level [astropy.coordinates.builtin_frames.utils]\n",
      "WARNING: (some) times are outside of range covered by IERS table. Assuming UT1-UTC=0 for coordinate transformations. [astropy.coordinates.builtin_frames.utils]\n"
     ]
    },
    {
     "data": {
      "text/plain": [
       "<SkyCoord (AltAz: obstime=2018-11-07 07:10:03.059219, location=(-5464468.109716696, -2493053.6504484517, 2150943.6050810195) m, pressure=0.0 hPa, temperature=0.0 deg_C, relative_humidity=0, obswl=1.0 micron): (az, alt) in deg\n",
       "    (96.56492181, 2.31669402)>"
      ]
     },
     "execution_count": 18,
     "metadata": {},
     "output_type": "execute_result"
    }
   ],
   "source": [
    "from astropy.time import Time\n",
    "\n",
    "t = Time.now()\n",
    "loc = coord.EarthLocation.of_site('subaru')\n",
    "# sai = coord.EarthLocation.of_address('Университетский проспект 13, Москва')\n",
    "loc.geodetic\n",
    "alt_az_frame = coord.AltAz(obstime=t, location=loc)\n",
    "star.transform_to(alt_az_frame)"
   ]
  },
  {
   "cell_type": "code",
   "execution_count": 32,
   "metadata": {},
   "outputs": [
    {
     "name": "stdout",
     "output_type": "stream",
     "text": [
      "<class 'astropy.coordinates.sky_coordinate.SkyCoord'>\n"
     ]
    },
    {
     "name": "stderr",
     "output_type": "stream",
     "text": [
      "WARNING: Tried to get polar motions for times after IERS data is valid. Defaulting to polar motion from the 50-yr mean for those. This may affect precision at the 10s of arcsec level [astropy.coordinates.builtin_frames.utils]\n",
      "WARNING: (some) times are outside of range covered by IERS table. Assuming UT1-UTC=0 for coordinate transformations. [astropy.coordinates.builtin_frames.utils]\n"
     ]
    },
    {
     "data": {
      "image/png": "[encoded data removed]",
      "text/plain": [
       "<Figure size 432x288 with 1 Axes>"
      ]
     },
     "metadata": {},
     "output_type": "display_data"
    }
   ],
   "source": [
    "from astropy import visualization\n",
    "\n",
    "dt = np.linspace(0, 1, 100) * u.day\n",
    "t = Time.now() + dt\n",
    "moon = coord.get_moon(t)\n",
    "print(type(moon))\n",
    "keck = coord.EarthLocation.of_site('Keck')\n",
    "moon_altaz = moon.transform_to(\n",
    "    coord.AltAz(location=keck)\n",
    ")\n",
    "with visualization.quantity_support():\n",
    "    plt.plot(dt, moon_altaz.alt.to(u.deg))"
   ]
  },
  {
   "cell_type": "code",
   "execution_count": 37,
   "metadata": {},
   "outputs": [
    {
     "data": {
      "image/png": "[encoded data removed]",
      "text/plain": [
       "<Figure size 432x288 with 1 Axes>"
      ]
     },
     "metadata": {},
     "output_type": "display_data"
    }
   ],
   "source": [
    "with visualization.quantity_support():\n",
    "    x = np.linspace(0, 1, 100) * u.km\n",
    "    y = np.linspace(1, 0, 100) * u.km\n",
    "    plt.xlabel('x')\n",
    "    plt.plot(x, y)"
   ]
  },
  {
   "cell_type": "code",
   "execution_count": 45,
   "metadata": {},
   "outputs": [
    {
     "name": "stdout",
     "output_type": "stream",
     "text": [
      "SIMPLE  =                    T / conforms to FITS standard                      BITPIX  =                    8 / array data type                                NAXIS   =                    2 / number of array dimensions                     NAXIS1  =                  800                                                  NAXIS2  =                  448                                                  EXTEND  =                    T                                                  END                                                                                                                                                                                                                                                                                                                                                                                                                                                                                                                                                                                                                                                                                                                                                                                                                                                                                                                                                                                                                                                                                                                                                                                                                                                                                                                                                                                                                                                                                                                                                                                                                                                                                                                                                                                                                                                                                                                                                                                                                                                                                                                                                                                                                                                                                                                                                                                                                                                                                             \n"
     ]
    },
    {
     "data": {
      "text/plain": [
       "<matplotlib.image.AxesImage at 0x7fd68c5e64e0>"
      ]
     },
     "execution_count": 45,
     "metadata": {},
     "output_type": "execute_result"
    },
    {
     "data": {
      "image/png": "[encoded data removed]",
      "text/plain": [
       "<Figure size 432x288 with 1 Axes>"
      ]
     },
     "metadata": {},
     "output_type": "display_data"
    }
   ],
   "source": [
    "from astropy import io\n",
    "\n",
    "with io.fits.open('sombrero.fits') as sombr:\n",
    "    hdu = sombr[0]\n",
    "    print(hdu.header)\n",
    "    data = hdu.data\n",
    "plt.imshow(data, origin='lower')\n"
   ]
  },
  {
   "cell_type": "code",
   "execution_count": 49,
   "metadata": {},
   "outputs": [
    {
     "data": {
      "text/html": [
       "<i>Table length=201</i>\n",
       "<table id=\"table140559446201568\" class=\"table-striped table-bordered table-condensed\">\n",
       "<thead><tr><th>t</th><th>Mdot</th><th>Mdisk</th><th>Rhot</th><th>Cirrout</th><th>H2R</th><th>Teffout</th><th>Tirrout</th><th>Qiir2Qvisout</th><th>Lx</th><th>mU</th><th>mB</th><th>mV</th><th>mR</th><th>mI</th><th>mJ</th></tr></thead>\n",
       "<thead><tr><th>float64</th><th>float64</th><th>float64</th><th>float64</th><th>int64</th><th>float64</th><th>float64</th><th>int64</th><th>int64</th><th>float64</th><th>float64</th><th>float64</th><th>float64</th><th>float64</th><th>float64</th><th>float64</th></tr></thead>\n",
       "<tr><td>0.0</td><td>0.00122746</td><td>2.62282e+25</td><td>1.36395</td><td>0</td><td>0.0990702</td><td>14251.3</td><td>0</td><td>0</td><td>0.0</td><td>14.9248</td><td>15.895</td><td>15.9793</td><td>15.9984</td><td>16.3256</td><td>16.2118</td></tr>\n",
       "<tr><td>0.25</td><td>283455000000000.0</td><td>2.62594e+25</td><td>1.36395</td><td>0</td><td>0.0939382</td><td>13042.3</td><td>0</td><td>0</td><td>6.8279e+30</td><td>14.8542</td><td>15.8376</td><td>15.932</td><td>15.9589</td><td>16.2923</td><td>16.1819</td></tr>\n",
       "<tr><td>0.5</td><td>3042750000000000.0</td><td>2.62726e+25</td><td>1.36395</td><td>0</td><td>0.0916451</td><td>12516.0</td><td>0</td><td>0</td><td>4.23856e+33</td><td>14.7935</td><td>15.7896</td><td>15.8933</td><td>15.9271</td><td>16.2658</td><td>16.1582</td></tr>\n",
       "<tr><td>0.75</td><td>1.4496e+16</td><td>2.62809e+25</td><td>1.36395</td><td>0</td><td>0.090089</td><td>12163.8</td><td>0</td><td>0</td><td>8.52088e+34</td><td>14.7408</td><td>15.7485</td><td>15.8606</td><td>15.9006</td><td>16.2439</td><td>16.1388</td></tr>\n",
       "<tr><td>1.0</td><td>4.62499e+16</td><td>2.62862e+25</td><td>1.36395</td><td>0</td><td>0.0888923</td><td>11895.7</td><td>0</td><td>0</td><td>5.40876e+35</td><td>14.6952</td><td>15.7134</td><td>15.8331</td><td>15.8785</td><td>16.2258</td><td>16.1228</td></tr>\n",
       "<tr><td>1.25</td><td>1.1458e+17</td><td>2.62887e+25</td><td>1.36395</td><td>0</td><td>0.0879139</td><td>11678.3</td><td>0</td><td>0</td><td>1.96501e+36</td><td>14.6562</td><td>15.6837</td><td>15.81</td><td>15.8602</td><td>16.211</td><td>16.1097</td></tr>\n",
       "<tr><td>1.5</td><td>2.3681e+17</td><td>2.62876e+25</td><td>1.36395</td><td>0</td><td>0.0870845</td><td>11495.3</td><td>0</td><td>0</td><td>5.13231e+36</td><td>14.6231</td><td>15.6588</td><td>15.7909</td><td>15.8451</td><td>16.1988</td><td>16.0991</td></tr>\n",
       "<tr><td>1.75</td><td>4.26009e+17</td><td>2.62819e+25</td><td>1.36395</td><td>0</td><td>0.0863637</td><td>11337.1</td><td>0</td><td>0</td><td>1.07543e+37</td><td>14.5954</td><td>15.6381</td><td>15.7752</td><td>15.8329</td><td>16.1891</td><td>16.0906</td></tr>\n",
       "<tr><td>2.0</td><td>6.86785e+17</td><td>2.627e+25</td><td>1.36395</td><td>0</td><td>0.0857263</td><td>11198.0</td><td>0</td><td>0</td><td>1.92413e+37</td><td>14.5724</td><td>15.6211</td><td>15.7625</td><td>15.8231</td><td>16.1814</td><td>16.0839</td></tr>\n",
       "<tr><td>2.25</td><td>1.01423e+18</td><td>2.62507e+25</td><td>1.36395</td><td>0</td><td>0.0851551</td><td>11073.9</td><td>0</td><td>0</td><td>3.05923e+37</td><td>14.5534</td><td>15.6073</td><td>15.7522</td><td>15.8154</td><td>16.1754</td><td>16.0788</td></tr>\n",
       "<tr><td>...</td><td>...</td><td>...</td><td>...</td><td>...</td><td>...</td><td>...</td><td>...</td><td>...</td><td>...</td><td>...</td><td>...</td><td>...</td><td>...</td><td>...</td><td>...</td></tr>\n",
       "<tr><td>47.75</td><td>2.14171e+18</td><td>9.93322e+24</td><td>1.36395</td><td>0</td><td>0.0647973</td><td>7023.36</td><td>0</td><td>0</td><td>7.26798e+37</td><td>15.2886</td><td>16.3233</td><td>16.4286</td><td>16.4385</td><td>16.737</td><td>16.5972</td></tr>\n",
       "<tr><td>48.0</td><td>2.1276e+18</td><td>9.88738e+24</td><td>1.36395</td><td>0</td><td>0.0647331</td><td>7011.77</td><td>0</td><td>0</td><td>7.21346e+37</td><td>15.2929</td><td>16.3273</td><td>16.4323</td><td>16.4418</td><td>16.74</td><td>16.5999</td></tr>\n",
       "<tr><td>48.25</td><td>2.11362e+18</td><td>9.84184e+24</td><td>1.36395</td><td>0</td><td>0.0646691</td><td>7000.22</td><td>0</td><td>0</td><td>7.15945e+37</td><td>15.2972</td><td>16.3314</td><td>16.4361</td><td>16.4452</td><td>16.7429</td><td>16.6026</td></tr>\n",
       "<tr><td>48.5</td><td>2.09975e+18</td><td>9.7966e+24</td><td>1.36395</td><td>0</td><td>0.0646053</td><td>6988.71</td><td>0</td><td>0</td><td>7.10593e+37</td><td>15.3014</td><td>16.3354</td><td>16.4398</td><td>16.4486</td><td>16.7459</td><td>16.6053</td></tr>\n",
       "<tr><td>48.75</td><td>2.086e+18</td><td>9.75166e+24</td><td>1.36395</td><td>0</td><td>0.0645416</td><td>6977.24</td><td>0</td><td>0</td><td>7.0529e+37</td><td>15.3057</td><td>16.3394</td><td>16.4435</td><td>16.4519</td><td>16.7489</td><td>16.608</td></tr>\n",
       "<tr><td>49.0</td><td>2.07237e+18</td><td>9.70701e+24</td><td>1.36395</td><td>0</td><td>0.0644782</td><td>6965.82</td><td>0</td><td>0</td><td>7.00036e+37</td><td>15.31</td><td>16.3434</td><td>16.4472</td><td>16.4553</td><td>16.7518</td><td>16.6107</td></tr>\n",
       "<tr><td>49.25</td><td>2.05886e+18</td><td>9.66265e+24</td><td>1.36395</td><td>0</td><td>0.0644149</td><td>6954.43</td><td>0</td><td>0</td><td>6.94829e+37</td><td>15.3142</td><td>16.3475</td><td>16.4509</td><td>16.4586</td><td>16.7548</td><td>16.6134</td></tr>\n",
       "<tr><td>49.5</td><td>2.04545e+18</td><td>9.61858e+24</td><td>1.36395</td><td>0</td><td>0.0643519</td><td>6943.09</td><td>0</td><td>0</td><td>6.8967e+37</td><td>15.3185</td><td>16.3515</td><td>16.4547</td><td>16.462</td><td>16.7577</td><td>16.6161</td></tr>\n",
       "<tr><td>49.75</td><td>2.03217e+18</td><td>9.57479e+24</td><td>1.36395</td><td>0</td><td>0.064289</td><td>6931.78</td><td>0</td><td>0</td><td>6.84558e+37</td><td>15.3227</td><td>16.3555</td><td>16.4584</td><td>16.4653</td><td>16.7607</td><td>16.6188</td></tr>\n",
       "<tr><td>50.0</td><td>2.01899e+18</td><td>9.5313e+24</td><td>1.36395</td><td>0</td><td>0.0642263</td><td>6920.52</td><td>0</td><td>0</td><td>6.79493e+37</td><td>15.327</td><td>16.3595</td><td>16.462</td><td>16.4687</td><td>16.7636</td><td>16.6214</td></tr>\n",
       "</table>"
      ],
      "text/plain": [
       "<Table length=201>\n",
       "   t           Mdot           Mdisk      Rhot  ...    mR      mI      mJ  \n",
       "float64      float64         float64   float64 ... float64 float64 float64\n",
       "------- ------------------ ----------- ------- ... ------- ------- -------\n",
       "    0.0         0.00122746 2.62282e+25 1.36395 ... 15.9984 16.3256 16.2118\n",
       "   0.25  283455000000000.0 2.62594e+25 1.36395 ... 15.9589 16.2923 16.1819\n",
       "    0.5 3042750000000000.0 2.62726e+25 1.36395 ... 15.9271 16.2658 16.1582\n",
       "   0.75         1.4496e+16 2.62809e+25 1.36395 ... 15.9006 16.2439 16.1388\n",
       "    1.0        4.62499e+16 2.62862e+25 1.36395 ... 15.8785 16.2258 16.1228\n",
       "   1.25         1.1458e+17 2.62887e+25 1.36395 ... 15.8602  16.211 16.1097\n",
       "    1.5         2.3681e+17 2.62876e+25 1.36395 ... 15.8451 16.1988 16.0991\n",
       "   1.75        4.26009e+17 2.62819e+25 1.36395 ... 15.8329 16.1891 16.0906\n",
       "    2.0        6.86785e+17   2.627e+25 1.36395 ... 15.8231 16.1814 16.0839\n",
       "   2.25        1.01423e+18 2.62507e+25 1.36395 ... 15.8154 16.1754 16.0788\n",
       "    ...                ...         ...     ... ...     ...     ...     ...\n",
       "  47.75        2.14171e+18 9.93322e+24 1.36395 ... 16.4385  16.737 16.5972\n",
       "   48.0         2.1276e+18 9.88738e+24 1.36395 ... 16.4418   16.74 16.5999\n",
       "  48.25        2.11362e+18 9.84184e+24 1.36395 ... 16.4452 16.7429 16.6026\n",
       "   48.5        2.09975e+18  9.7966e+24 1.36395 ... 16.4486 16.7459 16.6053\n",
       "  48.75          2.086e+18 9.75166e+24 1.36395 ... 16.4519 16.7489  16.608\n",
       "   49.0        2.07237e+18 9.70701e+24 1.36395 ... 16.4553 16.7518 16.6107\n",
       "  49.25        2.05886e+18 9.66265e+24 1.36395 ... 16.4586 16.7548 16.6134\n",
       "   49.5        2.04545e+18 9.61858e+24 1.36395 ...  16.462 16.7577 16.6161\n",
       "  49.75        2.03217e+18 9.57479e+24 1.36395 ... 16.4653 16.7607 16.6188\n",
       "   50.0        2.01899e+18  9.5313e+24 1.36395 ... 16.4687 16.7636 16.6214"
      ]
     },
     "metadata": {},
     "output_type": "display_data"
    }
   ],
   "source": [
    "data = io.ascii.read('freddi.dat')\n",
    "display(data)\n",
    "io.ascii.write(data['t', 'Mdot'], 'table.tex', format='latex')"
   ]
  },
  {
   "cell_type": "code",
   "execution_count": 50,
   "metadata": {},
   "outputs": [
    {
     "name": "stdout",
     "output_type": "stream",
     "text": [
      "\\begin{table}\n",
      "\\begin{tabular}{cc}\n",
      "t & Mdot \\\\\n",
      "0.0 & 0.00122746 \\\\\n",
      "0.25 & 283455000000000.0 \\\\\n",
      "0.5 & 3042750000000000.0 \\\\\n",
      "0.75 & 1.4496e+16 \\\\\n",
      "1.0 & 4.62499e+16 \\\\\n",
      "1.25 & 1.1458e+17 \\\\\n",
      "1.5 & 2.3681e+17 \\\\\n",
      "1.75 & 4.26009e+17 \\\\\n",
      "2.0 & 6.86785e+17 \\\\\n",
      "2.25 & 1.01423e+18 \\\\\n",
      "2.5 & 1.39589e+18 \\\\\n",
      "2.75 & 1.81519e+18 \\\\\n",
      "3.0 & 2.25477e+18 \\\\\n",
      "3.25 & 2.69884e+18 \\\\\n",
      "3.5 & 3.13446e+18 \\\\\n",
      "3.75 & 3.55188e+18 \\\\\n",
      "4.0 & 3.94435e+18 \\\\\n",
      "4.25 & 4.30774e+18 \\\\\n",
      "4.5 & 4.6399e+18 \\\\\n",
      "4.75 & 4.94025e+18 \\\\\n",
      "5.0 & 5.20926e+18 \\\\\n",
      "5.25 & 5.44815e+18 \\\\\n",
      "5.5 & 5.65858e+18 \\\\\n",
      "5.75 & 5.8425e+18 \\\\\n",
      "6.0 & 6.00196e+18 \\\\\n",
      "6.25 & 6.13901e+18 \\\\\n",
      "6.5 & 6.25569e+18 \\\\\n",
      "6.75 & 6.3539e+18 \\\\\n",
      "7.0 & 6.43547e+18 \\\\\n",
      "7.25 & 6.50206e+18 \\\\\n",
      "7.5 & 6.55523e+18 \\\\\n",
      "7.75 & 6.59637e+18 \\\\\n",
      "8.0 & 6.62678e+18 \\\\\n",
      "8.25 & 6.64762e+18 \\\\\n",
      "8.5 & 6.65994e+18 \\\\\n",
      "8.75 & 6.66468e+18 \\\\\n",
      "9.0 & 6.66269e+18 \\\\\n",
      "9.25 & 6.65474e+18 \\\\\n",
      "9.5 & 6.64151e+18 \\\\\n",
      "9.75 & 6.62361e+18 \\\\\n",
      "10.0 & 6.60159e+18 \\\\\n",
      "10.25 & 6.57595e+18 \\\\\n",
      "10.5 & 6.54711e+18 \\\\\n",
      "10.75 & 6.51549e+18 \\\\\n",
      "11.0 & 6.48142e+18 \\\\\n",
      "11.25 & 6.44523e+18 \\\\\n",
      "11.5 & 6.40718e+18 \\\\\n",
      "11.75 & 6.36754e+18 \\\\\n",
      "12.0 & 6.32653e+18 \\\\\n",
      "12.25 & 6.28434e+18 \\\\\n",
      "12.5 & 6.24116e+18 \\\\\n",
      "12.75 & 6.19714e+18 \\\\\n",
      "13.0 & 6.15243e+18 \\\\\n",
      "13.25 & 6.10716e+18 \\\\\n",
      "13.5 & 6.06143e+18 \\\\\n",
      "13.75 & 6.01535e+18 \\\\\n",
      "14.0 & 5.96901e+18 \\\\\n",
      "14.25 & 5.92249e+18 \\\\\n",
      "14.5 & 5.87586e+18 \\\\\n",
      "14.75 & 5.82918e+18 \\\\\n",
      "15.0 & 5.78251e+18 \\\\\n",
      "15.25 & 5.7359e+18 \\\\\n",
      "15.5 & 5.68939e+18 \\\\\n",
      "15.75 & 5.64302e+18 \\\\\n",
      "16.0 & 5.59684e+18 \\\\\n",
      "16.25 & 5.55086e+18 \\\\\n",
      "16.5 & 5.50511e+18 \\\\\n",
      "16.75 & 5.45963e+18 \\\\\n",
      "17.0 & 5.41442e+18 \\\\\n",
      "17.25 & 5.36951e+18 \\\\\n",
      "17.5 & 5.32491e+18 \\\\\n",
      "17.75 & 5.28064e+18 \\\\\n",
      "18.0 & 5.2367e+18 \\\\\n",
      "18.25 & 5.19311e+18 \\\\\n",
      "18.5 & 5.14988e+18 \\\\\n",
      "18.75 & 5.10701e+18 \\\\\n",
      "19.0 & 5.06451e+18 \\\\\n",
      "19.25 & 5.02239e+18 \\\\\n",
      "19.5 & 4.98063e+18 \\\\\n",
      "19.75 & 4.93926e+18 \\\\\n",
      "20.0 & 4.89827e+18 \\\\\n",
      "20.25 & 4.85767e+18 \\\\\n",
      "20.5 & 4.81745e+18 \\\\\n",
      "20.75 & 4.77761e+18 \\\\\n",
      "21.0 & 4.73815e+18 \\\\\n",
      "21.25 & 4.69908e+18 \\\\\n",
      "21.5 & 4.66039e+18 \\\\\n",
      "21.75 & 4.62208e+18 \\\\\n",
      "22.0 & 4.58415e+18 \\\\\n",
      "22.25 & 4.5466e+18 \\\\\n",
      "22.5 & 4.50942e+18 \\\\\n",
      "22.75 & 4.47261e+18 \\\\\n",
      "23.0 & 4.43617e+18 \\\\\n",
      "23.25 & 4.4001e+18 \\\\\n",
      "23.5 & 4.36439e+18 \\\\\n",
      "23.75 & 4.32904e+18 \\\\\n",
      "24.0 & 4.29405e+18 \\\\\n",
      "24.25 & 4.25942e+18 \\\\\n",
      "24.5 & 4.22513e+18 \\\\\n",
      "24.75 & 4.19119e+18 \\\\\n",
      "25.0 & 4.15759e+18 \\\\\n",
      "25.25 & 4.12434e+18 \\\\\n",
      "25.5 & 4.09142e+18 \\\\\n",
      "25.75 & 4.05883e+18 \\\\\n",
      "26.0 & 4.02658e+18 \\\\\n",
      "26.25 & 3.99465e+18 \\\\\n",
      "26.5 & 3.96304e+18 \\\\\n",
      "26.75 & 3.93175e+18 \\\\\n",
      "27.0 & 3.90078e+18 \\\\\n",
      "27.25 & 3.87012e+18 \\\\\n",
      "27.5 & 3.83977e+18 \\\\\n",
      "27.75 & 3.80972e+18 \\\\\n",
      "28.0 & 3.77997e+18 \\\\\n",
      "28.25 & 3.75052e+18 \\\\\n",
      "28.5 & 3.72137e+18 \\\\\n",
      "28.75 & 3.69251e+18 \\\\\n",
      "29.0 & 3.66394e+18 \\\\\n",
      "29.25 & 3.63565e+18 \\\\\n",
      "29.5 & 3.60764e+18 \\\\\n",
      "29.75 & 3.57991e+18 \\\\\n",
      "30.0 & 3.55245e+18 \\\\\n",
      "30.25 & 3.52527e+18 \\\\\n",
      "30.5 & 3.49835e+18 \\\\\n",
      "30.75 & 3.4717e+18 \\\\\n",
      "31.0 & 3.44531e+18 \\\\\n",
      "31.25 & 3.41918e+18 \\\\\n",
      "31.5 & 3.39331e+18 \\\\\n",
      "31.75 & 3.36769e+18 \\\\\n",
      "32.0 & 3.34232e+18 \\\\\n",
      "32.25 & 3.31719e+18 \\\\\n",
      "32.5 & 3.29231e+18 \\\\\n",
      "32.75 & 3.26767e+18 \\\\\n",
      "33.0 & 3.24327e+18 \\\\\n",
      "33.25 & 3.21911e+18 \\\\\n",
      "33.5 & 3.19517e+18 \\\\\n",
      "33.75 & 3.17147e+18 \\\\\n",
      "34.0 & 3.148e+18 \\\\\n",
      "34.25 & 3.12475e+18 \\\\\n",
      "34.5 & 3.10172e+18 \\\\\n",
      "34.75 & 3.07891e+18 \\\\\n",
      "35.0 & 3.05632e+18 \\\\\n",
      "35.25 & 3.03395e+18 \\\\\n",
      "35.5 & 3.01178e+18 \\\\\n",
      "35.75 & 2.98983e+18 \\\\\n",
      "36.0 & 2.96808e+18 \\\\\n",
      "36.25 & 2.94654e+18 \\\\\n",
      "36.5 & 2.9252e+18 \\\\\n",
      "36.75 & 2.90406e+18 \\\\\n",
      "37.0 & 2.88312e+18 \\\\\n",
      "37.25 & 2.86237e+18 \\\\\n",
      "37.5 & 2.84182e+18 \\\\\n",
      "37.75 & 2.82146e+18 \\\\\n",
      "38.0 & 2.80129e+18 \\\\\n",
      "38.25 & 2.7813e+18 \\\\\n",
      "38.5 & 2.7615e+18 \\\\\n",
      "38.75 & 2.74188e+18 \\\\\n",
      "39.0 & 2.72244e+18 \\\\\n",
      "39.25 & 2.70318e+18 \\\\\n",
      "39.5 & 2.6841e+18 \\\\\n",
      "39.75 & 2.66519e+18 \\\\\n",
      "40.0 & 2.64646e+18 \\\\\n",
      "40.25 & 2.62789e+18 \\\\\n",
      "40.5 & 2.6095e+18 \\\\\n",
      "40.75 & 2.59127e+18 \\\\\n",
      "41.0 & 2.5732e+18 \\\\\n",
      "41.25 & 2.5553e+18 \\\\\n",
      "41.5 & 2.53756e+18 \\\\\n",
      "41.75 & 2.51998e+18 \\\\\n",
      "42.0 & 2.50256e+18 \\\\\n",
      "42.25 & 2.4853e+18 \\\\\n",
      "42.5 & 2.46818e+18 \\\\\n",
      "42.75 & 2.45122e+18 \\\\\n",
      "43.0 & 2.43442e+18 \\\\\n",
      "43.25 & 2.41776e+18 \\\\\n",
      "43.5 & 2.40125e+18 \\\\\n",
      "43.75 & 2.38488e+18 \\\\\n",
      "44.0 & 2.36866e+18 \\\\\n",
      "44.25 & 2.35259e+18 \\\\\n",
      "44.5 & 2.33665e+18 \\\\\n",
      "44.75 & 2.32085e+18 \\\\\n",
      "45.0 & 2.3052e+18 \\\\\n",
      "45.25 & 2.28968e+18 \\\\\n",
      "45.5 & 2.27429e+18 \\\\\n",
      "45.75 & 2.25904e+18 \\\\\n",
      "46.0 & 2.24392e+18 \\\\\n",
      "46.25 & 2.22894e+18 \\\\\n",
      "46.5 & 2.21408e+18 \\\\\n",
      "46.75 & 2.19936e+18 \\\\\n",
      "47.0 & 2.18476e+18 \\\\\n",
      "47.25 & 2.17028e+18 \\\\\n",
      "47.5 & 2.15593e+18 \\\\\n",
      "47.75 & 2.14171e+18 \\\\\n",
      "48.0 & 2.1276e+18 \\\\\n",
      "48.25 & 2.11362e+18 \\\\\n",
      "48.5 & 2.09975e+18 \\\\\n",
      "48.75 & 2.086e+18 \\\\\n",
      "49.0 & 2.07237e+18 \\\\\n",
      "49.25 & 2.05886e+18 \\\\\n",
      "49.5 & 2.04545e+18 \\\\\n",
      "49.75 & 2.03217e+18 \\\\\n",
      "50.0 & 2.01899e+18 \\\\\n",
      "\\end{tabular}\n",
      "\\end{table}\n",
      "\n"
     ]
    }
   ],
   "source": [
    "with open('table.tex') as fh:\n",
    "    print(fh.read())"
   ]
  },
  {
   "cell_type": "code",
   "execution_count": null,
   "metadata": {},
   "outputs": [],
   "source": []
  }
 ],
 "metadata": {
  "kernelspec": {
   "display_name": "Python 3",
   "language": "python",
   "name": "python3"
  },
  "language_info": {
   "codemirror_mode": {
    "name": "ipython",
    "version": 3
   },
   "file_extension": ".py",
   "mimetype": "text/x-python",
   "name": "python",
   "nbconvert_exporter": "python",
   "pygments_lexer": "ipython3",
   "version": "3.6.5"
  }
 },
 "nbformat": 4,
 "nbformat_minor": 2
}
