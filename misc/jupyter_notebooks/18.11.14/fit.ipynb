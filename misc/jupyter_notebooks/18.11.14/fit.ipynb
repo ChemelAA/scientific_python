{
 "cells": [
  {
   "cell_type": "code",
   "execution_count": 22,
   "metadata": {},
   "outputs": [
    {
     "data": {
      "application/javascript": [
       "IPython.notebook.set_autosave_interval(20000)"
      ]
     },
     "metadata": {},
     "output_type": "display_data"
    },
    {
     "name": "stdout",
     "output_type": "stream",
     "text": [
      "Autosaving every 20 seconds\n"
     ]
    }
   ],
   "source": [
    "%autosave 20\n",
    "%matplotlib inline\n",
    "import numpy as np\n",
    "import matplotlib.pyplot as plt\n",
    "from astropy.coordinates import SkyCoord\n",
    "import astropy.units as u\n",
    "from scipy import optimize\n",
    "import pandas as pd"
   ]
  },
  {
   "cell_type": "code",
   "execution_count": 20,
   "metadata": {},
   "outputs": [
    {
     "data": {
      "text/plain": [
       "<SkyCoord (Galactic): (l, b, distance) in (deg, deg, pc)\n",
       "    (204.61668338, -27.18344969, 100.)\n",
       " (pm_l_cosb, pm_b, radial_velocity) in (mas / yr, mas / yr, km / s)\n",
       "    (1.35101031, 0.41805639, 5.)>"
      ]
     },
     "metadata": {},
     "output_type": "display_data"
    },
    {
     "data": {
      "text/plain": [
       "<SkyCoord (CIRS: obstime=J2000.000): (ra, dec, distance) in (deg, deg, pc)\n",
       "    (75.00537301, -5.38592396, 99.99999628)\n",
       " (pm_ra_cosdec, pm_dec, radial_velocity) in (mas / yr, mas / yr, km / s)\n",
       "    (-56064.66875155, -64131.82653705, 17.96993101)>"
      ]
     },
     "metadata": {},
     "output_type": "display_data"
    }
   ],
   "source": [
    "coord = SkyCoord(ra=5*u.hourangle, dec=-5*u.deg-23*u.arcmin,\n",
    "                 radial_velocity=5*u.km/u.s,\n",
    "                 distance=100*u.pc,\n",
    "                 pm_ra_cosdec=1*u.mas/u.yr, pm_dec=-1*u.mas/u.yr)\n",
    "display(coord.transform_to('galactic'))"
   ]
  },
  {
   "cell_type": "code",
   "execution_count": 37,
   "metadata": {},
   "outputs": [
    {
     "data": {
      "text/plain": [
       "[<matplotlib.lines.Line2D at 0x7f538a359208>]"
      ]
     },
     "execution_count": 37,
     "metadata": {},
     "output_type": "execute_result"
    },
    {
     "data": {
      "image/png": "[encoded data removed]",
      "text/plain": [
       "<Figure size 432x288 with 1 Axes>"
      ]
     },
     "metadata": {},
     "output_type": "display_data"
    }
   ],
   "source": [
    "data = np.genfromtxt('diagram.csv', delimiter=',', names=('d', 'v'))\n",
    "plt.plot(data['d'], data['v'], 'x')\n",
    "\n",
    "def v_d(d, a, b):\n",
    "    return a + b * d\n",
    "\n",
    "def v_d_jac(d, a, b):\n",
    "    jac = np.empty(d.shape + (2,))\n",
    "    jac[:,0] = 1\n",
    "    jac[:,1] = d\n",
    "    return jac\n",
    "\n",
    "(v0, H0), _ = optimize.curve_fit(v_d, data['d'], data['v'],\n",
    "                                 (0, 500), jac=v_d_jac)\n",
    "\n",
    "d_ = np.r_[data['d'].min():data['d'].max():100j]\n",
    "plt.plot(d_, v_d(d_, v0, H0))"
   ]
  },
  {
   "cell_type": "code",
   "execution_count": 52,
   "metadata": {},
   "outputs": [
    {
     "data": {
      "text/html": [
       "<i>Table masked=True length=1</i>\n",
       "<table id=\"table139997426414088\" class=\"table-striped table-bordered table-condensed\">\n",
       "<thead><tr><th>MAIN_ID</th><th>RA</th><th>DEC</th><th>RA_PREC</th><th>DEC_PREC</th><th>COO_ERR_MAJA</th><th>COO_ERR_MINA</th><th>COO_ERR_ANGLE</th><th>COO_QUAL</th><th>COO_WAVELENGTH</th><th>COO_BIBCODE</th></tr></thead>\n",
       "<thead><tr><th></th><th>&quot;h:m:s&quot;</th><th>&quot;d:m:s&quot;</th><th></th><th></th><th>mas</th><th>mas</th><th>deg</th><th></th><th></th><th></th></tr></thead>\n",
       "<thead><tr><th>object</th><th>str13</th><th>str13</th><th>int16</th><th>int16</th><th>float32</th><th>float32</th><th>int16</th><th>str1</th><th>str1</th><th>object</th></tr></thead>\n",
       "<tr><td>M  87</td><td>12 30 49.4233</td><td>+12 23 28.043</td><td>9</td><td>9</td><td>0.250</td><td>0.017</td><td>90</td><td>A</td><td>R</td><td>2009A&amp;A...493..317L</td></tr>\n",
       "</table>"
      ],
      "text/plain": [
       "<Table masked=True length=1>\n",
       "MAIN_ID       RA           DEC      ... COO_WAVELENGTH     COO_BIBCODE    \n",
       "           \"h:m:s\"       \"d:m:s\"    ...                                   \n",
       " object     str13         str13     ...      str1             object      \n",
       "------- ------------- ------------- ... -------------- -------------------\n",
       "  M  87 12 30 49.4233 +12 23 28.043 ...              R 2009A&A...493..317L"
      ]
     },
     "metadata": {},
     "output_type": "display_data"
    },
    {
     "data": {
      "text/plain": [
       "<SkyCoord (ICRS): (ra, dec) in deg\n",
       "    [(187.70593042, 12.39112306)]>"
      ]
     },
     "metadata": {},
     "output_type": "display_data"
    },
    {
     "data": {
      "text/html": [
       "<i>Table masked=True length=48</i>\n",
       "<table id=\"table139997426738792\" class=\"table-striped table-bordered table-condensed\">\n",
       "<thead><tr><th>RAJ2000</th><th>DEJ2000</th><th>_2MASS</th><th>Jmag</th><th>e_Jmag</th><th>Hmag</th><th>e_Hmag</th><th>Kmag</th><th>e_Kmag</th><th>Qflg</th><th>Rflg</th><th>Bflg</th><th>Cflg</th><th>Xflg</th><th>Aflg</th></tr></thead>\n",
       "<thead><tr><th>deg</th><th>deg</th><th></th><th>mag</th><th>mag</th><th>mag</th><th>mag</th><th>mag</th><th>mag</th><th></th><th></th><th></th><th></th><th></th><th></th></tr></thead>\n",
       "<thead><tr><th>float64</th><th>float64</th><th>bytes17</th><th>float32</th><th>float32</th><th>float32</th><th>float32</th><th>float32</th><th>float32</th><th>bytes3</th><th>bytes3</th><th>bytes3</th><th>bytes3</th><th>uint8</th><th>uint8</th></tr></thead>\n",
       "<tr><td>187.384668</td><td>11.492561</td><td>12293232+1129332</td><td>7.734</td><td>0.024</td><td>7.550</td><td>0.027</td><td>7.525</td><td>0.024</td><td>AAA</td><td>111</td><td>111</td><td>000</td><td>0</td><td>0</td></tr>\n",
       "<tr><td>187.034572</td><td>11.696364</td><td>12280829+1141469</td><td>9.324</td><td>0.027</td><td>8.952</td><td>0.022</td><td>8.906</td><td>0.023</td><td>AAA</td><td>222</td><td>111</td><td>000</td><td>0</td><td>0</td></tr>\n",
       "<tr><td>187.452468</td><td>11.725997</td><td>12294859+1143335</td><td>8.399</td><td>0.026</td><td>8.027</td><td>0.040</td><td>7.951</td><td>0.017</td><td>AAA</td><td>111</td><td>111</td><td>000</td><td>0</td><td>0</td></tr>\n",
       "<tr><td>187.479851</td><td>11.725157</td><td>12295516+1143305</td><td>9.802</td><td>0.023</td><td>9.301</td><td>0.023</td><td>9.205</td><td>0.021</td><td>AAA</td><td>222</td><td>111</td><td>000</td><td>0</td><td>0</td></tr>\n",
       "<tr><td>187.630281</td><td>11.691707</td><td>12303126+1141301</td><td>9.451</td><td>0.036</td><td>9.064</td><td>0.044</td><td>8.868</td><td>0.027</td><td>EEE</td><td>222</td><td>111</td><td>c00</td><td>0</td><td>0</td></tr>\n",
       "<tr><td>187.125600</td><td>11.767382</td><td>12283014+1146025</td><td>8.884</td><td>0.030</td><td>8.611</td><td>0.034</td><td>8.516</td><td>0.021</td><td>AAA</td><td>112</td><td>111</td><td>000</td><td>0</td><td>0</td></tr>\n",
       "<tr><td>187.851927</td><td>11.755060</td><td>12312446+1145182</td><td>9.212</td><td>0.022</td><td>9.035</td><td>0.023</td><td>8.938</td><td>0.023</td><td>AAA</td><td>222</td><td>111</td><td>000</td><td>0</td><td>0</td></tr>\n",
       "<tr><td>188.075788</td><td>11.790572</td><td>12321818+1147260</td><td>9.584</td><td>0.023</td><td>9.296</td><td>0.026</td><td>9.202</td><td>0.021</td><td>AAA</td><td>222</td><td>111</td><td>000</td><td>0</td><td>0</td></tr>\n",
       "<tr><td>187.061934</td><td>11.826527</td><td>12281486+1149354</td><td>5.560</td><td>0.023</td><td>4.931</td><td>0.015</td><td>4.656</td><td>0.026</td><td>AAA</td><td>111</td><td>111</td><td>000</td><td>0</td><td>0</td></tr>\n",
       "<tr><td>...</td><td>...</td><td>...</td><td>...</td><td>...</td><td>...</td><td>...</td><td>...</td><td>...</td><td>...</td><td>...</td><td>...</td><td>...</td><td>...</td><td>...</td></tr>\n",
       "<tr><td>186.878176</td><td>12.752537</td><td>12273076+1245091</td><td>8.588</td><td>0.021</td><td>8.022</td><td>0.042</td><td>7.864</td><td>0.020</td><td>AAA</td><td>111</td><td>111</td><td>000</td><td>0</td><td>0</td></tr>\n",
       "<tr><td>187.466444</td><td>12.807917</td><td>12295194+1248285</td><td>9.929</td><td>0.020</td><td>9.782</td><td>0.019</td><td>9.781</td><td>0.020</td><td>AAA</td><td>222</td><td>111</td><td>000</td><td>0</td><td>0</td></tr>\n",
       "<tr><td>187.517495</td><td>12.810256</td><td>12300419+1248369</td><td>8.763</td><td>0.034</td><td>8.401</td><td>0.055</td><td>8.203</td><td>0.017</td><td>AAA</td><td>111</td><td>111</td><td>000</td><td>0</td><td>0</td></tr>\n",
       "<tr><td>187.278036</td><td>13.043756</td><td>12290672+1302375</td><td>9.923</td><td>0.020</td><td>9.432</td><td>0.017</td><td>9.338</td><td>0.016</td><td>AAA</td><td>222</td><td>111</td><td>000</td><td>0</td><td>0</td></tr>\n",
       "<tr><td>187.199483</td><td>13.087933</td><td>12284787+1305165</td><td>8.434</td><td>0.021</td><td>8.242</td><td>0.017</td><td>8.151</td><td>0.021</td><td>AAA</td><td>111</td><td>111</td><td>000</td><td>0</td><td>0</td></tr>\n",
       "<tr><td>187.979308</td><td>13.107058</td><td>12315503+1306254</td><td>9.430</td><td>0.022</td><td>8.681</td><td>0.023</td><td>8.472</td><td>0.019</td><td>AAA</td><td>212</td><td>111</td><td>000</td><td>0</td><td>0</td></tr>\n",
       "<tr><td>187.276658</td><td>13.249753</td><td>12290639+1314591</td><td>9.685</td><td>0.021</td><td>9.375</td><td>0.017</td><td>9.321</td><td>0.016</td><td>AAA</td><td>222</td><td>111</td><td>000</td><td>0</td><td>0</td></tr>\n",
       "<tr><td>187.477531</td><td>13.249132</td><td>12295460+1314568</td><td>9.322</td><td>0.020</td><td>8.761</td><td>0.017</td><td>8.617</td><td>0.016</td><td>AAA</td><td>222</td><td>111</td><td>000</td><td>0</td><td>0</td></tr>\n",
       "<tr><td>187.536853</td><td>13.233472</td><td>12300884+1314004</td><td>8.665</td><td>0.039</td><td>7.931</td><td>0.061</td><td>7.743</td><td>0.027</td><td>AAA</td><td>111</td><td>111</td><td>000</td><td>0</td><td>0</td></tr>\n",
       "<tr><td>188.056937</td><td>13.246722</td><td>12321366+1314481</td><td>9.832</td><td>0.021</td><td>9.305</td><td>0.022</td><td>9.201</td><td>0.019</td><td>AAA</td><td>222</td><td>111</td><td>000</td><td>0</td><td>0</td></tr>\n",
       "</table>"
      ],
      "text/plain": [
       "<Table masked=True length=48>\n",
       " RAJ2000    DEJ2000        _2MASS        Jmag  ...  Bflg   Cflg   Xflg  Aflg\n",
       "   deg        deg                        mag   ...                          \n",
       " float64    float64       bytes17      float32 ... bytes3 bytes3 uint8 uint8\n",
       "---------- ---------- ---------------- ------- ... ------ ------ ----- -----\n",
       "187.384668  11.492561 12293232+1129332   7.734 ...    111    000     0     0\n",
       "187.034572  11.696364 12280829+1141469   9.324 ...    111    000     0     0\n",
       "187.452468  11.725997 12294859+1143335   8.399 ...    111    000     0     0\n",
       "187.479851  11.725157 12295516+1143305   9.802 ...    111    000     0     0\n",
       "187.630281  11.691707 12303126+1141301   9.451 ...    111    c00     0     0\n",
       "187.125600  11.767382 12283014+1146025   8.884 ...    111    000     0     0\n",
       "187.851927  11.755060 12312446+1145182   9.212 ...    111    000     0     0\n",
       "188.075788  11.790572 12321818+1147260   9.584 ...    111    000     0     0\n",
       "187.061934  11.826527 12281486+1149354   5.560 ...    111    000     0     0\n",
       "       ...        ...              ...     ... ...    ...    ...   ...   ...\n",
       "186.878176  12.752537 12273076+1245091   8.588 ...    111    000     0     0\n",
       "187.466444  12.807917 12295194+1248285   9.929 ...    111    000     0     0\n",
       "187.517495  12.810256 12300419+1248369   8.763 ...    111    000     0     0\n",
       "187.278036  13.043756 12290672+1302375   9.923 ...    111    000     0     0\n",
       "187.199483  13.087933 12284787+1305165   8.434 ...    111    000     0     0\n",
       "187.979308  13.107058 12315503+1306254   9.430 ...    111    000     0     0\n",
       "187.276658  13.249753 12290639+1314591   9.685 ...    111    000     0     0\n",
       "187.477531  13.249132 12295460+1314568   9.322 ...    111    000     0     0\n",
       "187.536853  13.233472 12300884+1314004   8.665 ...    111    000     0     0\n",
       "188.056937  13.246722 12321366+1314481   9.832 ...    111    000     0     0"
      ]
     },
     "execution_count": 52,
     "metadata": {},
     "output_type": "execute_result"
    }
   ],
   "source": [
    "from astroquery import vizier\n",
    "from astroquery import simbad\n",
    "# conda install -c astropy astroquery\n",
    "# pip3 install astroquery\n",
    "m87 = simbad.Simbad.query_object('M87')\n",
    "display(m87)\n",
    "m87_coord = SkyCoord(ra=m87['RA'], dec=m87['DEC'],\n",
    "                     unit=(u.hourangle, u.deg))\n",
    "display(m87_coord)\n",
    "\n",
    "viz = vizier.Vizier(\n",
    "    column_filters={'Jmag': '<10'},\n",
    "    row_limit=100,\n",
    ")\n",
    "tables = viz.query_region(m87_coord[0], radius=1*u.deg,\n",
    "                          catalog='2MASS')\n",
    "tables[0]"
   ]
  },
  {
   "cell_type": "code",
   "execution_count": 81,
   "metadata": {},
   "outputs": [
    {
     "name": "stdout",
     "output_type": "stream",
     "text": [
      " active_mask: array([0, 0, 0])\n",
      "        cost: 10.570052101742341\n",
      "         fun: <MaskedColumn name='x1' dtype='float64' length=740>\n",
      "0.021282058144056037\n",
      "-0.17635845722222498\n",
      " -0.0182790885464037\n",
      "-0.14872565447865682\n",
      "-0.27182356955313125\n",
      " 0.27798067612144806\n",
      " 0.06314672613605055\n",
      " 0.13666835411755685\n",
      "-0.12107218644429807\n",
      " -0.1098988633869844\n",
      "-0.08689218861948333\n",
      " 0.12286884771465267\n",
      "                 ...\n",
      "-0.16798386349589478\n",
      "0.008762473695025363\n",
      "-0.16625423469364264\n",
      " 0.12894200899473063\n",
      "0.019600891127151243\n",
      " 0.08367782935281198\n",
      "0.007105040712996669\n",
      " 0.11298463625138666\n",
      "   0.194534279932693\n",
      "-0.12394845300535806\n",
      " 0.01920676416535727\n",
      "-0.06461656038566232\n",
      "        grad: <MaskedColumn name='x1' dtype='float64' length=3>\n",
      "-0.006843629535302376\n",
      "  0.03138103254929803\n",
      "  -0.2826112195655166\n",
      "         jac: array([[ 0.77539682,  1.        , -1.        ],\n",
      "       [ 0.87925053,  1.        , -1.        ],\n",
      "       [ 0.76443148,  1.        ,  1.        ],\n",
      "       ...,\n",
      "       [ 0.03911877,  1.        , -0.5       ],\n",
      "       [ 0.03911877,  1.        , -1.        ],\n",
      "       [ 0.0358572 ,  1.        , -0.25      ]])\n",
      "     message: '`xtol` termination condition is satisfied.'\n",
      "        nfev: 11\n",
      "        njev: 3\n",
      "  optimality: 0.2496852159836657\n",
      "      status: 3\n",
      "     success: True\n",
      "           x: array([  0.72298385, -19.08708444,   0.11650636])\n"
     ]
    },
    {
     "data": {
      "text/plain": [
       "array([  0.72298385, -19.08708444,   0.11650636])"
      ]
     },
     "execution_count": 81,
     "metadata": {},
     "output_type": "execute_result"
    }
   ],
   "source": [
    "from scipy import integrate\n",
    "\n",
    "# JLA\n",
    "viz = vizier.Vizier(row_limit=1000)\n",
    "tables = viz.get_catalogs('J/A+A/568/A22/tablef3')\n",
    "t = tables[0]\n",
    "\n",
    "def distance(z, Omega):\n",
    "    \"\"\"Luminosity distance, pc\"\"\"\n",
    "    z = np.asarray(z, dtype=float)\n",
    "    H0 = 70 / 1e6\n",
    "    c = 3e5\n",
    "    d = np.empty_like(z)\n",
    "    for i, z_i in np.ndenumerate(z):\n",
    "        d[i] = c / H0 * (1+z_i) * integrate.quad(\n",
    "            lambda z: 1 / np.sqrt(Omega + (1-Omega) * (1+z)**3),\n",
    "            0, z_i\n",
    "        )[0]\n",
    "    return d\n",
    "\n",
    "def res(params, m, z, x1, c):\n",
    "    Omega, M0, alpha, beta = params\n",
    "    d = distance(z, Omega)\n",
    "    m_th = M0 - 5 + 5*np.log10(d) - alpha * x1 + beta * c\n",
    "    return m_th - m\n",
    "\n",
    "result = optimize.least_squares(\n",
    "    res,\n",
    "    x0=(0.7, -19, 0.15, 2),\n",
    "    args=(t['mb'], t['zcmb'], t['x1'], t['c']),\n",
    "    bounds=([0, -22, 0, 0], [1, -18, 1, 3]),\n",
    ")\n",
    "print(result)\n",
    "result.x\n",
    "\n",
    "# import lmfit"
   ]
  },
  {
   "cell_type": "code",
   "execution_count": null,
   "metadata": {},
   "outputs": [],
   "source": [
    "?optimize.least_squares"
   ]
  },
  {
   "cell_type": "code",
   "execution_count": null,
   "metadata": {},
   "outputs": [],
   "source": []
  }
 ],
 "metadata": {
  "kernelspec": {
   "display_name": "Python 3",
   "language": "python",
   "name": "python3"
  },
  "language_info": {
   "codemirror_mode": {
    "name": "ipython",
    "version": 3
   },
   "file_extension": ".py",
   "mimetype": "text/x-python",
   "name": "python",
   "nbconvert_exporter": "python",
   "pygments_lexer": "ipython3",
   "version": "3.6.5"
  }
 },
 "nbformat": 4,
 "nbformat_minor": 2
}
