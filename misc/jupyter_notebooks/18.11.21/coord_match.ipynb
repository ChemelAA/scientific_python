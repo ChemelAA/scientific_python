{
 "cells": [
  {
   "cell_type": "code",
   "execution_count": 58,
   "metadata": {},
   "outputs": [
    {
     "data": {
      "application/javascript": [
       "IPython.notebook.set_autosave_interval(20000)"
      ]
     },
     "metadata": {},
     "output_type": "display_data"
    },
    {
     "name": "stdout",
     "output_type": "stream",
     "text": [
      "Autosaving every 20 seconds\n"
     ]
    }
   ],
   "source": [
    "%autosave 20\n",
    "%matplotlib inline\n",
    "import matplotlib.pyplot as plt\n",
    "import numpy as np\n",
    "import astropy.units as u\n",
    "from astropy.coordinates import SkyCoord\n",
    "from astroquery.vizier import Vizier\n",
    "from astroquery.simbad import Simbad\n",
    "from astropy import table"
   ]
  },
  {
   "cell_type": "code",
   "execution_count": 9,
   "metadata": {},
   "outputs": [
    {
     "data": {
      "text/html": [
       "<i>Table masked=True length=1</i>\n",
       "<table id=\"table139787841124280\" class=\"table-striped table-bordered table-condensed\">\n",
       "<thead><tr><th>MAIN_ID</th><th>RA</th><th>DEC</th><th>RA_PREC</th><th>DEC_PREC</th><th>COO_ERR_MAJA</th><th>COO_ERR_MINA</th><th>COO_ERR_ANGLE</th><th>COO_QUAL</th><th>COO_WAVELENGTH</th><th>COO_BIBCODE</th></tr></thead>\n",
       "<thead><tr><th></th><th>&quot;h:m:s&quot;</th><th>&quot;d:m:s&quot;</th><th></th><th></th><th>mas</th><th>mas</th><th>deg</th><th></th><th></th><th></th></tr></thead>\n",
       "<thead><tr><th>object</th><th>str13</th><th>str13</th><th>int16</th><th>int16</th><th>float32</th><th>float32</th><th>int16</th><th>str1</th><th>str1</th><th>object</th></tr></thead>\n",
       "<tr><td>NGC  2682</td><td>08 51 18</td><td>+11 48.0</td><td>4</td><td>4</td><td>--</td><td>--</td><td>0</td><td>E</td><td></td><td>2005ApJ...619..824X</td></tr>\n",
       "</table>"
      ],
      "text/plain": [
       "<Table masked=True length=1>\n",
       " MAIN_ID     RA      DEC    ... COO_QUAL COO_WAVELENGTH     COO_BIBCODE    \n",
       "          \"h:m:s\"  \"d:m:s\"  ...                                            \n",
       "  object   str13    str13   ...   str1        str1             object      \n",
       "--------- -------- -------- ... -------- -------------- -------------------\n",
       "NGC  2682 08 51 18 +11 48.0 ...        E                2005ApJ...619..824X"
      ]
     },
     "metadata": {},
     "output_type": "display_data"
    },
    {
     "data": {
      "text/plain": [
       "<SkyCoord (ICRS): (ra, dec) in deg\n",
       "    [(132.825, 11.8)]>"
      ]
     },
     "execution_count": 9,
     "metadata": {},
     "output_type": "execute_result"
    }
   ],
   "source": [
    "m67 = Simbad.query_object('M67')\n",
    "display(m67)\n",
    "# SkyCoord.guess_from_table(m67['RA', 'DEC'])\n",
    "center = SkyCoord(ra=m67['RA'], dec=m67['DEC'],\n",
    "                  unit=(u.hourangle, u.deg))\n",
    "center"
   ]
  },
  {
   "cell_type": "code",
   "execution_count": 19,
   "metadata": {
    "scrolled": true
   },
   "outputs": [
    {
     "data": {
      "text/html": [
       "<i>Table masked=True length=271</i>\n",
       "<table id=\"table139787839148216\" class=\"table-striped table-bordered table-condensed\">\n",
       "<thead><tr><th>_q</th><th>RAJ2000</th><th>DEJ2000</th><th>_2MASS</th><th>Jmag</th><th>e_Jmag</th><th>Hmag</th><th>e_Hmag</th><th>Kmag</th><th>e_Kmag</th><th>Qflg</th><th>Rflg</th><th>Bflg</th><th>Cflg</th><th>Xflg</th><th>Aflg</th></tr></thead>\n",
       "<thead><tr><th></th><th>deg</th><th>deg</th><th></th><th>mag</th><th>mag</th><th>mag</th><th>mag</th><th>mag</th><th>mag</th><th></th><th></th><th></th><th></th><th></th><th></th></tr></thead>\n",
       "<thead><tr><th>int32</th><th>float64</th><th>float64</th><th>bytes17</th><th>float32</th><th>float32</th><th>float32</th><th>float32</th><th>float32</th><th>float32</th><th>bytes3</th><th>bytes3</th><th>bytes3</th><th>bytes3</th><th>uint8</th><th>uint8</th></tr></thead>\n",
       "<tr><td>1</td><td>132.810285</td><td>11.743501</td><td>08511446+1144366</td><td>13.859</td><td>0.036</td><td>13.479</td><td>0.041</td><td>13.334</td><td>0.044</td><td>AAA</td><td>222</td><td>222</td><td>ccc</td><td>0</td><td>0</td></tr>\n",
       "<tr><td>1</td><td>132.810279</td><td>11.744696</td><td>08511446+1144409</td><td>14.176</td><td>0.028</td><td>13.650</td><td>0.023</td><td>13.598</td><td>0.036</td><td>AAA</td><td>222</td><td>222</td><td>ccc</td><td>0</td><td>0</td></tr>\n",
       "<tr><td>1</td><td>132.793054</td><td>11.730462</td><td>08511033+1143496</td><td>16.286</td><td>0.104</td><td>15.553</td><td>0.121</td><td>15.463</td><td>0.172</td><td>ABC</td><td>222</td><td>111</td><td>000</td><td>0</td><td>0</td></tr>\n",
       "<tr><td>1</td><td>132.806171</td><td>11.740373</td><td>08511348+1144253</td><td>16.506</td><td>0.123</td><td>16.310</td><td>--</td><td>15.894</td><td>--</td><td>BUU</td><td>200</td><td>100</td><td>000</td><td>0</td><td>0</td></tr>\n",
       "<tr><td>1</td><td>132.786225</td><td>11.733243</td><td>08510869+1143596</td><td>16.539</td><td>0.126</td><td>16.255</td><td>0.229</td><td>15.621</td><td>--</td><td>BDU</td><td>220</td><td>110</td><td>000</td><td>0</td><td>0</td></tr>\n",
       "<tr><td>1</td><td>132.817854</td><td>11.742462</td><td>08511628+1144328</td><td>12.308</td><td>0.021</td><td>12.021</td><td>0.020</td><td>11.954</td><td>0.020</td><td>AAA</td><td>222</td><td>111</td><td>000</td><td>0</td><td>0</td></tr>\n",
       "<tr><td>1</td><td>132.839180</td><td>11.733575</td><td>08512140+1144008</td><td>14.821</td><td>0.037</td><td>14.325</td><td>0.049</td><td>14.082</td><td>0.052</td><td>AAA</td><td>222</td><td>111</td><td>cc0</td><td>0</td><td>0</td></tr>\n",
       "<tr><td>1</td><td>132.840989</td><td>11.721581</td><td>08512183+1143176</td><td>13.274</td><td>0.023</td><td>13.003</td><td>0.023</td><td>12.952</td><td>0.025</td><td>AAA</td><td>222</td><td>111</td><td>000</td><td>0</td><td>0</td></tr>\n",
       "<tr><td>1</td><td>132.848917</td><td>11.736172</td><td>08512374+1144102</td><td>16.669</td><td>0.142</td><td>16.011</td><td>0.192</td><td>15.790</td><td>0.229</td><td>BCD</td><td>222</td><td>111</td><td>000</td><td>0</td><td>0</td></tr>\n",
       "<tr><td>...</td><td>...</td><td>...</td><td>...</td><td>...</td><td>...</td><td>...</td><td>...</td><td>...</td><td>...</td><td>...</td><td>...</td><td>...</td><td>...</td><td>...</td><td>...</td></tr>\n",
       "<tr><td>1</td><td>132.892817</td><td>11.828841</td><td>08513427+1149438</td><td>11.804</td><td>0.022</td><td>11.569</td><td>0.022</td><td>11.522</td><td>0.020</td><td>AAA</td><td>222</td><td>111</td><td>000</td><td>0</td><td>0</td></tr>\n",
       "<tr><td>1</td><td>132.892725</td><td>11.848458</td><td>08513425+1150544</td><td>12.585</td><td>0.023</td><td>12.341</td><td>0.023</td><td>12.257</td><td>0.023</td><td>AAA</td><td>222</td><td>111</td><td>000</td><td>0</td><td>0</td></tr>\n",
       "<tr><td>1</td><td>132.886145</td><td>11.841920</td><td>08513267+1150309</td><td>14.164</td><td>0.030</td><td>13.679</td><td>0.032</td><td>13.614</td><td>0.039</td><td>AAA</td><td>222</td><td>111</td><td>000</td><td>0</td><td>0</td></tr>\n",
       "<tr><td>1</td><td>132.883952</td><td>11.834337</td><td>08513214+1150036</td><td>11.514</td><td>0.022</td><td>11.226</td><td>0.020</td><td>11.198</td><td>0.020</td><td>AAA</td><td>222</td><td>111</td><td>000</td><td>0</td><td>0</td></tr>\n",
       "<tr><td>1</td><td>132.885801</td><td>11.814464</td><td>08513259+1148520</td><td>10.645</td><td>0.022</td><td>10.541</td><td>0.020</td><td>10.526</td><td>0.018</td><td>AAA</td><td>222</td><td>111</td><td>000</td><td>0</td><td>0</td></tr>\n",
       "<tr><td>1</td><td>132.885731</td><td>11.844612</td><td>08513257+1150406</td><td>11.730</td><td>0.022</td><td>11.657</td><td>0.020</td><td>11.617</td><td>0.020</td><td>AAA</td><td>222</td><td>111</td><td>000</td><td>0</td><td>0</td></tr>\n",
       "<tr><td>1</td><td>132.802904</td><td>11.878436</td><td>08511269+1152423</td><td>8.650</td><td>0.018</td><td>8.122</td><td>0.018</td><td>7.976</td><td>0.018</td><td>AAA</td><td>111</td><td>111</td><td>000</td><td>0</td><td>0</td></tr>\n",
       "<tr><td>1</td><td>132.833993</td><td>11.879987</td><td>08512015+1152479</td><td>12.772</td><td>0.022</td><td>12.545</td><td>0.020</td><td>12.457</td><td>0.021</td><td>AAA</td><td>222</td><td>111</td><td>000</td><td>0</td><td>0</td></tr>\n",
       "<tr><td>1</td><td>132.856334</td><td>11.877449</td><td>08512552+1152388</td><td>12.150</td><td>0.022</td><td>11.897</td><td>0.020</td><td>11.810</td><td>0.021</td><td>AAA</td><td>222</td><td>111</td><td>000</td><td>0</td><td>0</td></tr>\n",
       "<tr><td>1</td><td>132.840646</td><td>11.877172</td><td>08512175+1152378</td><td>10.105</td><td>0.023</td><td>9.816</td><td>0.022</td><td>9.760</td><td>0.018</td><td>AAA</td><td>222</td><td>111</td><td>000</td><td>0</td><td>0</td></tr>\n",
       "</table>"
      ],
      "text/plain": [
       "<Table masked=True length=271>\n",
       "  _q   RAJ2000    DEJ2000        _2MASS      ...  Bflg   Cflg   Xflg  Aflg\n",
       "         deg        deg                      ...                          \n",
       "int32  float64    float64       bytes17      ... bytes3 bytes3 uint8 uint8\n",
       "----- ---------- ---------- ---------------- ... ------ ------ ----- -----\n",
       "    1 132.810285  11.743501 08511446+1144366 ...    222    ccc     0     0\n",
       "    1 132.810279  11.744696 08511446+1144409 ...    222    ccc     0     0\n",
       "    1 132.793054  11.730462 08511033+1143496 ...    111    000     0     0\n",
       "    1 132.806171  11.740373 08511348+1144253 ...    100    000     0     0\n",
       "    1 132.786225  11.733243 08510869+1143596 ...    110    000     0     0\n",
       "    1 132.817854  11.742462 08511628+1144328 ...    111    000     0     0\n",
       "    1 132.839180  11.733575 08512140+1144008 ...    111    cc0     0     0\n",
       "    1 132.840989  11.721581 08512183+1143176 ...    111    000     0     0\n",
       "    1 132.848917  11.736172 08512374+1144102 ...    111    000     0     0\n",
       "  ...        ...        ...              ... ...    ...    ...   ...   ...\n",
       "    1 132.892817  11.828841 08513427+1149438 ...    111    000     0     0\n",
       "    1 132.892725  11.848458 08513425+1150544 ...    111    000     0     0\n",
       "    1 132.886145  11.841920 08513267+1150309 ...    111    000     0     0\n",
       "    1 132.883952  11.834337 08513214+1150036 ...    111    000     0     0\n",
       "    1 132.885801  11.814464 08513259+1148520 ...    111    000     0     0\n",
       "    1 132.885731  11.844612 08513257+1150406 ...    111    000     0     0\n",
       "    1 132.802904  11.878436 08511269+1152423 ...    111    000     0     0\n",
       "    1 132.833993  11.879987 08512015+1152479 ...    111    000     0     0\n",
       "    1 132.856334  11.877449 08512552+1152388 ...    111    000     0     0\n",
       "    1 132.840646  11.877172 08512175+1152378 ...    111    000     0     0"
      ]
     },
     "metadata": {},
     "output_type": "display_data"
    },
    {
     "data": {
      "text/html": [
       "<i>Table masked=True length=1401</i>\n",
       "<table id=\"table139787839908664\" class=\"table-striped table-bordered table-condensed\">\n",
       "<thead><tr><th>_q</th><th>mode</th><th>cl</th><th>SDSS</th><th>m_SDSS</th><th>zsp</th><th>umag</th><th>e_umag</th><th>gmag</th><th>e_gmag</th><th>rmag</th><th>e_rmag</th><th>imag</th><th>e_imag</th><th>zmag</th><th>e_zmag</th><th>RA_ICRS</th><th>DE_ICRS</th><th>ObsDate</th><th>Q</th></tr></thead>\n",
       "<thead><tr><th></th><th></th><th></th><th></th><th></th><th></th><th>mag</th><th>mag</th><th>mag</th><th>mag</th><th>mag</th><th>mag</th><th>mag</th><th>mag</th><th>mag</th><th>mag</th><th>deg</th><th>deg</th><th>yr</th><th></th></tr></thead>\n",
       "<thead><tr><th>int32</th><th>uint8</th><th>uint8</th><th>bytes19</th><th>bytes1</th><th>float64</th><th>float32</th><th>float32</th><th>float32</th><th>float32</th><th>float32</th><th>float32</th><th>float32</th><th>float32</th><th>float32</th><th>float32</th><th>float64</th><th>float64</th><th>float64</th><th>uint8</th></tr></thead>\n",
       "<tr><td>1</td><td>2</td><td>3</td><td>J085116.77+114829.2</td><td></td><td>--</td><td>20.841</td><td>0.431</td><td>22.441</td><td>0.804</td><td>24.681</td><td>6.832</td><td>24.270</td><td>8.114</td><td>18.390</td><td>0.166</td><td>132.819886</td><td>11.808115</td><td>2006.0844</td><td>3</td></tr>\n",
       "<tr><td>1</td><td>1</td><td>6</td><td>J085116.78+115038.8</td><td></td><td>--</td><td>14.967</td><td>0.006</td><td>15.049</td><td>0.013</td><td>14.243</td><td>0.009</td><td>13.369</td><td>0.009</td><td>13.202</td><td>0.005</td><td>132.819920</td><td>11.844135</td><td>2005.9314</td><td>3</td></tr>\n",
       "<tr><td>1</td><td>2</td><td>6</td><td>J085116.78+115038.9</td><td></td><td>--</td><td>15.047</td><td>0.006</td><td>14.535</td><td>0.009</td><td>14.196</td><td>0.009</td><td>15.187</td><td>0.011</td><td>13.249</td><td>0.004</td><td>132.819926</td><td>11.844151</td><td>2006.0161</td><td>3</td></tr>\n",
       "<tr><td>1</td><td>1</td><td>6</td><td>J085116.81+114541.6</td><td></td><td>--</td><td>15.873</td><td>0.005</td><td>14.439</td><td>0.003</td><td>13.921</td><td>0.003</td><td>13.735</td><td>0.003</td><td>13.726</td><td>0.004</td><td>132.820053</td><td>11.761561</td><td>2005.9314</td><td>3</td></tr>\n",
       "<tr><td>1</td><td>1</td><td>3</td><td>J085116.81+114807.4</td><td></td><td>--</td><td>17.625</td><td>0.074</td><td>19.837</td><td>0.141</td><td>16.103</td><td>0.013</td><td>14.947</td><td>0.016</td><td>16.534</td><td>0.113</td><td>132.820063</td><td>11.802067</td><td>2005.9314</td><td>3</td></tr>\n",
       "<tr><td>1</td><td>2</td><td>6</td><td>J085116.81+114541.6</td><td>*</td><td>--</td><td>16.432</td><td>0.008</td><td>14.911</td><td>0.005</td><td>15.822</td><td>0.014</td><td>14.156</td><td>0.005</td><td>14.214</td><td>0.007</td><td>132.820069</td><td>11.761566</td><td>2006.0844</td><td>3</td></tr>\n",
       "<tr><td>1</td><td>1</td><td>6</td><td>J085116.85+114938.6</td><td></td><td>--</td><td>19.266</td><td>0.030</td><td>16.806</td><td>0.004</td><td>15.733</td><td>0.004</td><td>15.367</td><td>0.004</td><td>15.167</td><td>0.005</td><td>132.820234</td><td>11.827405</td><td>2005.9314</td><td>3</td></tr>\n",
       "<tr><td>1</td><td>2</td><td>6</td><td>J085116.85+114938.6</td><td>*</td><td>--</td><td>19.193</td><td>0.027</td><td>16.791</td><td>0.004</td><td>15.736</td><td>0.003</td><td>15.356</td><td>0.003</td><td>15.152</td><td>0.005</td><td>132.820239</td><td>11.827412</td><td>2006.0161</td><td>3</td></tr>\n",
       "<tr><td>1</td><td>1</td><td>6</td><td>J085116.97+115009.3</td><td></td><td>--</td><td>14.885</td><td>0.004</td><td>14.539</td><td>0.011</td><td>14.919</td><td>0.011</td><td>15.225</td><td>0.014</td><td>13.245</td><td>0.005</td><td>132.820726</td><td>11.835924</td><td>2005.9314</td><td>3</td></tr>\n",
       "<tr><td>...</td><td>...</td><td>...</td><td>...</td><td>...</td><td>...</td><td>...</td><td>...</td><td>...</td><td>...</td><td>...</td><td>...</td><td>...</td><td>...</td><td>...</td><td>...</td><td>...</td><td>...</td><td>...</td><td>...</td></tr>\n",
       "<tr><td>1</td><td>2</td><td>6</td><td>J085116.32+114711.3</td><td></td><td>--</td><td>24.398</td><td>0.716</td><td>21.991</td><td>0.069</td><td>20.450</td><td>0.029</td><td>19.081</td><td>0.015</td><td>18.308</td><td>0.020</td><td>132.818016</td><td>11.786476</td><td>2006.0844</td><td>3</td></tr>\n",
       "<tr><td>1</td><td>2</td><td>6</td><td>J085116.43+114834.3</td><td></td><td>--</td><td>25.592</td><td>0.811</td><td>21.966</td><td>0.078</td><td>21.777</td><td>0.104</td><td>20.221</td><td>0.042</td><td>20.405</td><td>0.131</td><td>132.818471</td><td>11.809527</td><td>2006.0161</td><td>3</td></tr>\n",
       "<tr><td>1</td><td>1</td><td>6</td><td>J085116.46+114607.3</td><td></td><td>--</td><td>23.583</td><td>0.844</td><td>20.807</td><td>0.033</td><td>19.231</td><td>0.013</td><td>18.222</td><td>0.009</td><td>17.652</td><td>0.017</td><td>132.818608</td><td>11.768719</td><td>2005.9314</td><td>3</td></tr>\n",
       "<tr><td>1</td><td>1</td><td>6</td><td>J085116.47+114900.1</td><td></td><td>--</td><td>21.381</td><td>0.139</td><td>18.740</td><td>0.009</td><td>17.361</td><td>0.005</td><td>16.798</td><td>0.005</td><td>16.471</td><td>0.008</td><td>132.818628</td><td>11.816693</td><td>2005.9314</td><td>3</td></tr>\n",
       "<tr><td>1</td><td>2</td><td>6</td><td>J085116.47+114900.1</td><td>*</td><td>--</td><td>21.117</td><td>0.107</td><td>18.719</td><td>0.008</td><td>17.369</td><td>0.005</td><td>16.795</td><td>0.005</td><td>16.503</td><td>0.008</td><td>132.818630</td><td>11.816701</td><td>2006.0161</td><td>3</td></tr>\n",
       "<tr><td>1</td><td>2</td><td>6</td><td>J085116.50+114723.9</td><td></td><td>--</td><td>22.393</td><td>0.218</td><td>22.069</td><td>0.077</td><td>22.271</td><td>0.137</td><td>22.261</td><td>0.189</td><td>23.057</td><td>0.419</td><td>132.818769</td><td>11.789983</td><td>2006.0844</td><td>3</td></tr>\n",
       "<tr><td>1</td><td>2</td><td>3</td><td>J085116.61+114529.3</td><td></td><td>--</td><td>24.631</td><td>9.999</td><td>17.000</td><td>0.020</td><td>16.128</td><td>0.015</td><td>16.188</td><td>0.019</td><td>14.333</td><td>0.017</td><td>132.819241</td><td>11.758138</td><td>2006.0844</td><td>3</td></tr>\n",
       "<tr><td>1</td><td>1</td><td>3</td><td>J085116.65+114528.9</td><td></td><td>--</td><td>24.358</td><td>3.652</td><td>16.021</td><td>0.015</td><td>16.623</td><td>0.024</td><td>16.473</td><td>0.024</td><td>22.823</td><td>9.999</td><td>132.819412</td><td>11.758052</td><td>2005.9314</td><td>3</td></tr>\n",
       "<tr><td>1</td><td>1</td><td>6</td><td>J085116.68+114529.3</td><td></td><td>--</td><td>14.846</td><td>0.005</td><td>14.886</td><td>0.011</td><td>14.748</td><td>0.011</td><td>14.636</td><td>0.012</td><td>12.490</td><td>0.004</td><td>132.819537</td><td>11.758144</td><td>2005.9314</td><td>3</td></tr>\n",
       "<tr><td>1</td><td>2</td><td>6</td><td>J085116.69+114529.3</td><td></td><td>--</td><td>14.571</td><td>0.006</td><td>15.403</td><td>0.012</td><td>15.798</td><td>0.014</td><td>14.651</td><td>0.013</td><td>13.414</td><td>0.014</td><td>132.819564</td><td>11.758164</td><td>2006.0844</td><td>3</td></tr>\n",
       "</table>"
      ],
      "text/plain": [
       "<Table masked=True length=1401>\n",
       "  _q   mode   cl          SDSS        ...  RA_ICRS    DE_ICRS    ObsDate    Q  \n",
       "                                      ...    deg        deg         yr         \n",
       "int32 uint8 uint8       bytes19       ...  float64    float64    float64  uint8\n",
       "----- ----- ----- ------------------- ... ---------- ---------- --------- -----\n",
       "    1     2     3 J085116.77+114829.2 ... 132.819886  11.808115 2006.0844     3\n",
       "    1     1     6 J085116.78+115038.8 ... 132.819920  11.844135 2005.9314     3\n",
       "    1     2     6 J085116.78+115038.9 ... 132.819926  11.844151 2006.0161     3\n",
       "    1     1     6 J085116.81+114541.6 ... 132.820053  11.761561 2005.9314     3\n",
       "    1     1     3 J085116.81+114807.4 ... 132.820063  11.802067 2005.9314     3\n",
       "    1     2     6 J085116.81+114541.6 ... 132.820069  11.761566 2006.0844     3\n",
       "    1     1     6 J085116.85+114938.6 ... 132.820234  11.827405 2005.9314     3\n",
       "    1     2     6 J085116.85+114938.6 ... 132.820239  11.827412 2006.0161     3\n",
       "    1     1     6 J085116.97+115009.3 ... 132.820726  11.835924 2005.9314     3\n",
       "  ...   ...   ...                 ... ...        ...        ...       ...   ...\n",
       "    1     2     6 J085116.32+114711.3 ... 132.818016  11.786476 2006.0844     3\n",
       "    1     2     6 J085116.43+114834.3 ... 132.818471  11.809527 2006.0161     3\n",
       "    1     1     6 J085116.46+114607.3 ... 132.818608  11.768719 2005.9314     3\n",
       "    1     1     6 J085116.47+114900.1 ... 132.818628  11.816693 2005.9314     3\n",
       "    1     2     6 J085116.47+114900.1 ... 132.818630  11.816701 2006.0161     3\n",
       "    1     2     6 J085116.50+114723.9 ... 132.818769  11.789983 2006.0844     3\n",
       "    1     2     3 J085116.61+114529.3 ... 132.819241  11.758138 2006.0844     3\n",
       "    1     1     3 J085116.65+114528.9 ... 132.819412  11.758052 2005.9314     3\n",
       "    1     1     6 J085116.68+114529.3 ... 132.819537  11.758144 2005.9314     3\n",
       "    1     2     6 J085116.69+114529.3 ... 132.819564  11.758164 2006.0844     3"
      ]
     },
     "metadata": {},
     "output_type": "display_data"
    }
   ],
   "source": [
    "vizier = Vizier(\n",
    "    column_filters={},\n",
    "    row_limit=10000\n",
    ")\n",
    "twomass_table = vizier.query_region(\n",
    "    center,\n",
    "    radius=5*u.arcmin,\n",
    "    catalog='2MASS'\n",
    ")[0]\n",
    "display(twomass_table)\n",
    "# twomass = SkyCoord.guess_from_table(twomass_table)\n",
    "twomass = SkyCoord(\n",
    "    ra=twomass_table['RAJ2000'],\n",
    "    dec=twomass_table['DEJ2000'],\n",
    "    unit=(u.deg, u.deg),\n",
    ")\n",
    "sdss_table = vizier.query_region(\n",
    "    center,\n",
    "    radius=5*u.arcmin,\n",
    "    catalog='SDSS7'\n",
    ")[0]\n",
    "display(sdss_table)\n",
    "# sdss = SkyCoord.guess_from_table(sdss_table)\n",
    "sdss = SkyCoord(\n",
    "    ra=sdss_table['RA_ICRS'],\n",
    "    dec=sdss_table['DE_ICRS'],\n",
    "    unit=(u.deg, u.deg),\n",
    ")"
   ]
  },
  {
   "cell_type": "code",
   "execution_count": 36,
   "metadata": {},
   "outputs": [
    {
     "data": {
      "text/plain": [
       "<matplotlib.collections.PathCollection at 0x7f22e4809940>"
      ]
     },
     "execution_count": 36,
     "metadata": {},
     "output_type": "execute_result"
    },
    {
     "data": {
      "image/png": "[encoded data removed]",
      "text/plain": [
       "<Figure size 432x432 with 1 Axes>"
      ]
     },
     "metadata": {},
     "output_type": "display_data"
    }
   ],
   "source": [
    "plt.figure(figsize=(6,6))\n",
    "plt.plot(twomass.ra.to_value(u.deg),\n",
    "         twomass.dec.to_value(u.deg),\n",
    "        'x', color='blue')\n",
    "plt.plot(sdss.ra.to_value(u.deg),\n",
    "         sdss.dec.to_value(u.deg),\n",
    "        '.', color='green')\n",
    "plt.scatter(center.ra.to_value(u.deg),\n",
    "            center.dec.to_value(u.deg),\n",
    "            marker='*', color='red')"
   ]
  },
  {
   "cell_type": "code",
   "execution_count": 39,
   "metadata": {},
   "outputs": [
    {
     "data": {
      "text/html": [
       "<i>Table masked=True length=13</i>\n",
       "<table id=\"table139787839466912\" class=\"table-striped table-bordered table-condensed\">\n",
       "<thead><tr><th>_q</th><th>RAJ2000</th><th>DEJ2000</th><th>_2MASS</th><th>Jmag</th><th>e_Jmag</th><th>Hmag</th><th>e_Hmag</th><th>Kmag</th><th>e_Kmag</th><th>Qflg</th><th>Rflg</th><th>Bflg</th><th>Cflg</th><th>Xflg</th><th>Aflg</th></tr></thead>\n",
       "<thead><tr><th></th><th>deg</th><th>deg</th><th></th><th>mag</th><th>mag</th><th>mag</th><th>mag</th><th>mag</th><th>mag</th><th></th><th></th><th></th><th></th><th></th><th></th></tr></thead>\n",
       "<thead><tr><th>int32</th><th>float64</th><th>float64</th><th>bytes17</th><th>float32</th><th>float32</th><th>float32</th><th>float32</th><th>float32</th><th>float32</th><th>bytes3</th><th>bytes3</th><th>bytes3</th><th>bytes3</th><th>uint8</th><th>uint8</th></tr></thead>\n",
       "<tr><td>1</td><td>132.811505</td><td>11.789971</td><td>08511476+1147238</td><td>11.747</td><td>0.021</td><td>11.495</td><td>0.022</td><td>11.430</td><td>0.018</td><td>AAA</td><td>222</td><td>111</td><td>000</td><td>0</td><td>0</td></tr>\n",
       "<tr><td>1</td><td>132.815406</td><td>11.804343</td><td>08511569+1148156</td><td>13.244</td><td>0.024</td><td>12.965</td><td>0.027</td><td>12.955</td><td>0.026</td><td>AAA</td><td>222</td><td>111</td><td>ddd</td><td>0</td><td>0</td></tr>\n",
       "<tr><td>1</td><td>132.827869</td><td>11.784062</td><td>08511868+1147026</td><td>11.017</td><td>0.021</td><td>10.619</td><td>0.020</td><td>10.529</td><td>0.018</td><td>AAA</td><td>222</td><td>111</td><td>000</td><td>0</td><td>0</td></tr>\n",
       "<tr><td>1</td><td>132.829189</td><td>11.789187</td><td>08511900+1147210</td><td>15.819</td><td>0.074</td><td>15.092</td><td>0.089</td><td>15.042</td><td>0.116</td><td>AAB</td><td>222</td><td>111</td><td>sss</td><td>0</td><td>0</td></tr>\n",
       "<tr><td>1</td><td>132.829927</td><td>11.798506</td><td>08511918+1147546</td><td>12.566</td><td>0.021</td><td>12.247</td><td>0.020</td><td>12.182</td><td>0.020</td><td>AAA</td><td>222</td><td>111</td><td>000</td><td>0</td><td>0</td></tr>\n",
       "<tr><td>1</td><td>132.821257</td><td>11.804460</td><td>08511710+1148160</td><td>8.140</td><td>0.027</td><td>7.526</td><td>0.018</td><td>7.385</td><td>0.021</td><td>AAA</td><td>111</td><td>111</td><td>000</td><td>0</td><td>0</td></tr>\n",
       "<tr><td>1</td><td>132.830069</td><td>11.807475</td><td>08511921+1148269</td><td>15.151</td><td>0.042</td><td>14.600</td><td>0.054</td><td>14.312</td><td>0.060</td><td>AAA</td><td>222</td><td>111</td><td>000</td><td>0</td><td>0</td></tr>\n",
       "<tr><td>1</td><td>132.823341</td><td>11.804540</td><td>08511760+1148163</td><td>14.616</td><td>0.023</td><td>11.767</td><td>--</td><td>11.455</td><td>--</td><td>AUU</td><td>200</td><td>100</td><td>c00</td><td>0</td><td>0</td></tr>\n",
       "<tr><td>1</td><td>132.817966</td><td>11.786548</td><td>08511631+1147115</td><td>16.762</td><td>0.164</td><td>15.665</td><td>--</td><td>15.393</td><td>--</td><td>CUU</td><td>266</td><td>200</td><td>c00</td><td>0</td><td>0</td></tr>\n",
       "<tr><td>1</td><td>132.836275</td><td>11.808737</td><td>08512070+1148314</td><td>15.468</td><td>0.048</td><td>14.843</td><td>0.066</td><td>14.562</td><td>0.074</td><td>AAA</td><td>222</td><td>111</td><td>000</td><td>0</td><td>0</td></tr>\n",
       "<tr><td>1</td><td>132.814363</td><td>11.792049</td><td>08511544+1147313</td><td>11.708</td><td>0.021</td><td>11.475</td><td>0.020</td><td>11.430</td><td>0.018</td><td>AAA</td><td>222</td><td>111</td><td>000</td><td>0</td><td>0</td></tr>\n",
       "<tr><td>1</td><td>132.832875</td><td>11.810451</td><td>08511989+1148376</td><td>15.084</td><td>0.043</td><td>14.508</td><td>0.048</td><td>14.445</td><td>0.067</td><td>AAA</td><td>222</td><td>111</td><td>000</td><td>0</td><td>0</td></tr>\n",
       "<tr><td>1</td><td>132.817027</td><td>11.787326</td><td>08511608+1147143</td><td>15.947</td><td>0.086</td><td>15.164</td><td>--</td><td>14.736</td><td>--</td><td>AUU</td><td>266</td><td>200</td><td>c00</td><td>0</td><td>0</td></tr>\n",
       "</table>"
      ],
      "text/plain": [
       "<Table masked=True length=13>\n",
       "  _q   RAJ2000    DEJ2000        _2MASS      ...  Bflg   Cflg   Xflg  Aflg\n",
       "         deg        deg                      ...                          \n",
       "int32  float64    float64       bytes17      ... bytes3 bytes3 uint8 uint8\n",
       "----- ---------- ---------- ---------------- ... ------ ------ ----- -----\n",
       "    1 132.811505  11.789971 08511476+1147238 ...    111    000     0     0\n",
       "    1 132.815406  11.804343 08511569+1148156 ...    111    ddd     0     0\n",
       "    1 132.827869  11.784062 08511868+1147026 ...    111    000     0     0\n",
       "    1 132.829189  11.789187 08511900+1147210 ...    111    sss     0     0\n",
       "    1 132.829927  11.798506 08511918+1147546 ...    111    000     0     0\n",
       "    1 132.821257  11.804460 08511710+1148160 ...    111    000     0     0\n",
       "    1 132.830069  11.807475 08511921+1148269 ...    111    000     0     0\n",
       "    1 132.823341  11.804540 08511760+1148163 ...    100    c00     0     0\n",
       "    1 132.817966  11.786548 08511631+1147115 ...    200    c00     0     0\n",
       "    1 132.836275  11.808737 08512070+1148314 ...    111    000     0     0\n",
       "    1 132.814363  11.792049 08511544+1147313 ...    111    000     0     0\n",
       "    1 132.832875  11.810451 08511989+1148376 ...    111    000     0     0\n",
       "    1 132.817027  11.787326 08511608+1147143 ...    200    c00     0     0"
      ]
     },
     "execution_count": 39,
     "metadata": {},
     "output_type": "execute_result"
    }
   ],
   "source": [
    "idx_close_to_center = center.separation(twomass) < 1 * u.arcmin\n",
    "twomass_table[idx_close_to_center]"
   ]
  },
  {
   "cell_type": "code",
   "execution_count": 43,
   "metadata": {},
   "outputs": [
    {
     "data": {
      "text/html": [
       "<i>Table masked=True length=556</i>\n",
       "<table id=\"table139787094382968\" class=\"table-striped table-bordered table-condensed\">\n",
       "<thead><tr><th>_q</th><th>RAJ2000</th><th>DEJ2000</th><th>_2MASS</th><th>Jmag</th><th>e_Jmag</th><th>Hmag</th><th>e_Hmag</th><th>Kmag</th><th>e_Kmag</th><th>Qflg</th><th>Rflg</th><th>Bflg</th><th>Cflg</th><th>Xflg</th><th>Aflg</th></tr></thead>\n",
       "<thead><tr><th></th><th>deg</th><th>deg</th><th></th><th>mag</th><th>mag</th><th>mag</th><th>mag</th><th>mag</th><th>mag</th><th></th><th></th><th></th><th></th><th></th><th></th></tr></thead>\n",
       "<thead><tr><th>int32</th><th>float64</th><th>float64</th><th>bytes17</th><th>float32</th><th>float32</th><th>float32</th><th>float32</th><th>float32</th><th>float32</th><th>bytes3</th><th>bytes3</th><th>bytes3</th><th>bytes3</th><th>uint8</th><th>uint8</th></tr></thead>\n",
       "<tr><td>1</td><td>132.810285</td><td>11.743501</td><td>08511446+1144366</td><td>13.859</td><td>0.036</td><td>13.479</td><td>0.041</td><td>13.334</td><td>0.044</td><td>AAA</td><td>222</td><td>222</td><td>ccc</td><td>0</td><td>0</td></tr>\n",
       "<tr><td>1</td><td>132.810285</td><td>11.743501</td><td>08511446+1144366</td><td>13.859</td><td>0.036</td><td>13.479</td><td>0.041</td><td>13.334</td><td>0.044</td><td>AAA</td><td>222</td><td>222</td><td>ccc</td><td>0</td><td>0</td></tr>\n",
       "<tr><td>1</td><td>132.810279</td><td>11.744696</td><td>08511446+1144409</td><td>14.176</td><td>0.028</td><td>13.650</td><td>0.023</td><td>13.598</td><td>0.036</td><td>AAA</td><td>222</td><td>222</td><td>ccc</td><td>0</td><td>0</td></tr>\n",
       "<tr><td>1</td><td>132.810279</td><td>11.744696</td><td>08511446+1144409</td><td>14.176</td><td>0.028</td><td>13.650</td><td>0.023</td><td>13.598</td><td>0.036</td><td>AAA</td><td>222</td><td>222</td><td>ccc</td><td>0</td><td>0</td></tr>\n",
       "<tr><td>1</td><td>132.793054</td><td>11.730462</td><td>08511033+1143496</td><td>16.286</td><td>0.104</td><td>15.553</td><td>0.121</td><td>15.463</td><td>0.172</td><td>ABC</td><td>222</td><td>111</td><td>000</td><td>0</td><td>0</td></tr>\n",
       "<tr><td>1</td><td>132.793054</td><td>11.730462</td><td>08511033+1143496</td><td>16.286</td><td>0.104</td><td>15.553</td><td>0.121</td><td>15.463</td><td>0.172</td><td>ABC</td><td>222</td><td>111</td><td>000</td><td>0</td><td>0</td></tr>\n",
       "<tr><td>1</td><td>132.806171</td><td>11.740373</td><td>08511348+1144253</td><td>16.506</td><td>0.123</td><td>16.310</td><td>--</td><td>15.894</td><td>--</td><td>BUU</td><td>200</td><td>100</td><td>000</td><td>0</td><td>0</td></tr>\n",
       "<tr><td>1</td><td>132.806171</td><td>11.740373</td><td>08511348+1144253</td><td>16.506</td><td>0.123</td><td>16.310</td><td>--</td><td>15.894</td><td>--</td><td>BUU</td><td>200</td><td>100</td><td>000</td><td>0</td><td>0</td></tr>\n",
       "<tr><td>1</td><td>132.786225</td><td>11.733243</td><td>08510869+1143596</td><td>16.539</td><td>0.126</td><td>16.255</td><td>0.229</td><td>15.621</td><td>--</td><td>BDU</td><td>220</td><td>110</td><td>000</td><td>0</td><td>0</td></tr>\n",
       "<tr><td>...</td><td>...</td><td>...</td><td>...</td><td>...</td><td>...</td><td>...</td><td>...</td><td>...</td><td>...</td><td>...</td><td>...</td><td>...</td><td>...</td><td>...</td><td>...</td></tr>\n",
       "<tr><td>1</td><td>132.885731</td><td>11.844612</td><td>08513257+1150406</td><td>11.730</td><td>0.022</td><td>11.657</td><td>0.020</td><td>11.617</td><td>0.020</td><td>AAA</td><td>222</td><td>111</td><td>000</td><td>0</td><td>0</td></tr>\n",
       "<tr><td>1</td><td>132.885731</td><td>11.844612</td><td>08513257+1150406</td><td>11.730</td><td>0.022</td><td>11.657</td><td>0.020</td><td>11.617</td><td>0.020</td><td>AAA</td><td>222</td><td>111</td><td>000</td><td>0</td><td>0</td></tr>\n",
       "<tr><td>1</td><td>132.802904</td><td>11.878436</td><td>08511269+1152423</td><td>8.650</td><td>0.018</td><td>8.122</td><td>0.018</td><td>7.976</td><td>0.018</td><td>AAA</td><td>111</td><td>111</td><td>000</td><td>0</td><td>0</td></tr>\n",
       "<tr><td>1</td><td>132.802904</td><td>11.878436</td><td>08511269+1152423</td><td>8.650</td><td>0.018</td><td>8.122</td><td>0.018</td><td>7.976</td><td>0.018</td><td>AAA</td><td>111</td><td>111</td><td>000</td><td>0</td><td>0</td></tr>\n",
       "<tr><td>1</td><td>132.833993</td><td>11.879987</td><td>08512015+1152479</td><td>12.772</td><td>0.022</td><td>12.545</td><td>0.020</td><td>12.457</td><td>0.021</td><td>AAA</td><td>222</td><td>111</td><td>000</td><td>0</td><td>0</td></tr>\n",
       "<tr><td>1</td><td>132.833993</td><td>11.879987</td><td>08512015+1152479</td><td>12.772</td><td>0.022</td><td>12.545</td><td>0.020</td><td>12.457</td><td>0.021</td><td>AAA</td><td>222</td><td>111</td><td>000</td><td>0</td><td>0</td></tr>\n",
       "<tr><td>1</td><td>132.856334</td><td>11.877449</td><td>08512552+1152388</td><td>12.150</td><td>0.022</td><td>11.897</td><td>0.020</td><td>11.810</td><td>0.021</td><td>AAA</td><td>222</td><td>111</td><td>000</td><td>0</td><td>0</td></tr>\n",
       "<tr><td>1</td><td>132.856334</td><td>11.877449</td><td>08512552+1152388</td><td>12.150</td><td>0.022</td><td>11.897</td><td>0.020</td><td>11.810</td><td>0.021</td><td>AAA</td><td>222</td><td>111</td><td>000</td><td>0</td><td>0</td></tr>\n",
       "<tr><td>1</td><td>132.840646</td><td>11.877172</td><td>08512175+1152378</td><td>10.105</td><td>0.023</td><td>9.816</td><td>0.022</td><td>9.760</td><td>0.018</td><td>AAA</td><td>222</td><td>111</td><td>000</td><td>0</td><td>0</td></tr>\n",
       "<tr><td>1</td><td>132.840646</td><td>11.877172</td><td>08512175+1152378</td><td>10.105</td><td>0.023</td><td>9.816</td><td>0.022</td><td>9.760</td><td>0.018</td><td>AAA</td><td>222</td><td>111</td><td>000</td><td>0</td><td>0</td></tr>\n",
       "</table>"
      ],
      "text/plain": [
       "<Table masked=True length=556>\n",
       "  _q   RAJ2000    DEJ2000        _2MASS      ...  Bflg   Cflg   Xflg  Aflg\n",
       "         deg        deg                      ...                          \n",
       "int32  float64    float64       bytes17      ... bytes3 bytes3 uint8 uint8\n",
       "----- ---------- ---------- ---------------- ... ------ ------ ----- -----\n",
       "    1 132.810285  11.743501 08511446+1144366 ...    222    ccc     0     0\n",
       "    1 132.810285  11.743501 08511446+1144366 ...    222    ccc     0     0\n",
       "    1 132.810279  11.744696 08511446+1144409 ...    222    ccc     0     0\n",
       "    1 132.810279  11.744696 08511446+1144409 ...    222    ccc     0     0\n",
       "    1 132.793054  11.730462 08511033+1143496 ...    111    000     0     0\n",
       "    1 132.793054  11.730462 08511033+1143496 ...    111    000     0     0\n",
       "    1 132.806171  11.740373 08511348+1144253 ...    100    000     0     0\n",
       "    1 132.806171  11.740373 08511348+1144253 ...    100    000     0     0\n",
       "    1 132.786225  11.733243 08510869+1143596 ...    110    000     0     0\n",
       "  ...        ...        ...              ... ...    ...    ...   ...   ...\n",
       "    1 132.885731  11.844612 08513257+1150406 ...    111    000     0     0\n",
       "    1 132.885731  11.844612 08513257+1150406 ...    111    000     0     0\n",
       "    1 132.802904  11.878436 08511269+1152423 ...    111    000     0     0\n",
       "    1 132.802904  11.878436 08511269+1152423 ...    111    000     0     0\n",
       "    1 132.833993  11.879987 08512015+1152479 ...    111    000     0     0\n",
       "    1 132.833993  11.879987 08512015+1152479 ...    111    000     0     0\n",
       "    1 132.856334  11.877449 08512552+1152388 ...    111    000     0     0\n",
       "    1 132.856334  11.877449 08512552+1152388 ...    111    000     0     0\n",
       "    1 132.840646  11.877172 08512175+1152378 ...    111    000     0     0\n",
       "    1 132.840646  11.877172 08512175+1152378 ...    111    000     0     0"
      ]
     },
     "execution_count": 43,
     "metadata": {},
     "output_type": "execute_result"
    }
   ],
   "source": [
    "idx_twomass, idx_sdss, d2d, d3d = sdss.search_around_sky(\n",
    "    twomass, 2*u.arcsec\n",
    ")\n",
    "twomass_table[idx_twomass]"
   ]
  },
  {
   "cell_type": "code",
   "execution_count": 59,
   "metadata": {},
   "outputs": [
    {
     "name": "stderr",
     "output_type": "stream",
     "text": [
      "/opt/conda/lib/python3.6/site-packages/astropy/utils/metadata.py:360: MergeConflictWarning: Cannot merge meta key 'ID' types <class 'str'> and <class 'str'>, choosing ID='II_294_sdss7'\n",
      "  MergeConflictWarning)\n",
      "/opt/conda/lib/python3.6/site-packages/astropy/utils/metadata.py:360: MergeConflictWarning: Cannot merge meta key 'name' types <class 'str'> and <class 'str'>, choosing name='II/294/sdss7'\n",
      "  MergeConflictWarning)\n",
      "/opt/conda/lib/python3.6/site-packages/astropy/utils/metadata.py:360: MergeConflictWarning: Cannot merge meta key 'description' types <class 'str'> and <class 'str'>, choosing description='* output of the SDSS photometric catalog'\n",
      "  MergeConflictWarning)\n"
     ]
    },
    {
     "data": {
      "text/html": [
       "<i>Table masked=True length=271</i>\n",
       "<table id=\"table139787093626776\" class=\"table-striped table-bordered table-condensed\">\n",
       "<thead><tr><th>_q_1</th><th>RAJ2000</th><th>DEJ2000</th><th>_2MASS</th><th>Jmag</th><th>e_Jmag</th><th>Hmag</th><th>e_Hmag</th><th>Kmag</th><th>e_Kmag</th><th>Qflg</th><th>Rflg</th><th>Bflg</th><th>Cflg</th><th>Xflg</th><th>Aflg</th><th>_q_2</th><th>mode</th><th>cl</th><th>SDSS</th><th>m_SDSS</th><th>zsp</th><th>umag</th><th>e_umag</th><th>gmag</th><th>e_gmag</th><th>rmag</th><th>e_rmag</th><th>imag</th><th>e_imag</th><th>zmag</th><th>e_zmag</th><th>RA_ICRS</th><th>DE_ICRS</th><th>ObsDate</th><th>Q</th><th>sep</th></tr></thead>\n",
       "<thead><tr><th></th><th>deg</th><th>deg</th><th></th><th>mag</th><th>mag</th><th>mag</th><th>mag</th><th>mag</th><th>mag</th><th></th><th></th><th></th><th></th><th></th><th></th><th></th><th></th><th></th><th></th><th></th><th></th><th>mag</th><th>mag</th><th>mag</th><th>mag</th><th>mag</th><th>mag</th><th>mag</th><th>mag</th><th>mag</th><th>mag</th><th>deg</th><th>deg</th><th>yr</th><th></th><th>deg</th></tr></thead>\n",
       "<thead><tr><th>int32</th><th>float64</th><th>float64</th><th>bytes17</th><th>float32</th><th>float32</th><th>float32</th><th>float32</th><th>float32</th><th>float32</th><th>bytes3</th><th>bytes3</th><th>bytes3</th><th>bytes3</th><th>uint8</th><th>uint8</th><th>int32</th><th>uint8</th><th>uint8</th><th>bytes19</th><th>bytes1</th><th>float64</th><th>float32</th><th>float32</th><th>float32</th><th>float32</th><th>float32</th><th>float32</th><th>float32</th><th>float32</th><th>float32</th><th>float32</th><th>float64</th><th>float64</th><th>float64</th><th>uint8</th><th>float64</th></tr></thead>\n",
       "<tr><td>1</td><td>132.810285</td><td>11.743501</td><td>08511446+1144366</td><td>13.859</td><td>0.036</td><td>13.479</td><td>0.041</td><td>13.334</td><td>0.044</td><td>AAA</td><td>222</td><td>222</td><td>ccc</td><td>0</td><td>0</td><td>1</td><td>1</td><td>6</td><td>J085114.46+114436.5</td><td></td><td>--</td><td>17.255</td><td>0.009</td><td>15.653</td><td>0.004</td><td>15.071</td><td>0.003</td><td>14.892</td><td>0.004</td><td>14.784</td><td>0.005</td><td>132.810253</td><td>11.743496</td><td>2006.0844</td><td>3</td><td>3.17266619626919e-05</td></tr>\n",
       "<tr><td>1</td><td>132.810279</td><td>11.744696</td><td>08511446+1144409</td><td>14.176</td><td>0.028</td><td>13.650</td><td>0.023</td><td>13.598</td><td>0.036</td><td>AAA</td><td>222</td><td>222</td><td>ccc</td><td>0</td><td>0</td><td>1</td><td>1</td><td>6</td><td>J085114.45+114440.9</td><td></td><td>--</td><td>17.981</td><td>0.013</td><td>16.210</td><td>0.004</td><td>15.399</td><td>0.003</td><td>15.203</td><td>0.004</td><td>15.341</td><td>0.005</td><td>132.810246</td><td>11.744697</td><td>2006.0844</td><td>3</td><td>3.232459429986805e-05</td></tr>\n",
       "<tr><td>1</td><td>132.793054</td><td>11.730462</td><td>08511033+1143496</td><td>16.286</td><td>0.104</td><td>15.553</td><td>0.121</td><td>15.463</td><td>0.172</td><td>ABC</td><td>222</td><td>111</td><td>000</td><td>0</td><td>0</td><td>1</td><td>1</td><td>6</td><td>J085110.32+114349.5</td><td></td><td>--</td><td>22.852</td><td>0.280</td><td>20.067</td><td>0.017</td><td>18.661</td><td>0.009</td><td>18.001</td><td>0.008</td><td>17.614</td><td>0.014</td><td>132.793028</td><td>11.730441</td><td>2006.0844</td><td>3</td><td>3.300088183610788e-05</td></tr>\n",
       "<tr><td>1</td><td>132.806171</td><td>11.740373</td><td>08511348+1144253</td><td>16.506</td><td>0.123</td><td>16.310</td><td>--</td><td>15.894</td><td>--</td><td>BUU</td><td>200</td><td>100</td><td>000</td><td>0</td><td>0</td><td>1</td><td>2</td><td>6</td><td>J085113.48+114425.6</td><td>*</td><td>--</td><td>25.300</td><td>1.040</td><td>21.810</td><td>0.071</td><td>20.392</td><td>0.030</td><td>18.975</td><td>0.013</td><td>18.226</td><td>0.025</td><td>132.806196</td><td>11.740456</td><td>2005.9314</td><td>3</td><td>8.65339410341914e-05</td></tr>\n",
       "<tr><td>1</td><td>132.786225</td><td>11.733243</td><td>08510869+1143596</td><td>16.539</td><td>0.126</td><td>16.255</td><td>0.229</td><td>15.621</td><td>--</td><td>BDU</td><td>220</td><td>110</td><td>000</td><td>0</td><td>0</td><td>1</td><td>1</td><td>6</td><td>J085108.61+114359.3</td><td></td><td>--</td><td>20.928</td><td>0.065</td><td>19.075</td><td>0.010</td><td>18.351</td><td>0.008</td><td>18.136</td><td>0.009</td><td>18.019</td><td>0.017</td><td>132.785914</td><td>11.733164</td><td>2006.0844</td><td>3</td><td>0.00031458271139627445</td></tr>\n",
       "<tr><td>1</td><td>132.817854</td><td>11.742462</td><td>08511628+1144328</td><td>12.308</td><td>0.021</td><td>12.021</td><td>0.020</td><td>11.954</td><td>0.020</td><td>AAA</td><td>222</td><td>111</td><td>000</td><td>0</td><td>0</td><td>1</td><td>1</td><td>6</td><td>J085116.28+114432.8</td><td></td><td>--</td><td>16.157</td><td>0.011</td><td>16.007</td><td>0.019</td><td>15.607</td><td>0.012</td><td>15.057</td><td>0.018</td><td>14.451</td><td>0.012</td><td>132.817833</td><td>11.742445</td><td>2006.0844</td><td>3</td><td>2.6678360157593366e-05</td></tr>\n",
       "<tr><td>1</td><td>132.839180</td><td>11.733575</td><td>08512140+1144008</td><td>14.821</td><td>0.037</td><td>14.325</td><td>0.049</td><td>14.082</td><td>0.052</td><td>AAA</td><td>222</td><td>111</td><td>cc0</td><td>0</td><td>0</td><td>1</td><td>1</td><td>6</td><td>J085121.39+114400.8</td><td></td><td>--</td><td>20.172</td><td>0.040</td><td>17.701</td><td>0.006</td><td>16.579</td><td>0.004</td><td>16.210</td><td>0.005</td><td>15.980</td><td>0.007</td><td>132.839139</td><td>11.733563</td><td>2006.0844</td><td>3</td><td>4.189846167827402e-05</td></tr>\n",
       "<tr><td>1</td><td>132.840989</td><td>11.721581</td><td>08512183+1143176</td><td>13.274</td><td>0.023</td><td>13.003</td><td>0.023</td><td>12.952</td><td>0.025</td><td>AAA</td><td>222</td><td>111</td><td>000</td><td>0</td><td>0</td><td>1</td><td>1</td><td>6</td><td>J085121.83+114317.6</td><td></td><td>--</td><td>16.307</td><td>0.007</td><td>15.082</td><td>0.005</td><td>15.596</td><td>0.012</td><td>14.390</td><td>0.005</td><td>14.292</td><td>0.006</td><td>132.840975</td><td>11.721581</td><td>2006.0844</td><td>3</td><td>1.3708049052631302e-05</td></tr>\n",
       "<tr><td>1</td><td>132.848917</td><td>11.736172</td><td>08512374+1144102</td><td>16.669</td><td>0.142</td><td>16.011</td><td>0.192</td><td>15.790</td><td>0.229</td><td>BCD</td><td>222</td><td>111</td><td>000</td><td>0</td><td>0</td><td>1</td><td>2</td><td>6</td><td>J085123.71+114410.6</td><td></td><td>--</td><td>25.270</td><td>1.038</td><td>21.171</td><td>0.042</td><td>19.661</td><td>0.018</td><td>18.613</td><td>0.011</td><td>17.967</td><td>0.021</td><td>132.848824</td><td>11.736295</td><td>2005.9314</td><td>3</td><td>0.00015303644818535168</td></tr>\n",
       "<tr><td>...</td><td>...</td><td>...</td><td>...</td><td>...</td><td>...</td><td>...</td><td>...</td><td>...</td><td>...</td><td>...</td><td>...</td><td>...</td><td>...</td><td>...</td><td>...</td><td>...</td><td>...</td><td>...</td><td>...</td><td>...</td><td>...</td><td>...</td><td>...</td><td>...</td><td>...</td><td>...</td><td>...</td><td>...</td><td>...</td><td>...</td><td>...</td><td>...</td><td>...</td><td>...</td><td>...</td><td>...</td></tr>\n",
       "<tr><td>1</td><td>132.892817</td><td>11.828841</td><td>08513427+1149438</td><td>11.804</td><td>0.022</td><td>11.569</td><td>0.022</td><td>11.522</td><td>0.020</td><td>AAA</td><td>222</td><td>111</td><td>000</td><td>0</td><td>0</td><td>1</td><td>2</td><td>6</td><td>J085134.27+114943.8</td><td>*</td><td>--</td><td>14.876</td><td>0.005</td><td>13.322</td><td>0.003</td><td>14.191</td><td>0.009</td><td>12.781</td><td>0.001</td><td>13.041</td><td>0.004</td><td>132.892807</td><td>11.828832</td><td>2006.0161</td><td>3</td><td>1.3296539552404174e-05</td></tr>\n",
       "<tr><td>1</td><td>132.892725</td><td>11.848458</td><td>08513425+1150544</td><td>12.585</td><td>0.023</td><td>12.341</td><td>0.023</td><td>12.257</td><td>0.023</td><td>AAA</td><td>222</td><td>111</td><td>000</td><td>0</td><td>0</td><td>1</td><td>1</td><td>6</td><td>J085134.25+115054.4</td><td></td><td>--</td><td>15.299</td><td>0.005</td><td>14.207</td><td>0.003</td><td>14.482</td><td>0.011</td><td>13.989</td><td>0.012</td><td>13.608</td><td>0.004</td><td>132.892711</td><td>11.848453</td><td>2005.9314</td><td>3</td><td>1.458550850287712e-05</td></tr>\n",
       "<tr><td>1</td><td>132.886145</td><td>11.841920</td><td>08513267+1150309</td><td>14.164</td><td>0.030</td><td>13.679</td><td>0.032</td><td>13.614</td><td>0.039</td><td>AAA</td><td>222</td><td>111</td><td>000</td><td>0</td><td>0</td><td>1</td><td>1</td><td>6</td><td>J085132.67+115030.8</td><td></td><td>--</td><td>18.088</td><td>0.016</td><td>16.176</td><td>0.003</td><td>15.460</td><td>0.004</td><td>15.241</td><td>0.004</td><td>15.108</td><td>0.005</td><td>132.886143</td><td>11.841908</td><td>2005.9314</td><td>3</td><td>1.2158599918403357e-05</td></tr>\n",
       "<tr><td>1</td><td>132.883952</td><td>11.834337</td><td>08513214+1150036</td><td>11.514</td><td>0.022</td><td>11.226</td><td>0.020</td><td>11.198</td><td>0.020</td><td>AAA</td><td>222</td><td>111</td><td>000</td><td>0</td><td>0</td><td>1</td><td>2</td><td>6</td><td>J085132.14+115003.5</td><td></td><td>--</td><td>14.740</td><td>0.005</td><td>14.954</td><td>0.010</td><td>14.723</td><td>0.009</td><td>14.594</td><td>0.010</td><td>13.274</td><td>0.005</td><td>132.883938</td><td>11.834324</td><td>2006.0161</td><td>3</td><td>1.8887997936612012e-05</td></tr>\n",
       "<tr><td>1</td><td>132.885801</td><td>11.814464</td><td>08513259+1148520</td><td>10.645</td><td>0.022</td><td>10.541</td><td>0.020</td><td>10.526</td><td>0.018</td><td>AAA</td><td>222</td><td>111</td><td>000</td><td>0</td><td>0</td><td>1</td><td>1</td><td>6</td><td>J085132.59+114851.9</td><td></td><td>--</td><td>14.417</td><td>0.007</td><td>14.000</td><td>0.008</td><td>11.589</td><td>0.001</td><td>13.202</td><td>0.008</td><td>13.250</td><td>0.012</td><td>132.885798</td><td>11.814436</td><td>2005.9314</td><td>3</td><td>2.815355613377517e-05</td></tr>\n",
       "<tr><td>1</td><td>132.885731</td><td>11.844612</td><td>08513257+1150406</td><td>11.730</td><td>0.022</td><td>11.657</td><td>0.020</td><td>11.617</td><td>0.020</td><td>AAA</td><td>222</td><td>111</td><td>000</td><td>0</td><td>0</td><td>1</td><td>1</td><td>6</td><td>J085132.57+115040.5</td><td></td><td>--</td><td>14.558</td><td>0.006</td><td>14.601</td><td>0.009</td><td>14.923</td><td>0.011</td><td>14.186</td><td>0.010</td><td>13.441</td><td>0.007</td><td>132.885714</td><td>11.844603</td><td>2005.9314</td><td>3</td><td>1.8916241033416936e-05</td></tr>\n",
       "<tr><td>1</td><td>132.802904</td><td>11.878436</td><td>08511269+1152423</td><td>8.650</td><td>0.018</td><td>8.122</td><td>0.018</td><td>7.976</td><td>0.018</td><td>AAA</td><td>111</td><td>111</td><td>000</td><td>0</td><td>0</td><td>1</td><td>2</td><td>6</td><td>J085112.68+115242.3</td><td></td><td>--</td><td>15.155</td><td>0.008</td><td>11.021</td><td>0.001</td><td>10.173</td><td>0.001</td><td>12.134</td><td>0.003</td><td>10.411</td><td>0.001</td><td>132.802859</td><td>11.878427</td><td>2006.0161</td><td>3</td><td>4.49466797568373e-05</td></tr>\n",
       "<tr><td>1</td><td>132.833993</td><td>11.879987</td><td>08512015+1152479</td><td>12.772</td><td>0.022</td><td>12.545</td><td>0.020</td><td>12.457</td><td>0.021</td><td>AAA</td><td>222</td><td>111</td><td>000</td><td>0</td><td>0</td><td>1</td><td>2</td><td>6</td><td>J085120.15+115247.9</td><td>*</td><td>--</td><td>15.296</td><td>0.004</td><td>14.071</td><td>0.003</td><td>13.699</td><td>0.003</td><td>14.988</td><td>0.012</td><td>13.600</td><td>0.003</td><td>132.833976</td><td>11.879981</td><td>2006.0161</td><td>3</td><td>1.7684806515114607e-05</td></tr>\n",
       "<tr><td>1</td><td>132.856334</td><td>11.877449</td><td>08512552+1152388</td><td>12.150</td><td>0.022</td><td>11.897</td><td>0.020</td><td>11.810</td><td>0.021</td><td>AAA</td><td>222</td><td>111</td><td>000</td><td>0</td><td>0</td><td>1</td><td>2</td><td>6</td><td>J085125.51+115238.7</td><td></td><td>--</td><td>14.970</td><td>0.004</td><td>14.346</td><td>0.011</td><td>13.956</td><td>0.010</td><td>15.090</td><td>0.011</td><td>13.223</td><td>0.004</td><td>132.856327</td><td>11.877434</td><td>2006.0161</td><td>3</td><td>1.649012706041507e-05</td></tr>\n",
       "<tr><td>1</td><td>132.840646</td><td>11.877172</td><td>08512175+1152378</td><td>10.105</td><td>0.023</td><td>9.816</td><td>0.022</td><td>9.760</td><td>0.018</td><td>AAA</td><td>222</td><td>111</td><td>000</td><td>0</td><td>0</td><td>1</td><td>1</td><td>6</td><td>J085121.74+115237.8</td><td></td><td>--</td><td>14.588</td><td>0.007</td><td>14.476</td><td>0.008</td><td>10.468</td><td>0.001</td><td>10.394</td><td>0.001</td><td>11.480</td><td>0.002</td><td>132.840623</td><td>11.877171</td><td>2005.9314</td><td>3</td><td>2.252979828595256e-05</td></tr>\n",
       "</table>"
      ],
      "text/plain": [
       "<Table masked=True length=271>\n",
       " _q_1  RAJ2000    DEJ2000   ...  ObsDate    Q            sep          \n",
       "         deg        deg     ...     yr                   deg          \n",
       "int32  float64    float64   ...  float64  uint8        float64        \n",
       "----- ---------- ---------- ... --------- ----- ----------------------\n",
       "    1 132.810285  11.743501 ... 2006.0844     3   3.17266619626919e-05\n",
       "    1 132.810279  11.744696 ... 2006.0844     3  3.232459429986805e-05\n",
       "    1 132.793054  11.730462 ... 2006.0844     3  3.300088183610788e-05\n",
       "    1 132.806171  11.740373 ... 2005.9314     3   8.65339410341914e-05\n",
       "    1 132.786225  11.733243 ... 2006.0844     3 0.00031458271139627445\n",
       "    1 132.817854  11.742462 ... 2006.0844     3 2.6678360157593366e-05\n",
       "    1 132.839180  11.733575 ... 2006.0844     3  4.189846167827402e-05\n",
       "    1 132.840989  11.721581 ... 2006.0844     3 1.3708049052631302e-05\n",
       "    1 132.848917  11.736172 ... 2005.9314     3 0.00015303644818535168\n",
       "  ...        ...        ... ...       ...   ...                    ...\n",
       "    1 132.892817  11.828841 ... 2006.0161     3 1.3296539552404174e-05\n",
       "    1 132.892725  11.848458 ... 2005.9314     3  1.458550850287712e-05\n",
       "    1 132.886145  11.841920 ... 2005.9314     3 1.2158599918403357e-05\n",
       "    1 132.883952  11.834337 ... 2006.0161     3 1.8887997936612012e-05\n",
       "    1 132.885801  11.814464 ... 2005.9314     3  2.815355613377517e-05\n",
       "    1 132.885731  11.844612 ... 2005.9314     3 1.8916241033416936e-05\n",
       "    1 132.802904  11.878436 ... 2006.0161     3   4.49466797568373e-05\n",
       "    1 132.833993  11.879987 ... 2006.0161     3 1.7684806515114607e-05\n",
       "    1 132.856334  11.877449 ... 2006.0161     3  1.649012706041507e-05\n",
       "    1 132.840646  11.877172 ... 2005.9314     3  2.252979828595256e-05"
      ]
     },
     "execution_count": 59,
     "metadata": {},
     "output_type": "execute_result"
    }
   ],
   "source": [
    "idx_sdss, d2d, d3d = twomass.match_to_catalog_sky(sdss)\n",
    "t = table.hstack((twomass_table, sdss_table[idx_sdss]))\n",
    "t['sep'] = d2d\n",
    "t"
   ]
  },
  {
   "cell_type": "code",
   "execution_count": null,
   "metadata": {},
   "outputs": [],
   "source": []
  }
 ],
 "metadata": {
  "kernelspec": {
   "display_name": "Python 3",
   "language": "python",
   "name": "python3"
  },
  "language_info": {
   "codemirror_mode": {
    "name": "ipython",
    "version": 3
   },
   "file_extension": ".py",
   "mimetype": "text/x-python",
   "name": "python",
   "nbconvert_exporter": "python",
   "pygments_lexer": "ipython3",
   "version": "3.6.5"
  }
 },
 "nbformat": 4,
 "nbformat_minor": 2
}
