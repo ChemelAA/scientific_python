{
 "cells": [
  {
   "cell_type": "code",
   "execution_count": 58,
   "metadata": {},
   "outputs": [
    {
     "data": {
      "application/javascript": [
       "IPython.notebook.set_autosave_interval(20000)"
      ]
     },
     "metadata": {},
     "output_type": "display_data"
    },
    {
     "name": "stdout",
     "output_type": "stream",
     "text": [
      "Autosaving every 20 seconds\n"
     ]
    }
   ],
   "source": [
    "%autosave 20\n",
    "%matplotlib inline\n",
    "\n",
    "import operator\n",
    "import math\n",
    "from functools import reduce, lru_cache\n",
    "# import cProfile\n",
    "# import timeit\n",
    "\n",
    "import matplotlib.pyplot as plt\n",
    "import numpy as np\n",
    "import numba"
   ]
  },
  {
   "cell_type": "code",
   "execution_count": 3,
   "metadata": {},
   "outputs": [],
   "source": [
    "N = 8192"
   ]
  },
  {
   "cell_type": "code",
   "execution_count": 4,
   "metadata": {},
   "outputs": [
    {
     "name": "stdout",
     "output_type": "stream",
     "text": [
      "15.2 ns ± 0.044 ns per loop (mean ± std. dev. of 7 runs, 100000000 loops each)\n"
     ]
    }
   ],
   "source": [
    "%timeit 3 + 5"
   ]
  },
  {
   "cell_type": "code",
   "execution_count": 7,
   "metadata": {},
   "outputs": [
    {
     "name": "stdout",
     "output_type": "stream",
     "text": [
      "207 µs ± 13.6 µs per loop (mean ± std. dev. of 7 runs, 10000 loops each)\n"
     ]
    }
   ],
   "source": [
    "%%timeit a = np.random.rand(N)\n",
    "b = a**2\n",
    "m = np.median(b)"
   ]
  },
  {
   "cell_type": "markdown",
   "metadata": {},
   "source": [
    "# Сложение скаляра и вектора"
   ]
  },
  {
   "cell_type": "code",
   "execution_count": 13,
   "metadata": {},
   "outputs": [],
   "source": [
    "a = np.linspace(0, 1, N)\n",
    "a += 2"
   ]
  },
  {
   "cell_type": "code",
   "execution_count": 14,
   "metadata": {
    "scrolled": true
   },
   "outputs": [
    {
     "name": "stdout",
     "output_type": "stream",
     "text": [
      "892 µs ± 2.04 µs per loop (mean ± std. dev. of 7 runs, 1000 loops each)\n"
     ]
    }
   ],
   "source": [
    "%%timeit l = np.linspace(0, 1, N).tolist()\n",
    "for i in range(len(l)):\n",
    "    l[i] += 2"
   ]
  },
  {
   "cell_type": "code",
   "execution_count": 18,
   "metadata": {},
   "outputs": [
    {
     "name": "stdout",
     "output_type": "stream",
     "text": [
      "3.63 ms ± 205 µs per loop (mean ± std. dev. of 7 runs, 100 loops each)\n"
     ]
    }
   ],
   "source": [
    "%%timeit a = np.linspace(0, 1, N)\n",
    "for i, x in enumerate(a):\n",
    "    a[i] = 2 + x"
   ]
  },
  {
   "cell_type": "code",
   "execution_count": 16,
   "metadata": {},
   "outputs": [
    {
     "name": "stdout",
     "output_type": "stream",
     "text": [
      "6.6 µs ± 19 ns per loop (mean ± std. dev. of 7 runs, 100000 loops each)\n"
     ]
    }
   ],
   "source": [
    "%%timeit a = np.linspace(0, 1, N)\n",
    "a += 2"
   ]
  },
  {
   "cell_type": "markdown",
   "metadata": {},
   "source": [
    "# Сумма элементов вектора"
   ]
  },
  {
   "cell_type": "code",
   "execution_count": 32,
   "metadata": {},
   "outputs": [
    {
     "name": "stdout",
     "output_type": "stream",
     "text": [
      "9.99 µs ± 49.4 ns per loop (mean ± std. dev. of 7 runs, 100000 loops each)\n",
      "13.5 µs ± 71.1 ns per loop (mean ± std. dev. of 7 runs, 100000 loops each)\n",
      "1.05 ms ± 3.79 µs per loop (mean ± std. dev. of 7 runs, 1000 loops each)\n",
      "520 µs ± 1.77 µs per loop (mean ± std. dev. of 7 runs, 1000 loops each)\n",
      "51.6 µs ± 165 ns per loop (mean ± std. dev. of 7 runs, 10000 loops each)\n"
     ]
    }
   ],
   "source": [
    "a = np.random.normal(0, 1, N)\n",
    "l = a.tolist()\n",
    "%timeit a.sum()\n",
    "%timeit np.sum(a)\n",
    "%timeit reduce(lambda x, y: x+y, l)\n",
    "%timeit reduce(operator.add, l)\n",
    "%timeit sum(l)"
   ]
  },
  {
   "cell_type": "code",
   "execution_count": 33,
   "metadata": {},
   "outputs": [
    {
     "name": "stdout",
     "output_type": "stream",
     "text": [
      "285 µs ± 317 ns per loop (mean ± std. dev. of 7 runs, 1000 loops each)\n"
     ]
    }
   ],
   "source": [
    "%%timeit\n",
    "s = 0\n",
    "for x in l:\n",
    "    s += x"
   ]
  },
  {
   "cell_type": "markdown",
   "metadata": {},
   "source": [
    "# `numpy` vs `math`"
   ]
  },
  {
   "cell_type": "code",
   "execution_count": 34,
   "metadata": {
    "scrolled": true
   },
   "outputs": [
    {
     "name": "stdout",
     "output_type": "stream",
     "text": [
      "221 µs ± 1.86 µs per loop (mean ± std. dev. of 7 runs, 1000 loops each)\n",
      "1.51 ms ± 3.64 µs per loop (mean ± std. dev. of 7 runs, 1000 loops each)\n",
      "2.01 µs ± 7 ns per loop (mean ± std. dev. of 7 runs, 100000 loops each)\n",
      "178 ns ± 1.05 ns per loop (mean ± std. dev. of 7 runs, 10000000 loops each)\n"
     ]
    }
   ],
   "source": [
    "a = np.random.normal(0, 1, N)\n",
    "l = a.tolist()\n",
    "%timeit np.sin(a)\n",
    "%timeit [math.sin(x) for x in l]\n",
    "%timeit np.sin(1)\n",
    "%timeit math.sin(1)"
   ]
  },
  {
   "cell_type": "markdown",
   "metadata": {},
   "source": [
    "# Объединение строк"
   ]
  },
  {
   "cell_type": "code",
   "execution_count": 42,
   "metadata": {
    "scrolled": true
   },
   "outputs": [
    {
     "name": "stdout",
     "output_type": "stream",
     "text": [
      "43.6 ms ± 185 µs per loop (mean ± std. dev. of 7 runs, 10 loops each)\n",
      "81.1 µs ± 407 ns per loop (mean ± std. dev. of 7 runs, 10000 loops each)\n"
     ]
    }
   ],
   "source": [
    "text = ['dsifiafandasadsopjop'] * N\n",
    "%timeit reduce(operator.add, text)\n",
    "%timeit ''.join(text)"
   ]
  },
  {
   "cell_type": "code",
   "execution_count": 43,
   "metadata": {
    "scrolled": true
   },
   "outputs": [
    {
     "name": "stdout",
     "output_type": "stream",
     "text": [
      "807 µs ± 6.64 µs per loop (mean ± std. dev. of 7 runs, 1000 loops each)\n"
     ]
    }
   ],
   "source": [
    "%%timeit\n",
    "s = ''\n",
    "for x in text:\n",
    "    s += x"
   ]
  },
  {
   "cell_type": "markdown",
   "metadata": {},
   "source": [
    "# Цепная дробь"
   ]
  },
  {
   "cell_type": "code",
   "execution_count": 63,
   "metadata": {},
   "outputs": [
    {
     "name": "stdout",
     "output_type": "stream",
     "text": [
      "10 ms ± 70.1 µs per loop (mean ± std. dev. of 7 runs, 100 loops each)\n",
      "6.79 ms ± 101 µs per loop (mean ± std. dev. of 7 runs, 100 loops each)\n",
      "788 µs ± 5.6 µs per loop (mean ± std. dev. of 7 runs, 1 loop each)\n"
     ]
    }
   ],
   "source": [
    "def golden_ratio_naive(n):\n",
    "    s = 1\n",
    "    for _ in range(n):\n",
    "        s = 1 + 1 / s\n",
    "    return s\n",
    "\n",
    "def golden_ratio_float(n):\n",
    "    s = 1.\n",
    "    for _ in range(n):\n",
    "        s = 1. + 1. / s\n",
    "    return s\n",
    "\n",
    "@numba.jit\n",
    "def golden_ratio_numba(n):\n",
    "    s = 1.\n",
    "    for _ in range(n):\n",
    "        s = 1. + 1. / s\n",
    "    return s\n",
    "\n",
    "%timeit golden_ratio_naive(100_000)\n",
    "%timeit golden_ratio_float(100_000)\n",
    "%timeit golden_ratio_numba(100_000)"
   ]
  },
  {
   "cell_type": "code",
   "execution_count": 61,
   "metadata": {},
   "outputs": [],
   "source": [
    "def decorator(f):\n",
    "    def g(*args, **kwargs):\n",
    "        return f(*args, **kwargs) + 1\n",
    "\n",
    "    return g\n",
    "\n",
    "@lru_cache(maxsize=10)\n",
    "@decorator\n",
    "def f(x):\n",
    "    print(x)\n",
    "    return x**2\n",
    "\n",
    "# g = decorator(f)\n",
    "# g(2)\n",
    "# decorator(np.sin)(np.pi/2)"
   ]
  },
  {
   "cell_type": "code",
   "execution_count": 62,
   "metadata": {},
   "outputs": [
    {
     "name": "stdout",
     "output_type": "stream",
     "text": [
      "1\n",
      "2\n",
      "2\n"
     ]
    }
   ],
   "source": [
    "print(f(1))\n",
    "print(f(1))"
   ]
  },
  {
   "cell_type": "code",
   "execution_count": null,
   "metadata": {},
   "outputs": [],
   "source": []
  }
 ],
 "metadata": {
  "kernelspec": {
   "display_name": "Python 3",
   "language": "python",
   "name": "python3"
  },
  "language_info": {
   "codemirror_mode": {
    "name": "ipython",
    "version": 3
   },
   "file_extension": ".py",
   "mimetype": "text/x-python",
   "name": "python",
   "nbconvert_exporter": "python",
   "pygments_lexer": "ipython3",
   "version": "3.6.5"
  }
 },
 "nbformat": 4,
 "nbformat_minor": 2
}
